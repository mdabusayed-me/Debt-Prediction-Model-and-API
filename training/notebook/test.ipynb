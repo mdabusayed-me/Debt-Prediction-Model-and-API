{
 "cells": [
  {
   "cell_type": "code",
   "execution_count": 3,
   "metadata": {},
   "outputs": [
    {
     "name": "stderr",
     "output_type": "stream",
     "text": [
      "/Users/metadesign/Desktop/projects/sust/Debt-Prediction-Model-and-API/venv/lib/python3.11/site-packages/sklearn/preprocessing/_label.py:153: DataConversionWarning: A column-vector y was passed when a 1d array was expected. Please change the shape of y to (n_samples, ), for example using ravel().\n",
      "  y = column_or_1d(y, warn=True)\n"
     ]
    },
    {
     "data": {
      "text/plain": [
       "array(['Y'], dtype='<U1')"
      ]
     },
     "execution_count": 3,
     "metadata": {},
     "output_type": "execute_result"
    }
   ],
   "source": [
    "\n",
    "import pandas as pd\n",
    "from sklearn.model_selection import train_test_split\n",
    "from sklearn.ensemble import RandomForestClassifier\n",
    "from sklearn.metrics import accuracy_score, classification_report, confusion_matrix\n",
    "from sklearn.preprocessing import LabelEncoder\n",
    "from sklearn.ensemble import RandomForestClassifier\n",
    "from sklearn.tree import DecisionTreeClassifier\n",
    "from sklearn.linear_model import LogisticRegression\n",
    "from sklearn.preprocessing import LabelEncoder\n",
    "import pickle\n",
    "\n",
    "le_gender = LabelEncoder()\n",
    "le_gender.fit_transform(['Female', 'Male'])\n",
    "\n",
    "le_married = LabelEncoder()\n",
    "le_married.fit_transform(['No', 'Yes'])\n",
    "\n",
    "le_education = LabelEncoder()\n",
    "le_education.fit_transform(['Graduate', 'Not Graduate'])\n",
    "\n",
    "le_self_employed = LabelEncoder()\n",
    "le_self_employed.fit_transform(['No', 'Yes'])\n",
    "\n",
    "le_property_area = LabelEncoder()\n",
    "le_property_area.fit_transform(['Rural', 'Semiurban', 'Urban'])\n",
    "\n",
    "le_loan_status = LabelEncoder()\n",
    "le_loan_status.fit_transform(['N', 'Y'])\n",
    "\n",
    "loaded_model = pickle.load(open('RF_2.pkl' , 'rb'))\n",
    "\n",
    "# model = joblib.load('loan_status_predict')\n",
    "# for Y\n",
    "# LP001002,Male,No,0,Graduate,No,5849,0,12000,12,1,Urban,Y\n",
    "test_input = pd.DataFrame({\n",
    "    'Gender':'Male',\n",
    "    'Married':'No',\n",
    "    'Dependents':0,\n",
    "    'Education':'Graduate',\n",
    "    'Self_Employed':'No',\n",
    "    'ApplicantIncome':5849,\n",
    "    'CoapplicantIncome':0,\n",
    "    'LoanAmount':12000,\n",
    "    'Loan_Amount_Term':12,\n",
    "    'Credit_History':1,\n",
    "    'Property_Area': 'Urban'\n",
    "},index=[0])\n",
    "\n",
    "# for N\n",
    "# LP001014,Male,Yes,0,Graduate,No,3036,2504,15800,12,0,Semiurban,N\n",
    "# test_input = pd.DataFrame({\n",
    "#     'Gender':'Male',\n",
    "#     'Married':'Yes',\n",
    "#     'Dependents':0,\n",
    "#     'Education':'Graduate',\n",
    "#     'Self_Employed':'No',\n",
    "#     'ApplicantIncome':3036,\n",
    "#     'CoapplicantIncome':2504,\n",
    "#     'LoanAmount':15800,\n",
    "#     'Loan_Amount_Term':12,\n",
    "#     'Credit_History':0,\n",
    "#     'Property_Area': 'Semiurban'\n",
    "# },index=[0])\n",
    "\n",
    "test_input['Gender']= le_gender.fit_transform(test_input['Gender'])\n",
    "test_input['Married']= le_married.fit_transform(test_input['Married'])\n",
    "test_input['Education']= le_education.fit_transform(test_input['Education'])\n",
    "test_input['Self_Employed']= le_self_employed.fit_transform(test_input['Self_Employed'])\n",
    "test_input['Property_Area']= le_property_area.fit_transform(test_input['Property_Area'])\n",
    "\n",
    "result = loaded_model.predict(test_input)\n",
    "\n",
    "le_loan_status.inverse_transform([result])\n",
    "\n"
   ]
  }
 ],
 "metadata": {
  "kernelspec": {
   "display_name": "venv",
   "language": "python",
   "name": "python3"
  },
  "language_info": {
   "codemirror_mode": {
    "name": "ipython",
    "version": 3
   },
   "file_extension": ".py",
   "mimetype": "text/x-python",
   "name": "python",
   "nbconvert_exporter": "python",
   "pygments_lexer": "ipython3",
   "version": "3.11.6"
  }
 },
 "nbformat": 4,
 "nbformat_minor": 2
}
