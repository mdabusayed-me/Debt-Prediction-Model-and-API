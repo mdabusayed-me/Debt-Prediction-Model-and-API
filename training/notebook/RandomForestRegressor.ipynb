{
  "cells": [
    {
      "cell_type": "code",
      "execution_count": 1,
      "metadata": {
        "colab": {
          "base_uri": "https://localhost:8080/"
        },
        "id": "L_N-iimSUge4",
        "outputId": "2ac399c9-6fa2-471a-8db9-3cbf2dd8b35f"
      },
      "outputs": [
        {
          "name": "stdout",
          "output_type": "stream",
          "text": [
            "Package            VersionNote: you may need to restart the kernel to use updated packages.\n",
            "\n",
            "------------------ ------------\n",
            "annotated-types    0.6.0\n",
            "anyio              3.7.1\n",
            "asttokens          2.4.1\n",
            "certifi            2023.11.17\n",
            "charset-normalizer 3.3.2\n",
            "click              8.1.7\n",
            "colorama           0.4.6\n",
            "comm               0.2.1\n",
            "debugpy            1.8.0\n",
            "decorator          5.1.1\n",
            "executing          2.0.1\n",
            "fastapi            0.105.0\n",
            "h11                0.14.0\n",
            "idna               3.6\n",
            "ipykernel          6.28.0\n",
            "ipython            8.20.0\n",
            "jedi               0.19.1\n",
            "joblib             1.3.2\n",
            "jupyter_client     8.6.0\n",
            "jupyter_core       5.7.1\n",
            "matplotlib-inline  0.1.6\n",
            "nest-asyncio       1.5.8\n",
            "numpy              1.26.3\n",
            "packaging          23.2\n",
            "pandas             2.1.4\n",
            "parso              0.8.3\n",
            "pip                23.1.2\n",
            "platformdirs       4.1.0\n",
            "prompt-toolkit     3.0.43\n",
            "psutil             5.9.7\n",
            "psycopg2-binary    2.9.9\n",
            "pure-eval          0.2.2\n",
            "pydantic           2.5.3\n",
            "pydantic_core      2.14.6\n",
            "Pygments           2.17.2\n",
            "python-dateutil    2.8.2\n",
            "python-dotenv      1.0.0\n",
            "pytz               2023.3.post1\n",
            "pywin32            306\n",
            "pyzmq              25.1.2\n",
            "requests           2.31.0\n",
            "scikit-learn       1.3.2\n",
            "scipy              1.11.4\n",
            "setuptools         65.5.0\n",
            "six                1.16.0\n",
            "sniffio            1.3.0\n",
            "stack-data         0.6.3\n",
            "starlette          0.27.0\n",
            "threadpoolctl      3.2.0\n",
            "tornado            6.4\n",
            "traitlets          5.14.1\n",
            "typing_extensions  4.9.0\n",
            "tzdata             2023.3\n",
            "urllib3            2.1.0\n",
            "uvicorn            0.25.0\n",
            "wcwidth            0.2.13\n"
          ]
        },
        {
          "name": "stderr",
          "output_type": "stream",
          "text": [
            "\n",
            "[notice] A new release of pip is available: 23.1.2 -> 23.3.2\n",
            "[notice] To update, run: c:\\Users\\HTCM\\.pyenv\\pyenv-win\\versions\\3.11.4\\python.exe -m pip install --upgrade pip\n"
          ]
        }
      ],
      "source": [
        "pip list"
      ]
    },
    {
      "cell_type": "code",
      "execution_count": 2,
      "metadata": {
        "colab": {
          "base_uri": "https://localhost:8080/",
          "height": 244
        },
        "id": "p47_B6s7UDlL",
        "outputId": "e9697cc8-d94e-48ef-8aea-08e2abce77c5"
      },
      "outputs": [
        {
          "data": {
            "text/html": [
              "<div>\n",
              "<style scoped>\n",
              "    .dataframe tbody tr th:only-of-type {\n",
              "        vertical-align: middle;\n",
              "    }\n",
              "\n",
              "    .dataframe tbody tr th {\n",
              "        vertical-align: top;\n",
              "    }\n",
              "\n",
              "    .dataframe thead th {\n",
              "        text-align: right;\n",
              "    }\n",
              "</style>\n",
              "<table border=\"1\" class=\"dataframe\">\n",
              "  <thead>\n",
              "    <tr style=\"text-align: right;\">\n",
              "      <th></th>\n",
              "      <th>gender</th>\n",
              "      <th>married</th>\n",
              "      <th>dependents</th>\n",
              "      <th>education</th>\n",
              "      <th>self_employed</th>\n",
              "      <th>applicantIncome</th>\n",
              "      <th>coapplicant_income</th>\n",
              "      <th>loan_amount</th>\n",
              "      <th>loan_amount_term</th>\n",
              "      <th>credit_history</th>\n",
              "      <th>property_area</th>\n",
              "      <th>loan_status</th>\n",
              "    </tr>\n",
              "  </thead>\n",
              "  <tbody>\n",
              "    <tr>\n",
              "      <th>0</th>\n",
              "      <td>Male</td>\n",
              "      <td>No</td>\n",
              "      <td>0</td>\n",
              "      <td>Graduate</td>\n",
              "      <td>No</td>\n",
              "      <td>5849</td>\n",
              "      <td>0</td>\n",
              "      <td>12000</td>\n",
              "      <td>12.0</td>\n",
              "      <td>1.0</td>\n",
              "      <td>Urban</td>\n",
              "      <td>Y</td>\n",
              "    </tr>\n",
              "    <tr>\n",
              "      <th>1</th>\n",
              "      <td>Male</td>\n",
              "      <td>Yes</td>\n",
              "      <td>1</td>\n",
              "      <td>Graduate</td>\n",
              "      <td>No</td>\n",
              "      <td>4583</td>\n",
              "      <td>1508</td>\n",
              "      <td>12800</td>\n",
              "      <td>12.0</td>\n",
              "      <td>1.0</td>\n",
              "      <td>Rural</td>\n",
              "      <td>N</td>\n",
              "    </tr>\n",
              "    <tr>\n",
              "      <th>2</th>\n",
              "      <td>Male</td>\n",
              "      <td>Yes</td>\n",
              "      <td>0</td>\n",
              "      <td>Graduate</td>\n",
              "      <td>Yes</td>\n",
              "      <td>3000</td>\n",
              "      <td>0</td>\n",
              "      <td>6600</td>\n",
              "      <td>12.0</td>\n",
              "      <td>1.0</td>\n",
              "      <td>Urban</td>\n",
              "      <td>Y</td>\n",
              "    </tr>\n",
              "    <tr>\n",
              "      <th>3</th>\n",
              "      <td>Male</td>\n",
              "      <td>Yes</td>\n",
              "      <td>0</td>\n",
              "      <td>Not Graduate</td>\n",
              "      <td>No</td>\n",
              "      <td>2583</td>\n",
              "      <td>2358</td>\n",
              "      <td>12000</td>\n",
              "      <td>12.0</td>\n",
              "      <td>1.0</td>\n",
              "      <td>Urban</td>\n",
              "      <td>Y</td>\n",
              "    </tr>\n",
              "    <tr>\n",
              "      <th>4</th>\n",
              "      <td>Male</td>\n",
              "      <td>No</td>\n",
              "      <td>0</td>\n",
              "      <td>Graduate</td>\n",
              "      <td>No</td>\n",
              "      <td>6000</td>\n",
              "      <td>0</td>\n",
              "      <td>14100</td>\n",
              "      <td>12.0</td>\n",
              "      <td>1.0</td>\n",
              "      <td>Urban</td>\n",
              "      <td>Y</td>\n",
              "    </tr>\n",
              "  </tbody>\n",
              "</table>\n",
              "</div>"
            ],
            "text/plain": [
              "  gender married dependents     education self_employed  applicantIncome  \\\n",
              "0   Male      No          0      Graduate            No             5849   \n",
              "1   Male     Yes          1      Graduate            No             4583   \n",
              "2   Male     Yes          0      Graduate           Yes             3000   \n",
              "3   Male     Yes          0  Not Graduate            No             2583   \n",
              "4   Male      No          0      Graduate            No             6000   \n",
              "\n",
              "  coapplicant_income  loan_amount  loan_amount_term  credit_history  \\\n",
              "0                  0        12000              12.0             1.0   \n",
              "1               1508        12800              12.0             1.0   \n",
              "2                  0         6600              12.0             1.0   \n",
              "3               2358        12000              12.0             1.0   \n",
              "4                  0        14100              12.0             1.0   \n",
              "\n",
              "  property_area loan_status  \n",
              "0         Urban           Y  \n",
              "1         Rural           N  \n",
              "2         Urban           Y  \n",
              "3         Urban           Y  \n",
              "4         Urban           Y  "
            ]
          },
          "execution_count": 2,
          "metadata": {},
          "output_type": "execute_result"
        }
      ],
      "source": [
        "# Use Pandas to do our dataprocessing on the dataset\n",
        "import numpy as np\n",
        "import pandas as pd\n",
        "import requests\n",
        "api_url = \"https://raw.githubusercontent.com/abpZ3R0/LOAN-DATA/main/dataset_2_train.csv\"\n",
        "res = requests.get(api_url)\n",
        "df = pd.DataFrame(res.json()[\"data\"])\n",
        "df = df. drop('loan_id', axis=1)\n",
        "df.head()"
      ]
    },
    {
      "cell_type": "code",
      "execution_count": 3,
      "metadata": {
        "colab": {
          "base_uri": "https://localhost:8080/",
          "height": 244
        },
        "id": "S2dyItT1SIZD",
        "outputId": "06d17a97-e58d-433b-9703-569501db91f5"
      },
      "outputs": [
        {
          "data": {
            "text/html": [
              "<div>\n",
              "<style scoped>\n",
              "    .dataframe tbody tr th:only-of-type {\n",
              "        vertical-align: middle;\n",
              "    }\n",
              "\n",
              "    .dataframe tbody tr th {\n",
              "        vertical-align: top;\n",
              "    }\n",
              "\n",
              "    .dataframe thead th {\n",
              "        text-align: right;\n",
              "    }\n",
              "</style>\n",
              "<table border=\"1\" class=\"dataframe\">\n",
              "  <thead>\n",
              "    <tr style=\"text-align: right;\">\n",
              "      <th></th>\n",
              "      <th>gender</th>\n",
              "      <th>married</th>\n",
              "      <th>dependents</th>\n",
              "      <th>education</th>\n",
              "      <th>self_employed</th>\n",
              "      <th>applicantIncome</th>\n",
              "      <th>coapplicant_income</th>\n",
              "      <th>loan_amount</th>\n",
              "      <th>loan_amount_term</th>\n",
              "      <th>credit_history</th>\n",
              "      <th>property_area</th>\n",
              "      <th>loan_status</th>\n",
              "    </tr>\n",
              "  </thead>\n",
              "  <tbody>\n",
              "    <tr>\n",
              "      <th>0</th>\n",
              "      <td>Male</td>\n",
              "      <td>No</td>\n",
              "      <td>0</td>\n",
              "      <td>Graduate</td>\n",
              "      <td>No</td>\n",
              "      <td>5849</td>\n",
              "      <td>0</td>\n",
              "      <td>12000</td>\n",
              "      <td>12.0</td>\n",
              "      <td>1.0</td>\n",
              "      <td>Urban</td>\n",
              "      <td>Y</td>\n",
              "    </tr>\n",
              "    <tr>\n",
              "      <th>1</th>\n",
              "      <td>Male</td>\n",
              "      <td>Yes</td>\n",
              "      <td>1</td>\n",
              "      <td>Graduate</td>\n",
              "      <td>No</td>\n",
              "      <td>4583</td>\n",
              "      <td>1508</td>\n",
              "      <td>12800</td>\n",
              "      <td>12.0</td>\n",
              "      <td>1.0</td>\n",
              "      <td>Rural</td>\n",
              "      <td>N</td>\n",
              "    </tr>\n",
              "    <tr>\n",
              "      <th>2</th>\n",
              "      <td>Male</td>\n",
              "      <td>Yes</td>\n",
              "      <td>0</td>\n",
              "      <td>Graduate</td>\n",
              "      <td>Yes</td>\n",
              "      <td>3000</td>\n",
              "      <td>0</td>\n",
              "      <td>6600</td>\n",
              "      <td>12.0</td>\n",
              "      <td>1.0</td>\n",
              "      <td>Urban</td>\n",
              "      <td>Y</td>\n",
              "    </tr>\n",
              "    <tr>\n",
              "      <th>3</th>\n",
              "      <td>Male</td>\n",
              "      <td>Yes</td>\n",
              "      <td>0</td>\n",
              "      <td>Not Graduate</td>\n",
              "      <td>No</td>\n",
              "      <td>2583</td>\n",
              "      <td>2358</td>\n",
              "      <td>12000</td>\n",
              "      <td>12.0</td>\n",
              "      <td>1.0</td>\n",
              "      <td>Urban</td>\n",
              "      <td>Y</td>\n",
              "    </tr>\n",
              "    <tr>\n",
              "      <th>4</th>\n",
              "      <td>Male</td>\n",
              "      <td>No</td>\n",
              "      <td>0</td>\n",
              "      <td>Graduate</td>\n",
              "      <td>No</td>\n",
              "      <td>6000</td>\n",
              "      <td>0</td>\n",
              "      <td>14100</td>\n",
              "      <td>12.0</td>\n",
              "      <td>1.0</td>\n",
              "      <td>Urban</td>\n",
              "      <td>Y</td>\n",
              "    </tr>\n",
              "  </tbody>\n",
              "</table>\n",
              "</div>"
            ],
            "text/plain": [
              "  gender married dependents     education self_employed  applicantIncome  \\\n",
              "0   Male      No          0      Graduate            No             5849   \n",
              "1   Male     Yes          1      Graduate            No             4583   \n",
              "2   Male     Yes          0      Graduate           Yes             3000   \n",
              "3   Male     Yes          0  Not Graduate            No             2583   \n",
              "4   Male      No          0      Graduate            No             6000   \n",
              "\n",
              "  coapplicant_income  loan_amount  loan_amount_term  credit_history  \\\n",
              "0                  0        12000              12.0             1.0   \n",
              "1               1508        12800              12.0             1.0   \n",
              "2                  0         6600              12.0             1.0   \n",
              "3               2358        12000              12.0             1.0   \n",
              "4                  0        14100              12.0             1.0   \n",
              "\n",
              "  property_area loan_status  \n",
              "0         Urban           Y  \n",
              "1         Rural           N  \n",
              "2         Urban           Y  \n",
              "3         Urban           Y  \n",
              "4         Urban           Y  "
            ]
          },
          "execution_count": 3,
          "metadata": {},
          "output_type": "execute_result"
        }
      ],
      "source": [
        "df.head()"
      ]
    },
    {
      "cell_type": "code",
      "execution_count": 4,
      "metadata": {
        "colab": {
          "base_uri": "https://localhost:8080/"
        },
        "id": "C5uzb1m2UDlL",
        "outputId": "88ddeb66-e16b-4fe4-aae8-9e509333ff62"
      },
      "outputs": [
        {
          "data": {
            "text/plain": [
              "gender                 object\n",
              "married                object\n",
              "dependents             object\n",
              "education              object\n",
              "self_employed          object\n",
              "applicantIncome         int64\n",
              "coapplicant_income     object\n",
              "loan_amount             int64\n",
              "loan_amount_term      float64\n",
              "credit_history        float64\n",
              "property_area          object\n",
              "loan_status            object\n",
              "dtype: object"
            ]
          },
          "execution_count": 4,
          "metadata": {},
          "output_type": "execute_result"
        }
      ],
      "source": [
        "# Check the size/shape of our dataset\n",
        "df.dtypes"
      ]
    },
    {
      "cell_type": "code",
      "execution_count": 5,
      "metadata": {
        "colab": {
          "base_uri": "https://localhost:8080/"
        },
        "id": "-OR6EHSZUDlM",
        "outputId": "3a2487ee-66dc-4e53-d694-1930af148b86"
      },
      "outputs": [
        {
          "data": {
            "text/plain": [
              "gender                13\n",
              "married                3\n",
              "dependents            15\n",
              "education              0\n",
              "self_employed          2\n",
              "applicantIncome        0\n",
              "coapplicant_income     0\n",
              "loan_amount            0\n",
              "loan_amount_term       0\n",
              "credit_history        50\n",
              "property_area          0\n",
              "loan_status            0\n",
              "dtype: int64"
            ]
          },
          "execution_count": 5,
          "metadata": {},
          "output_type": "execute_result"
        }
      ],
      "source": [
        "df.isnull().sum()"
      ]
    },
    {
      "cell_type": "code",
      "execution_count": 6,
      "metadata": {
        "colab": {
          "base_uri": "https://localhost:8080/"
        },
        "id": "-z4q_M70UDlM",
        "outputId": "8566d98a-bb59-43ca-d873-37726ec4d51f"
      },
      "outputs": [
        {
          "data": {
            "text/plain": [
              "gender                0\n",
              "married               0\n",
              "dependents            0\n",
              "education             0\n",
              "self_employed         0\n",
              "applicantIncome       0\n",
              "coapplicant_income    0\n",
              "loan_amount           0\n",
              "loan_amount_term      0\n",
              "credit_history        0\n",
              "property_area         0\n",
              "loan_status           0\n",
              "dtype: int64"
            ]
          },
          "execution_count": 6,
          "metadata": {},
          "output_type": "execute_result"
        }
      ],
      "source": [
        "#Missing value\n",
        "df['gender'].fillna(df['gender'].mode()[0], inplace=True)\n",
        "\n",
        "df['married'].fillna(df['married'].mode()[0], inplace=True)\n",
        "\n",
        "df['dependents'].fillna(df['dependents'].mode()[0.0], inplace=True)\n",
        "\n",
        "df['self_employed'].fillna(df['self_employed'].mode()[0], inplace=True)\n",
        "\n",
        "df['loan_amount_term'].fillna(df['loan_amount_term'].mode()[0], inplace=True)\n",
        "\n",
        "df['credit_history'].fillna(df['credit_history'].mode()[0], inplace=True)\n",
        "\n",
        "df['loan_amount'].fillna(df['loan_amount'].mean(), inplace=True)\n",
        "\n",
        "df.isnull().sum()"
      ]
    },
    {
      "cell_type": "code",
      "execution_count": 7,
      "metadata": {
        "colab": {
          "base_uri": "https://localhost:8080/",
          "height": 244
        },
        "id": "03eIgXqXbWhG",
        "outputId": "61ae1a48-b80c-45c7-d6f8-e10970b8e81d"
      },
      "outputs": [
        {
          "data": {
            "text/html": [
              "<div>\n",
              "<style scoped>\n",
              "    .dataframe tbody tr th:only-of-type {\n",
              "        vertical-align: middle;\n",
              "    }\n",
              "\n",
              "    .dataframe tbody tr th {\n",
              "        vertical-align: top;\n",
              "    }\n",
              "\n",
              "    .dataframe thead th {\n",
              "        text-align: right;\n",
              "    }\n",
              "</style>\n",
              "<table border=\"1\" class=\"dataframe\">\n",
              "  <thead>\n",
              "    <tr style=\"text-align: right;\">\n",
              "      <th></th>\n",
              "      <th>gender</th>\n",
              "      <th>married</th>\n",
              "      <th>dependents</th>\n",
              "      <th>education</th>\n",
              "      <th>self_employed</th>\n",
              "      <th>applicantIncome</th>\n",
              "      <th>coapplicant_income</th>\n",
              "      <th>loan_amount</th>\n",
              "      <th>loan_amount_term</th>\n",
              "      <th>credit_history</th>\n",
              "      <th>property_area</th>\n",
              "      <th>loan_status</th>\n",
              "    </tr>\n",
              "  </thead>\n",
              "  <tbody>\n",
              "    <tr>\n",
              "      <th>0</th>\n",
              "      <td>Male</td>\n",
              "      <td>No</td>\n",
              "      <td>0</td>\n",
              "      <td>Graduate</td>\n",
              "      <td>No</td>\n",
              "      <td>5849</td>\n",
              "      <td>0</td>\n",
              "      <td>12000</td>\n",
              "      <td>12.0</td>\n",
              "      <td>1.0</td>\n",
              "      <td>Urban</td>\n",
              "      <td>Y</td>\n",
              "    </tr>\n",
              "    <tr>\n",
              "      <th>1</th>\n",
              "      <td>Male</td>\n",
              "      <td>Yes</td>\n",
              "      <td>1</td>\n",
              "      <td>Graduate</td>\n",
              "      <td>No</td>\n",
              "      <td>4583</td>\n",
              "      <td>1508</td>\n",
              "      <td>12800</td>\n",
              "      <td>12.0</td>\n",
              "      <td>1.0</td>\n",
              "      <td>Rural</td>\n",
              "      <td>N</td>\n",
              "    </tr>\n",
              "    <tr>\n",
              "      <th>2</th>\n",
              "      <td>Male</td>\n",
              "      <td>Yes</td>\n",
              "      <td>0</td>\n",
              "      <td>Graduate</td>\n",
              "      <td>Yes</td>\n",
              "      <td>3000</td>\n",
              "      <td>0</td>\n",
              "      <td>6600</td>\n",
              "      <td>12.0</td>\n",
              "      <td>1.0</td>\n",
              "      <td>Urban</td>\n",
              "      <td>Y</td>\n",
              "    </tr>\n",
              "    <tr>\n",
              "      <th>3</th>\n",
              "      <td>Male</td>\n",
              "      <td>Yes</td>\n",
              "      <td>0</td>\n",
              "      <td>Not Graduate</td>\n",
              "      <td>No</td>\n",
              "      <td>2583</td>\n",
              "      <td>2358</td>\n",
              "      <td>12000</td>\n",
              "      <td>12.0</td>\n",
              "      <td>1.0</td>\n",
              "      <td>Urban</td>\n",
              "      <td>Y</td>\n",
              "    </tr>\n",
              "    <tr>\n",
              "      <th>4</th>\n",
              "      <td>Male</td>\n",
              "      <td>No</td>\n",
              "      <td>0</td>\n",
              "      <td>Graduate</td>\n",
              "      <td>No</td>\n",
              "      <td>6000</td>\n",
              "      <td>0</td>\n",
              "      <td>14100</td>\n",
              "      <td>12.0</td>\n",
              "      <td>1.0</td>\n",
              "      <td>Urban</td>\n",
              "      <td>Y</td>\n",
              "    </tr>\n",
              "  </tbody>\n",
              "</table>\n",
              "</div>"
            ],
            "text/plain": [
              "  gender married dependents     education self_employed  applicantIncome  \\\n",
              "0   Male      No          0      Graduate            No             5849   \n",
              "1   Male     Yes          1      Graduate            No             4583   \n",
              "2   Male     Yes          0      Graduate           Yes             3000   \n",
              "3   Male     Yes          0  Not Graduate            No             2583   \n",
              "4   Male      No          0      Graduate            No             6000   \n",
              "\n",
              "  coapplicant_income  loan_amount  loan_amount_term  credit_history  \\\n",
              "0                  0        12000              12.0             1.0   \n",
              "1               1508        12800              12.0             1.0   \n",
              "2                  0         6600              12.0             1.0   \n",
              "3               2358        12000              12.0             1.0   \n",
              "4                  0        14100              12.0             1.0   \n",
              "\n",
              "  property_area loan_status  \n",
              "0         Urban           Y  \n",
              "1         Rural           N  \n",
              "2         Urban           Y  \n",
              "3         Urban           Y  \n",
              "4         Urban           Y  "
            ]
          },
          "execution_count": 7,
          "metadata": {},
          "output_type": "execute_result"
        }
      ],
      "source": [
        "df.head()"
      ]
    },
    {
      "cell_type": "code",
      "execution_count": 8,
      "metadata": {
        "id": "U1kYLN6ATDNL"
      },
      "outputs": [],
      "source": [
        "\n",
        "import json\n",
        "import pickle\n",
        "from os import environ as env\n",
        "from typing import Dict, List\n",
        "from sklearn import metrics\n",
        "import pandas as pd\n",
        "from fastapi import APIRouter, Body\n",
        "from pydantic import BaseModel\n",
        "from sklearn.preprocessing import LabelEncoder\n",
        "\n"
      ]
    },
    {
      "cell_type": "code",
      "execution_count": 9,
      "metadata": {},
      "outputs": [],
      "source": [
        "le_gender = LabelEncoder()\n",
        "df['gender'] = le_gender.fit_transform(df['gender'])\n",
        "\n",
        "le_married = LabelEncoder()\n",
        "df['married'] = le_married.fit_transform(df['married'])\n",
        "\n",
        "le_education = LabelEncoder()\n",
        "df['education'] = le_education.fit_transform(df['education'])\n",
        "\n",
        "le_self_employed = LabelEncoder()\n",
        "df['self_employed'] = le_self_employed.fit_transform(df['self_employed'])\n",
        "\n",
        "le_property_area = LabelEncoder()\n",
        "df['property_area'] = le_property_area.fit_transform(df['property_area'])\n",
        "\n",
        "le_loan_status = LabelEncoder()\n",
        "df['loan_status'] = le_loan_status.fit_transform(df['loan_status'])"
      ]
    },
    {
      "cell_type": "code",
      "execution_count": null,
      "metadata": {},
      "outputs": [],
      "source": [
        "training\\notebook\\RandomForestRegressor.ipynb"
      ]
    },
    {
      "cell_type": "code",
      "execution_count": 13,
      "metadata": {
        "colab": {
          "base_uri": "https://localhost:8080/",
          "height": 176
        },
        "id": "OZgk82CfTW5D",
        "outputId": "6cc24d4a-7a66-4355-fc7c-6a2799ea776c"
      },
      "outputs": [],
      "source": [
        "model = pickle.load(open('../../files/pkl/RFRegression.pkl', 'rb'))"
      ]
    },
    {
      "cell_type": "code",
      "execution_count": 25,
      "metadata": {},
      "outputs": [
        {
          "data": {
            "text/html": [
              "<div>\n",
              "<style scoped>\n",
              "    .dataframe tbody tr th:only-of-type {\n",
              "        vertical-align: middle;\n",
              "    }\n",
              "\n",
              "    .dataframe tbody tr th {\n",
              "        vertical-align: top;\n",
              "    }\n",
              "\n",
              "    .dataframe thead th {\n",
              "        text-align: right;\n",
              "    }\n",
              "</style>\n",
              "<table border=\"1\" class=\"dataframe\">\n",
              "  <thead>\n",
              "    <tr style=\"text-align: right;\">\n",
              "      <th></th>\n",
              "      <th>gender</th>\n",
              "      <th>married</th>\n",
              "      <th>dependents</th>\n",
              "      <th>education</th>\n",
              "      <th>self_employed</th>\n",
              "      <th>applicantIncome</th>\n",
              "      <th>coapplicant_income</th>\n",
              "      <th>loan_amount</th>\n",
              "      <th>loan_amount_term</th>\n",
              "      <th>credit_history</th>\n",
              "      <th>property_area</th>\n",
              "      <th>loan_status</th>\n",
              "    </tr>\n",
              "  </thead>\n",
              "  <tbody>\n",
              "    <tr>\n",
              "      <th>0</th>\n",
              "      <td>1</td>\n",
              "      <td>0</td>\n",
              "      <td>0</td>\n",
              "      <td>0</td>\n",
              "      <td>0</td>\n",
              "      <td>5849</td>\n",
              "      <td>0</td>\n",
              "      <td>12000</td>\n",
              "      <td>12.0</td>\n",
              "      <td>1.0</td>\n",
              "      <td>2</td>\n",
              "      <td>1</td>\n",
              "    </tr>\n",
              "    <tr>\n",
              "      <th>1</th>\n",
              "      <td>1</td>\n",
              "      <td>1</td>\n",
              "      <td>1</td>\n",
              "      <td>0</td>\n",
              "      <td>0</td>\n",
              "      <td>4583</td>\n",
              "      <td>1508</td>\n",
              "      <td>12800</td>\n",
              "      <td>12.0</td>\n",
              "      <td>1.0</td>\n",
              "      <td>0</td>\n",
              "      <td>0</td>\n",
              "    </tr>\n",
              "    <tr>\n",
              "      <th>2</th>\n",
              "      <td>1</td>\n",
              "      <td>1</td>\n",
              "      <td>0</td>\n",
              "      <td>0</td>\n",
              "      <td>1</td>\n",
              "      <td>3000</td>\n",
              "      <td>0</td>\n",
              "      <td>6600</td>\n",
              "      <td>12.0</td>\n",
              "      <td>1.0</td>\n",
              "      <td>2</td>\n",
              "      <td>1</td>\n",
              "    </tr>\n",
              "    <tr>\n",
              "      <th>3</th>\n",
              "      <td>1</td>\n",
              "      <td>1</td>\n",
              "      <td>0</td>\n",
              "      <td>1</td>\n",
              "      <td>0</td>\n",
              "      <td>2583</td>\n",
              "      <td>2358</td>\n",
              "      <td>12000</td>\n",
              "      <td>12.0</td>\n",
              "      <td>1.0</td>\n",
              "      <td>2</td>\n",
              "      <td>1</td>\n",
              "    </tr>\n",
              "    <tr>\n",
              "      <th>4</th>\n",
              "      <td>1</td>\n",
              "      <td>0</td>\n",
              "      <td>0</td>\n",
              "      <td>0</td>\n",
              "      <td>0</td>\n",
              "      <td>6000</td>\n",
              "      <td>0</td>\n",
              "      <td>14100</td>\n",
              "      <td>12.0</td>\n",
              "      <td>1.0</td>\n",
              "      <td>2</td>\n",
              "      <td>1</td>\n",
              "    </tr>\n",
              "  </tbody>\n",
              "</table>\n",
              "</div>"
            ],
            "text/plain": [
              "   gender  married dependents  education  self_employed  applicantIncome  \\\n",
              "0       1        0          0          0              0             5849   \n",
              "1       1        1          1          0              0             4583   \n",
              "2       1        1          0          0              1             3000   \n",
              "3       1        1          0          1              0             2583   \n",
              "4       1        0          0          0              0             6000   \n",
              "\n",
              "  coapplicant_income  loan_amount  loan_amount_term  credit_history  \\\n",
              "0                  0        12000              12.0             1.0   \n",
              "1               1508        12800              12.0             1.0   \n",
              "2                  0         6600              12.0             1.0   \n",
              "3               2358        12000              12.0             1.0   \n",
              "4                  0        14100              12.0             1.0   \n",
              "\n",
              "   property_area  loan_status  \n",
              "0              2            1  \n",
              "1              0            0  \n",
              "2              2            1  \n",
              "3              2            1  \n",
              "4              2            1  "
            ]
          },
          "execution_count": 25,
          "metadata": {},
          "output_type": "execute_result"
        }
      ],
      "source": [
        "df.head()"
      ]
    },
    {
      "cell_type": "code",
      "execution_count": 28,
      "metadata": {
        "id": "fEfD8aNzTghE"
      },
      "outputs": [],
      "source": [
        "#0\tMale\tNo\t0\tGraduate\t    No\t5849\t0\t    12000\t12.0\t1.0\tUrban\tY\n",
        "#1\tMale\tYes\t1\tGraduate\t    No\t4583\t1508\t12800\t12.0\t1.0\tRural\tN\n",
        "#2\tMale\tYes\t0\tGraduate\t    Yes\t3000\t0\t    6600\t12.0\t1.0\tUrban\tY\n",
        "#3\tMale\tYes\t0\tNot Graduate\tNo\t2583\t2358\t12000\t12.0\t1.0\tUrban\tY\n",
        "#4\tMale\tNo\t0\tGraduate\t    No\t6000\t0\t    14100\t12.0\t1.0\tUrban\tY\n",
        "\n",
        "test_input = pd.DataFrame({\n",
        "    'gender':'Male',\n",
        "    'married':'Yes',\n",
        "    'dependents':0,\n",
        "    'education':'Graduate',\n",
        "    'self_employed':'Yes',\n",
        "    'applicantIncome':3000,\n",
        "    'coapplicant_income':0,\n",
        "    'loan_amount':6600,\n",
        "    'loan_amount_term':360,\n",
        "    'credit_history':1,\n",
        "    'property_area': 'Urban'\n",
        "},index=[0])\n",
        "\n",
        "test_input['gender']= le_gender.fit_transform(test_input['gender'])\n",
        "test_input['married']= le_married.fit_transform(test_input['married'])\n",
        "test_input['education']= le_education.fit_transform(test_input['education'])\n",
        "test_input['self_employed']= le_self_employed.fit_transform(test_input['self_employed'])\n",
        "test_input['property_area']= le_property_area.fit_transform(test_input['property_area'])"
      ]
    },
    {
      "cell_type": "code",
      "execution_count": 18,
      "metadata": {},
      "outputs": [],
      "source": [
        "test_input_2 = pd.DataFrame({\n",
        "    'gender':'Male',\n",
        "    'married':'Yes',\n",
        "    'dependents':0,\n",
        "    'education':'Graduate',\n",
        "    'self_employed':'Yes',\n",
        "    'applicantIncome':3036,\n",
        "    'coapplicant_income':0,\n",
        "    'loan_amount':15800,\n",
        "    'loan_amount_term':12,\n",
        "    'credit_history':1,\n",
        "    'property_area': 'Urban'\n",
        "},index=[0])\n",
        "\n",
        "test_input_2['gender']= le_gender.fit_transform(test_input_2['gender'])\n",
        "test_input_2['married']= le_married.fit_transform(test_input_2['married'])\n",
        "test_input_2['education']= le_education.fit_transform(test_input_2['education'])\n",
        "test_input_2['self_employed']= le_self_employed.fit_transform(test_input_2['self_employed'])\n",
        "test_input_2['property_area']= le_property_area.fit_transform(test_input_2['property_area'])"
      ]
    },
    {
      "cell_type": "code",
      "execution_count": 19,
      "metadata": {},
      "outputs": [],
      "source": [
        "test_input_3 = pd.DataFrame({\n",
        "    'gender':'Male',\n",
        "    'married':'Yes',\n",
        "    'dependents':1,\n",
        "    'education':'Graduate',\n",
        "    'self_employed':'No',\n",
        "    'applicantIncome':4583,\n",
        "    'coapplicant_income':1508,\n",
        "    'loan_amount':12800,\n",
        "    'loan_amount_term':360,\n",
        "    'credit_history':1,\n",
        "    'property_area': 'Semiurban'\n",
        "},index=[0])\n",
        "\n",
        "test_input_3['gender']= le_gender.fit_transform(test_input_3['gender'])\n",
        "test_input_3['married']= le_married.fit_transform(test_input_3['married'])\n",
        "test_input_3['education']= le_education.fit_transform(test_input_3['education'])\n",
        "test_input_3['self_employed']= le_self_employed.fit_transform(test_input_3['self_employed'])\n",
        "test_input_3['property_area']= le_property_area.fit_transform(test_input_3['property_area'])"
      ]
    },
    {
      "cell_type": "code",
      "execution_count": 20,
      "metadata": {},
      "outputs": [],
      "source": [
        "test_input_4 = pd.DataFrame({\n",
        "    'gender':'Male',\n",
        "    'married':'No',\n",
        "    'dependents':3,\n",
        "    'education':'Graduate',\n",
        "    'self_employed':'No',\n",
        "    'applicantIncome':0,\n",
        "    'coapplicant_income':0,\n",
        "    'loan_amount':158000,\n",
        "    'loan_amount_term':12,\n",
        "    'credit_history':0,\n",
        "    'property_area': 'Rural'\n",
        "},index=[0])\n",
        "\n",
        "test_input_4['gender']= le_gender.fit_transform(test_input_4['gender'])\n",
        "test_input_4['married']= le_married.fit_transform(test_input_4['married'])\n",
        "test_input_4['education']= le_education.fit_transform(test_input_4['education'])\n",
        "test_input_4['self_employed']= le_self_employed.fit_transform(test_input_4['self_employed'])\n",
        "test_input_4['property_area']= le_property_area.fit_transform(test_input_4['property_area'])"
      ]
    },
    {
      "cell_type": "code",
      "execution_count": 29,
      "metadata": {
        "colab": {
          "base_uri": "https://localhost:8080/"
        },
        "id": "fXiwC8jaU2Wl",
        "outputId": "fba05b9e-10fe-4d6f-d0b0-fa3d14ee6c64"
      },
      "outputs": [
        {
          "data": {
            "text/plain": [
              "array(['N'], dtype=object)"
            ]
          },
          "execution_count": 29,
          "metadata": {},
          "output_type": "execute_result"
        }
      ],
      "source": [
        "result = model.predict(test_input)\n",
        "result = np.round(result).astype(int)\n",
        "result\n",
        "le_loan_status.inverse_transform(result)"
      ]
    },
    {
      "cell_type": "code",
      "execution_count": 22,
      "metadata": {
        "id": "A6k01D4iVKLZ"
      },
      "outputs": [
        {
          "data": {
            "text/plain": [
              "array(['N'], dtype=object)"
            ]
          },
          "execution_count": 22,
          "metadata": {},
          "output_type": "execute_result"
        }
      ],
      "source": [
        "result = model.predict(test_input_2)\n",
        "result = np.round(result).astype(int)\n",
        "result\n",
        "le_loan_status.inverse_transform(result)"
      ]
    },
    {
      "cell_type": "code",
      "execution_count": 23,
      "metadata": {},
      "outputs": [
        {
          "data": {
            "text/plain": [
              "array(['N'], dtype=object)"
            ]
          },
          "execution_count": 23,
          "metadata": {},
          "output_type": "execute_result"
        }
      ],
      "source": [
        "result = model.predict(test_input_3)\n",
        "result = np.round(result).astype(int)\n",
        "result\n",
        "le_loan_status.inverse_transform(result)"
      ]
    },
    {
      "cell_type": "code",
      "execution_count": 24,
      "metadata": {},
      "outputs": [
        {
          "data": {
            "text/plain": [
              "array(['Y'], dtype=object)"
            ]
          },
          "execution_count": 24,
          "metadata": {},
          "output_type": "execute_result"
        }
      ],
      "source": [
        "result = model.predict(test_input_4)\n",
        "result = np.round(result).astype(int)\n",
        "result\n",
        "le_loan_status.inverse_transform(result)"
      ]
    }
  ],
  "metadata": {
    "colab": {
      "provenance": []
    },
    "kernelspec": {
      "display_name": "Python 3",
      "name": "python3"
    },
    "language_info": {
      "codemirror_mode": {
        "name": "ipython",
        "version": 3
      },
      "file_extension": ".py",
      "mimetype": "text/x-python",
      "name": "python",
      "nbconvert_exporter": "python",
      "pygments_lexer": "ipython3",
      "version": "3.11.4"
    }
  },
  "nbformat": 4,
  "nbformat_minor": 0
}
