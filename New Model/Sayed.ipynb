{
 "cells": [
  {
   "cell_type": "code",
   "execution_count": 1,
   "metadata": {},
   "outputs": [],
   "source": [
    "import pandas as pd\n",
    "from sklearn.model_selection import train_test_split\n",
    "from sklearn.ensemble import RandomForestClassifier\n",
    "from sklearn.metrics import accuracy_score, classification_report\n",
    "import requests"
   ]
  },
  {
   "cell_type": "code",
   "execution_count": 2,
   "metadata": {},
   "outputs": [],
   "source": [
    "# Load your dataset\n",
    "# Assuming you have your train and test datasets in CSV files named 'train.csv' and 'test.csv'\n",
    "api_url= \"https://debt-api-4301881a2ff8.herokuapp.com/loan/get_all\"\n",
    "res = requests.get(api_url)\n",
    "train_data = pd.DataFrame(res.json()[\"data\"])\n",
    "test_data = pd.read_csv('test.csv')\n"
   ]
  },
  {
   "cell_type": "code",
   "execution_count": 3,
   "metadata": {},
   "outputs": [
    {
     "data": {
      "text/html": [
       "<div>\n",
       "<style scoped>\n",
       "    .dataframe tbody tr th:only-of-type {\n",
       "        vertical-align: middle;\n",
       "    }\n",
       "\n",
       "    .dataframe tbody tr th {\n",
       "        vertical-align: top;\n",
       "    }\n",
       "\n",
       "    .dataframe thead th {\n",
       "        text-align: right;\n",
       "    }\n",
       "</style>\n",
       "<table border=\"1\" class=\"dataframe\">\n",
       "  <thead>\n",
       "    <tr style=\"text-align: right;\">\n",
       "      <th></th>\n",
       "      <th>loan_id</th>\n",
       "      <th>gender</th>\n",
       "      <th>married</th>\n",
       "      <th>dependents</th>\n",
       "      <th>education</th>\n",
       "      <th>self_employed</th>\n",
       "      <th>applicantIncome</th>\n",
       "      <th>coapplicant_income</th>\n",
       "      <th>loan_amount</th>\n",
       "      <th>loan_amount_term</th>\n",
       "      <th>credit_history</th>\n",
       "      <th>property_area</th>\n",
       "      <th>loan_status</th>\n",
       "    </tr>\n",
       "  </thead>\n",
       "  <tbody>\n",
       "    <tr>\n",
       "      <th>0</th>\n",
       "      <td>LP001002</td>\n",
       "      <td>Male</td>\n",
       "      <td>No</td>\n",
       "      <td>0</td>\n",
       "      <td>Graduate</td>\n",
       "      <td>No</td>\n",
       "      <td>5849</td>\n",
       "      <td>0</td>\n",
       "      <td>NaN</td>\n",
       "      <td>360.0</td>\n",
       "      <td>1.0</td>\n",
       "      <td>Urban</td>\n",
       "      <td>Y</td>\n",
       "    </tr>\n",
       "    <tr>\n",
       "      <th>1</th>\n",
       "      <td>LP001003</td>\n",
       "      <td>Male</td>\n",
       "      <td>Yes</td>\n",
       "      <td>1</td>\n",
       "      <td>Graduate</td>\n",
       "      <td>No</td>\n",
       "      <td>4583</td>\n",
       "      <td>1508</td>\n",
       "      <td>128.0</td>\n",
       "      <td>360.0</td>\n",
       "      <td>1.0</td>\n",
       "      <td>Rural</td>\n",
       "      <td>N</td>\n",
       "    </tr>\n",
       "    <tr>\n",
       "      <th>2</th>\n",
       "      <td>LP001005</td>\n",
       "      <td>Male</td>\n",
       "      <td>Yes</td>\n",
       "      <td>0</td>\n",
       "      <td>Graduate</td>\n",
       "      <td>Yes</td>\n",
       "      <td>3000</td>\n",
       "      <td>0</td>\n",
       "      <td>66.0</td>\n",
       "      <td>360.0</td>\n",
       "      <td>1.0</td>\n",
       "      <td>Urban</td>\n",
       "      <td>Y</td>\n",
       "    </tr>\n",
       "    <tr>\n",
       "      <th>3</th>\n",
       "      <td>LP001006</td>\n",
       "      <td>Male</td>\n",
       "      <td>Yes</td>\n",
       "      <td>0</td>\n",
       "      <td>Not Graduate</td>\n",
       "      <td>No</td>\n",
       "      <td>2583</td>\n",
       "      <td>2358</td>\n",
       "      <td>120.0</td>\n",
       "      <td>360.0</td>\n",
       "      <td>1.0</td>\n",
       "      <td>Urban</td>\n",
       "      <td>Y</td>\n",
       "    </tr>\n",
       "    <tr>\n",
       "      <th>4</th>\n",
       "      <td>LP001008</td>\n",
       "      <td>Male</td>\n",
       "      <td>No</td>\n",
       "      <td>0</td>\n",
       "      <td>Graduate</td>\n",
       "      <td>No</td>\n",
       "      <td>6000</td>\n",
       "      <td>0</td>\n",
       "      <td>141.0</td>\n",
       "      <td>360.0</td>\n",
       "      <td>1.0</td>\n",
       "      <td>Urban</td>\n",
       "      <td>Y</td>\n",
       "    </tr>\n",
       "  </tbody>\n",
       "</table>\n",
       "</div>"
      ],
      "text/plain": [
       "    loan_id gender married dependents     education self_employed  \\\n",
       "0  LP001002   Male      No          0      Graduate            No   \n",
       "1  LP001003   Male     Yes          1      Graduate            No   \n",
       "2  LP001005   Male     Yes          0      Graduate           Yes   \n",
       "3  LP001006   Male     Yes          0  Not Graduate            No   \n",
       "4  LP001008   Male      No          0      Graduate            No   \n",
       "\n",
       "   applicantIncome coapplicant_income  loan_amount  loan_amount_term  \\\n",
       "0             5849                  0          NaN             360.0   \n",
       "1             4583               1508        128.0             360.0   \n",
       "2             3000                  0         66.0             360.0   \n",
       "3             2583               2358        120.0             360.0   \n",
       "4             6000                  0        141.0             360.0   \n",
       "\n",
       "   credit_history property_area loan_status  \n",
       "0             1.0         Urban           Y  \n",
       "1             1.0         Rural           N  \n",
       "2             1.0         Urban           Y  \n",
       "3             1.0         Urban           Y  \n",
       "4             1.0         Urban           Y  "
      ]
     },
     "execution_count": 3,
     "metadata": {},
     "output_type": "execute_result"
    }
   ],
   "source": [
    "train_data.head()"
   ]
  },
  {
   "cell_type": "code",
   "execution_count": 4,
   "metadata": {},
   "outputs": [
    {
     "name": "stdout",
     "output_type": "stream",
     "text": [
      "<class 'pandas.core.frame.DataFrame'>\n",
      "RangeIndex: 614 entries, 0 to 613\n",
      "Data columns (total 13 columns):\n",
      " #   Column              Non-Null Count  Dtype  \n",
      "---  ------              --------------  -----  \n",
      " 0   loan_id             614 non-null    object \n",
      " 1   gender              601 non-null    object \n",
      " 2   married             611 non-null    object \n",
      " 3   dependents          599 non-null    object \n",
      " 4   education           614 non-null    object \n",
      " 5   self_employed       582 non-null    object \n",
      " 6   applicantIncome     614 non-null    int64  \n",
      " 7   coapplicant_income  614 non-null    object \n",
      " 8   loan_amount         592 non-null    float64\n",
      " 9   loan_amount_term    600 non-null    float64\n",
      " 10  credit_history      564 non-null    float64\n",
      " 11  property_area       614 non-null    object \n",
      " 12  loan_status         614 non-null    object \n",
      "dtypes: float64(3), int64(1), object(9)\n",
      "memory usage: 62.5+ KB\n"
     ]
    }
   ],
   "source": [
    "train_data.info()"
   ]
  },
  {
   "cell_type": "code",
   "execution_count": 5,
   "metadata": {},
   "outputs": [
    {
     "name": "stdout",
     "output_type": "stream",
     "text": [
      "float64\n"
     ]
    }
   ],
   "source": [
    "# convert string to float\n",
    "train_data['coapplicant_income'] = train_data['coapplicant_income'].astype(float)\n",
    "print(train_data['coapplicant_income'].dtype)"
   ]
  },
  {
   "cell_type": "code",
   "execution_count": 6,
   "metadata": {},
   "outputs": [
    {
     "name": "stdout",
     "output_type": "stream",
     "text": [
      "float64\n"
     ]
    }
   ],
   "source": [
    "# convert string to float\n",
    "train_data['applicantIncome'] = train_data['applicantIncome'].astype(float)\n",
    "print(train_data['coapplicant_income'].dtype)"
   ]
  },
  {
   "cell_type": "code",
   "execution_count": null,
   "metadata": {},
   "outputs": [],
   "source": []
  },
  {
   "cell_type": "code",
   "execution_count": 7,
   "metadata": {},
   "outputs": [
    {
     "data": {
      "text/plain": [
       "loan_id                object\n",
       "gender                 object\n",
       "married                object\n",
       "dependents             object\n",
       "education              object\n",
       "self_employed          object\n",
       "applicantIncome       float64\n",
       "coapplicant_income    float64\n",
       "loan_amount           float64\n",
       "loan_amount_term      float64\n",
       "credit_history        float64\n",
       "property_area          object\n",
       "loan_status            object\n",
       "dtype: object"
      ]
     },
     "execution_count": 7,
     "metadata": {},
     "output_type": "execute_result"
    }
   ],
   "source": [
    "train_data.dtypes"
   ]
  },
  {
   "cell_type": "code",
   "execution_count": 8,
   "metadata": {},
   "outputs": [
    {
     "data": {
      "text/plain": [
       "loan_id                0\n",
       "gender                13\n",
       "married                3\n",
       "dependents            15\n",
       "education              0\n",
       "self_employed         32\n",
       "applicantIncome        0\n",
       "coapplicant_income     0\n",
       "loan_amount           22\n",
       "loan_amount_term      14\n",
       "credit_history        50\n",
       "property_area          0\n",
       "loan_status            0\n",
       "dtype: int64"
      ]
     },
     "execution_count": 8,
     "metadata": {},
     "output_type": "execute_result"
    }
   ],
   "source": [
    "train_data.isnull().sum()"
   ]
  },
  {
   "cell_type": "code",
   "execution_count": 9,
   "metadata": {},
   "outputs": [],
   "source": [
    "# handle categorical missing data\n",
    "# train_data['Gender'].mode()[0]\n",
    "train_data['gender'] = train_data['gender'].fillna(train_data['gender'].mode()[0])\n",
    "train_data['married'] = train_data['married'].fillna(train_data['married'].mode()[0])\n",
    "train_data['dependents'] = train_data['dependents'].fillna(train_data['dependents'].mode()[0])\n",
    "train_data['self_employed'] = train_data['self_employed'].fillna(train_data['self_employed'].mode()[0])"
   ]
  },
  {
   "cell_type": "code",
   "execution_count": 10,
   "metadata": {},
   "outputs": [],
   "source": [
    "# handle numerical missing data\n",
    "train_data['loan_amount'] = train_data['loan_amount'].fillna(train_data['loan_amount'].mean())\n",
    "train_data['loan_amount_term'] = train_data['loan_amount_term'].fillna(train_data['loan_amount_term'].mean())\n",
    "train_data['credit_history'] = train_data['credit_history'].fillna(train_data['credit_history'].mean())"
   ]
  },
  {
   "cell_type": "code",
   "execution_count": 11,
   "metadata": {},
   "outputs": [],
   "source": [
    "# Select features and target variable\n",
    "features = ['gender', 'married', 'dependents', 'education', 'self_employed',\n",
    "            'applicantIncome', 'coapplicant_income', 'loan_amount', 'loan_amount_term',\n",
    "            'credit_history', 'property_area']\n",
    "\n",
    "X = train_data[features]\n",
    "y = train_data['loan_status']\n"
   ]
  },
  {
   "cell_type": "code",
   "execution_count": 12,
   "metadata": {},
   "outputs": [],
   "source": [
    "# Convert categorical variables to dummy/indicator variables\n",
    "X = pd.get_dummies(X)"
   ]
  },
  {
   "cell_type": "code",
   "execution_count": 13,
   "metadata": {},
   "outputs": [
    {
     "data": {
      "text/html": [
       "<div>\n",
       "<style scoped>\n",
       "    .dataframe tbody tr th:only-of-type {\n",
       "        vertical-align: middle;\n",
       "    }\n",
       "\n",
       "    .dataframe tbody tr th {\n",
       "        vertical-align: top;\n",
       "    }\n",
       "\n",
       "    .dataframe thead th {\n",
       "        text-align: right;\n",
       "    }\n",
       "</style>\n",
       "<table border=\"1\" class=\"dataframe\">\n",
       "  <thead>\n",
       "    <tr style=\"text-align: right;\">\n",
       "      <th></th>\n",
       "      <th>applicantIncome</th>\n",
       "      <th>coapplicant_income</th>\n",
       "      <th>loan_amount</th>\n",
       "      <th>loan_amount_term</th>\n",
       "      <th>credit_history</th>\n",
       "      <th>gender_Female</th>\n",
       "      <th>gender_Male</th>\n",
       "      <th>married_No</th>\n",
       "      <th>married_Yes</th>\n",
       "      <th>dependents_0</th>\n",
       "      <th>dependents_1</th>\n",
       "      <th>dependents_2</th>\n",
       "      <th>dependents_3+</th>\n",
       "      <th>education_Graduate</th>\n",
       "      <th>education_Not Graduate</th>\n",
       "      <th>self_employed_No</th>\n",
       "      <th>self_employed_Yes</th>\n",
       "      <th>property_area_Rural</th>\n",
       "      <th>property_area_Semiurban</th>\n",
       "      <th>property_area_Urban</th>\n",
       "    </tr>\n",
       "  </thead>\n",
       "  <tbody>\n",
       "    <tr>\n",
       "      <th>0</th>\n",
       "      <td>5849.0</td>\n",
       "      <td>0.0</td>\n",
       "      <td>146.412162</td>\n",
       "      <td>360.0</td>\n",
       "      <td>1.0</td>\n",
       "      <td>False</td>\n",
       "      <td>True</td>\n",
       "      <td>True</td>\n",
       "      <td>False</td>\n",
       "      <td>True</td>\n",
       "      <td>False</td>\n",
       "      <td>False</td>\n",
       "      <td>False</td>\n",
       "      <td>True</td>\n",
       "      <td>False</td>\n",
       "      <td>True</td>\n",
       "      <td>False</td>\n",
       "      <td>False</td>\n",
       "      <td>False</td>\n",
       "      <td>True</td>\n",
       "    </tr>\n",
       "    <tr>\n",
       "      <th>1</th>\n",
       "      <td>4583.0</td>\n",
       "      <td>1508.0</td>\n",
       "      <td>128.000000</td>\n",
       "      <td>360.0</td>\n",
       "      <td>1.0</td>\n",
       "      <td>False</td>\n",
       "      <td>True</td>\n",
       "      <td>False</td>\n",
       "      <td>True</td>\n",
       "      <td>False</td>\n",
       "      <td>True</td>\n",
       "      <td>False</td>\n",
       "      <td>False</td>\n",
       "      <td>True</td>\n",
       "      <td>False</td>\n",
       "      <td>True</td>\n",
       "      <td>False</td>\n",
       "      <td>True</td>\n",
       "      <td>False</td>\n",
       "      <td>False</td>\n",
       "    </tr>\n",
       "    <tr>\n",
       "      <th>2</th>\n",
       "      <td>3000.0</td>\n",
       "      <td>0.0</td>\n",
       "      <td>66.000000</td>\n",
       "      <td>360.0</td>\n",
       "      <td>1.0</td>\n",
       "      <td>False</td>\n",
       "      <td>True</td>\n",
       "      <td>False</td>\n",
       "      <td>True</td>\n",
       "      <td>True</td>\n",
       "      <td>False</td>\n",
       "      <td>False</td>\n",
       "      <td>False</td>\n",
       "      <td>True</td>\n",
       "      <td>False</td>\n",
       "      <td>False</td>\n",
       "      <td>True</td>\n",
       "      <td>False</td>\n",
       "      <td>False</td>\n",
       "      <td>True</td>\n",
       "    </tr>\n",
       "    <tr>\n",
       "      <th>3</th>\n",
       "      <td>2583.0</td>\n",
       "      <td>2358.0</td>\n",
       "      <td>120.000000</td>\n",
       "      <td>360.0</td>\n",
       "      <td>1.0</td>\n",
       "      <td>False</td>\n",
       "      <td>True</td>\n",
       "      <td>False</td>\n",
       "      <td>True</td>\n",
       "      <td>True</td>\n",
       "      <td>False</td>\n",
       "      <td>False</td>\n",
       "      <td>False</td>\n",
       "      <td>False</td>\n",
       "      <td>True</td>\n",
       "      <td>True</td>\n",
       "      <td>False</td>\n",
       "      <td>False</td>\n",
       "      <td>False</td>\n",
       "      <td>True</td>\n",
       "    </tr>\n",
       "    <tr>\n",
       "      <th>4</th>\n",
       "      <td>6000.0</td>\n",
       "      <td>0.0</td>\n",
       "      <td>141.000000</td>\n",
       "      <td>360.0</td>\n",
       "      <td>1.0</td>\n",
       "      <td>False</td>\n",
       "      <td>True</td>\n",
       "      <td>True</td>\n",
       "      <td>False</td>\n",
       "      <td>True</td>\n",
       "      <td>False</td>\n",
       "      <td>False</td>\n",
       "      <td>False</td>\n",
       "      <td>True</td>\n",
       "      <td>False</td>\n",
       "      <td>True</td>\n",
       "      <td>False</td>\n",
       "      <td>False</td>\n",
       "      <td>False</td>\n",
       "      <td>True</td>\n",
       "    </tr>\n",
       "  </tbody>\n",
       "</table>\n",
       "</div>"
      ],
      "text/plain": [
       "   applicantIncome  coapplicant_income  loan_amount  loan_amount_term  \\\n",
       "0           5849.0                 0.0   146.412162             360.0   \n",
       "1           4583.0              1508.0   128.000000             360.0   \n",
       "2           3000.0                 0.0    66.000000             360.0   \n",
       "3           2583.0              2358.0   120.000000             360.0   \n",
       "4           6000.0                 0.0   141.000000             360.0   \n",
       "\n",
       "   credit_history  gender_Female  gender_Male  married_No  married_Yes  \\\n",
       "0             1.0          False         True        True        False   \n",
       "1             1.0          False         True       False         True   \n",
       "2             1.0          False         True       False         True   \n",
       "3             1.0          False         True       False         True   \n",
       "4             1.0          False         True        True        False   \n",
       "\n",
       "   dependents_0  dependents_1  dependents_2  dependents_3+  \\\n",
       "0          True         False         False          False   \n",
       "1         False          True         False          False   \n",
       "2          True         False         False          False   \n",
       "3          True         False         False          False   \n",
       "4          True         False         False          False   \n",
       "\n",
       "   education_Graduate  education_Not Graduate  self_employed_No  \\\n",
       "0                True                   False              True   \n",
       "1                True                   False              True   \n",
       "2                True                   False             False   \n",
       "3               False                    True              True   \n",
       "4                True                   False              True   \n",
       "\n",
       "   self_employed_Yes  property_area_Rural  property_area_Semiurban  \\\n",
       "0              False                False                    False   \n",
       "1              False                 True                    False   \n",
       "2               True                False                    False   \n",
       "3              False                False                    False   \n",
       "4              False                False                    False   \n",
       "\n",
       "   property_area_Urban  \n",
       "0                 True  \n",
       "1                False  \n",
       "2                 True  \n",
       "3                 True  \n",
       "4                 True  "
      ]
     },
     "execution_count": 13,
     "metadata": {},
     "output_type": "execute_result"
    }
   ],
   "source": [
    "X.head()"
   ]
  },
  {
   "cell_type": "code",
   "execution_count": 14,
   "metadata": {},
   "outputs": [],
   "source": [
    "# Split the data into training and validation sets\n",
    "X_train, X_val, y_train, y_val = train_test_split(X, y, test_size=0.2, random_state=42)\n"
   ]
  },
  {
   "cell_type": "code",
   "execution_count": 15,
   "metadata": {},
   "outputs": [
    {
     "data": {
      "text/html": [
       "<div>\n",
       "<style scoped>\n",
       "    .dataframe tbody tr th:only-of-type {\n",
       "        vertical-align: middle;\n",
       "    }\n",
       "\n",
       "    .dataframe tbody tr th {\n",
       "        vertical-align: top;\n",
       "    }\n",
       "\n",
       "    .dataframe thead th {\n",
       "        text-align: right;\n",
       "    }\n",
       "</style>\n",
       "<table border=\"1\" class=\"dataframe\">\n",
       "  <thead>\n",
       "    <tr style=\"text-align: right;\">\n",
       "      <th></th>\n",
       "      <th>applicantIncome</th>\n",
       "      <th>coapplicant_income</th>\n",
       "      <th>loan_amount</th>\n",
       "      <th>loan_amount_term</th>\n",
       "      <th>credit_history</th>\n",
       "      <th>gender_Female</th>\n",
       "      <th>gender_Male</th>\n",
       "      <th>married_No</th>\n",
       "      <th>married_Yes</th>\n",
       "      <th>dependents_0</th>\n",
       "      <th>dependents_1</th>\n",
       "      <th>dependents_2</th>\n",
       "      <th>dependents_3+</th>\n",
       "      <th>education_Graduate</th>\n",
       "      <th>education_Not Graduate</th>\n",
       "      <th>self_employed_No</th>\n",
       "      <th>self_employed_Yes</th>\n",
       "      <th>property_area_Rural</th>\n",
       "      <th>property_area_Semiurban</th>\n",
       "      <th>property_area_Urban</th>\n",
       "    </tr>\n",
       "  </thead>\n",
       "  <tbody>\n",
       "    <tr>\n",
       "      <th>83</th>\n",
       "      <td>6000.0</td>\n",
       "      <td>2250.0</td>\n",
       "      <td>265.0</td>\n",
       "      <td>360.0</td>\n",
       "      <td>0.842199</td>\n",
       "      <td>False</td>\n",
       "      <td>True</td>\n",
       "      <td>False</td>\n",
       "      <td>True</td>\n",
       "      <td>True</td>\n",
       "      <td>False</td>\n",
       "      <td>False</td>\n",
       "      <td>False</td>\n",
       "      <td>True</td>\n",
       "      <td>False</td>\n",
       "      <td>True</td>\n",
       "      <td>False</td>\n",
       "      <td>False</td>\n",
       "      <td>True</td>\n",
       "      <td>False</td>\n",
       "    </tr>\n",
       "    <tr>\n",
       "      <th>90</th>\n",
       "      <td>2958.0</td>\n",
       "      <td>2900.0</td>\n",
       "      <td>131.0</td>\n",
       "      <td>360.0</td>\n",
       "      <td>1.000000</td>\n",
       "      <td>False</td>\n",
       "      <td>True</td>\n",
       "      <td>False</td>\n",
       "      <td>True</td>\n",
       "      <td>True</td>\n",
       "      <td>False</td>\n",
       "      <td>False</td>\n",
       "      <td>False</td>\n",
       "      <td>True</td>\n",
       "      <td>False</td>\n",
       "      <td>True</td>\n",
       "      <td>False</td>\n",
       "      <td>False</td>\n",
       "      <td>True</td>\n",
       "      <td>False</td>\n",
       "    </tr>\n",
       "    <tr>\n",
       "      <th>227</th>\n",
       "      <td>6250.0</td>\n",
       "      <td>1695.0</td>\n",
       "      <td>210.0</td>\n",
       "      <td>360.0</td>\n",
       "      <td>1.000000</td>\n",
       "      <td>False</td>\n",
       "      <td>True</td>\n",
       "      <td>False</td>\n",
       "      <td>True</td>\n",
       "      <td>False</td>\n",
       "      <td>False</td>\n",
       "      <td>True</td>\n",
       "      <td>False</td>\n",
       "      <td>True</td>\n",
       "      <td>False</td>\n",
       "      <td>True</td>\n",
       "      <td>False</td>\n",
       "      <td>False</td>\n",
       "      <td>True</td>\n",
       "      <td>False</td>\n",
       "    </tr>\n",
       "    <tr>\n",
       "      <th>482</th>\n",
       "      <td>2083.0</td>\n",
       "      <td>3150.0</td>\n",
       "      <td>128.0</td>\n",
       "      <td>360.0</td>\n",
       "      <td>1.000000</td>\n",
       "      <td>False</td>\n",
       "      <td>True</td>\n",
       "      <td>False</td>\n",
       "      <td>True</td>\n",
       "      <td>True</td>\n",
       "      <td>False</td>\n",
       "      <td>False</td>\n",
       "      <td>False</td>\n",
       "      <td>True</td>\n",
       "      <td>False</td>\n",
       "      <td>True</td>\n",
       "      <td>False</td>\n",
       "      <td>False</td>\n",
       "      <td>True</td>\n",
       "      <td>False</td>\n",
       "    </tr>\n",
       "    <tr>\n",
       "      <th>464</th>\n",
       "      <td>4166.0</td>\n",
       "      <td>0.0</td>\n",
       "      <td>98.0</td>\n",
       "      <td>360.0</td>\n",
       "      <td>0.000000</td>\n",
       "      <td>False</td>\n",
       "      <td>True</td>\n",
       "      <td>True</td>\n",
       "      <td>False</td>\n",
       "      <td>True</td>\n",
       "      <td>False</td>\n",
       "      <td>False</td>\n",
       "      <td>False</td>\n",
       "      <td>True</td>\n",
       "      <td>False</td>\n",
       "      <td>True</td>\n",
       "      <td>False</td>\n",
       "      <td>False</td>\n",
       "      <td>True</td>\n",
       "      <td>False</td>\n",
       "    </tr>\n",
       "  </tbody>\n",
       "</table>\n",
       "</div>"
      ],
      "text/plain": [
       "     applicantIncome  coapplicant_income  loan_amount  loan_amount_term  \\\n",
       "83            6000.0              2250.0        265.0             360.0   \n",
       "90            2958.0              2900.0        131.0             360.0   \n",
       "227           6250.0              1695.0        210.0             360.0   \n",
       "482           2083.0              3150.0        128.0             360.0   \n",
       "464           4166.0                 0.0         98.0             360.0   \n",
       "\n",
       "     credit_history  gender_Female  gender_Male  married_No  married_Yes  \\\n",
       "83         0.842199          False         True       False         True   \n",
       "90         1.000000          False         True       False         True   \n",
       "227        1.000000          False         True       False         True   \n",
       "482        1.000000          False         True       False         True   \n",
       "464        0.000000          False         True        True        False   \n",
       "\n",
       "     dependents_0  dependents_1  dependents_2  dependents_3+  \\\n",
       "83           True         False         False          False   \n",
       "90           True         False         False          False   \n",
       "227         False         False          True          False   \n",
       "482          True         False         False          False   \n",
       "464          True         False         False          False   \n",
       "\n",
       "     education_Graduate  education_Not Graduate  self_employed_No  \\\n",
       "83                 True                   False              True   \n",
       "90                 True                   False              True   \n",
       "227                True                   False              True   \n",
       "482                True                   False              True   \n",
       "464                True                   False              True   \n",
       "\n",
       "     self_employed_Yes  property_area_Rural  property_area_Semiurban  \\\n",
       "83               False                False                     True   \n",
       "90               False                False                     True   \n",
       "227              False                False                     True   \n",
       "482              False                False                     True   \n",
       "464              False                False                     True   \n",
       "\n",
       "     property_area_Urban  \n",
       "83                 False  \n",
       "90                 False  \n",
       "227                False  \n",
       "482                False  \n",
       "464                False  "
      ]
     },
     "execution_count": 15,
     "metadata": {},
     "output_type": "execute_result"
    }
   ],
   "source": [
    "X_train.head()"
   ]
  },
  {
   "cell_type": "code",
   "execution_count": 16,
   "metadata": {},
   "outputs": [
    {
     "data": {
      "text/plain": [
       "83     N\n",
       "90     Y\n",
       "227    Y\n",
       "482    Y\n",
       "464    N\n",
       "Name: loan_status, dtype: object"
      ]
     },
     "execution_count": 16,
     "metadata": {},
     "output_type": "execute_result"
    }
   ],
   "source": [
    "y_train.head()"
   ]
  },
  {
   "cell_type": "code",
   "execution_count": 17,
   "metadata": {},
   "outputs": [],
   "source": [
    "# Create a random forest classifier\n",
    "Model_RF = RandomForestClassifier(n_estimators=100, random_state=42)\n",
    "\n",
    "# Train the classifier on the training data\n",
    "Model_RF.fit(X_train, y_train)\n",
    "\n",
    "# Make predictions on the validation set\n",
    "y_pred = Model_RF.predict(X_val)"
   ]
  },
  {
   "cell_type": "code",
   "execution_count": 18,
   "metadata": {},
   "outputs": [
    {
     "name": "stdout",
     "output_type": "stream",
     "text": [
      "Accuracy: 0.7723577235772358\n",
      "              precision    recall  f1-score   support\n",
      "\n",
      "           N       0.86      0.42      0.56        43\n",
      "           Y       0.75      0.96      0.85        80\n",
      "\n",
      "    accuracy                           0.77       123\n",
      "   macro avg       0.81      0.69      0.70       123\n",
      "weighted avg       0.79      0.77      0.75       123\n",
      "\n"
     ]
    }
   ],
   "source": [
    "# Evaluate the model\n",
    "accuracy = accuracy_score(y_val, y_pred)\n",
    "print(f'Accuracy: {accuracy}')\n",
    "\n",
    "# Print classification report for more detailed evaluation\n",
    "print(classification_report(y_val, y_pred))"
   ]
  },
  {
   "cell_type": "code",
   "execution_count": 19,
   "metadata": {},
   "outputs": [],
   "source": [
    "# Now, I can use the trained model to make predictions on the test dataset\n",
    "X_test = test_data[features]"
   ]
  },
  {
   "cell_type": "code",
   "execution_count": 20,
   "metadata": {},
   "outputs": [
    {
     "data": {
      "text/plain": [
       "gender                11\n",
       "married                0\n",
       "dependents            10\n",
       "education              0\n",
       "self_employed         23\n",
       "applicantIncome        0\n",
       "coapplicant_income     0\n",
       "loan_amount            5\n",
       "loan_amount_term       6\n",
       "credit_history        29\n",
       "property_area          0\n",
       "dtype: int64"
      ]
     },
     "execution_count": 20,
     "metadata": {},
     "output_type": "execute_result"
    }
   ],
   "source": [
    "X_test.isnull().sum()"
   ]
  },
  {
   "cell_type": "code",
   "execution_count": 21,
   "metadata": {},
   "outputs": [
    {
     "name": "stderr",
     "output_type": "stream",
     "text": [
      "C:\\Users\\HTCM\\AppData\\Local\\Temp\\ipykernel_4204\\1922303881.py:1: SettingWithCopyWarning: \n",
      "A value is trying to be set on a copy of a slice from a DataFrame.\n",
      "Try using .loc[row_indexer,col_indexer] = value instead\n",
      "\n",
      "See the caveats in the documentation: https://pandas.pydata.org/pandas-docs/stable/user_guide/indexing.html#returning-a-view-versus-a-copy\n",
      "  X_test['loan_amount'] = X_test['loan_amount'].fillna(X_test['loan_amount'].mean())\n",
      "C:\\Users\\HTCM\\AppData\\Local\\Temp\\ipykernel_4204\\1922303881.py:2: SettingWithCopyWarning: \n",
      "A value is trying to be set on a copy of a slice from a DataFrame.\n",
      "Try using .loc[row_indexer,col_indexer] = value instead\n",
      "\n",
      "See the caveats in the documentation: https://pandas.pydata.org/pandas-docs/stable/user_guide/indexing.html#returning-a-view-versus-a-copy\n",
      "  X_test['loan_amount_term'] = X_test['loan_amount_term'].fillna(X_test['loan_amount_term'].mean())\n",
      "C:\\Users\\HTCM\\AppData\\Local\\Temp\\ipykernel_4204\\1922303881.py:3: SettingWithCopyWarning: \n",
      "A value is trying to be set on a copy of a slice from a DataFrame.\n",
      "Try using .loc[row_indexer,col_indexer] = value instead\n",
      "\n",
      "See the caveats in the documentation: https://pandas.pydata.org/pandas-docs/stable/user_guide/indexing.html#returning-a-view-versus-a-copy\n",
      "  X_test['credit_history'] = X_test['credit_history'].fillna(X_test['credit_history'].mean())\n"
     ]
    }
   ],
   "source": [
    "X_test['loan_amount'] = X_test['loan_amount'].fillna(X_test['loan_amount'].mean())\n",
    "X_test['loan_amount_term'] = X_test['loan_amount_term'].fillna(X_test['loan_amount_term'].mean())\n",
    "X_test['credit_history'] = X_test['credit_history'].fillna(X_test['credit_history'].mean())"
   ]
  },
  {
   "cell_type": "code",
   "execution_count": 22,
   "metadata": {},
   "outputs": [
    {
     "data": {
      "text/plain": [
       "gender                11\n",
       "married                0\n",
       "dependents            10\n",
       "education              0\n",
       "self_employed         23\n",
       "applicantIncome        0\n",
       "coapplicant_income     0\n",
       "loan_amount            0\n",
       "loan_amount_term       0\n",
       "credit_history         0\n",
       "property_area          0\n",
       "dtype: int64"
      ]
     },
     "execution_count": 22,
     "metadata": {},
     "output_type": "execute_result"
    }
   ],
   "source": [
    "X_test.isnull().sum()"
   ]
  },
  {
   "cell_type": "code",
   "execution_count": 23,
   "metadata": {},
   "outputs": [
    {
     "name": "stderr",
     "output_type": "stream",
     "text": [
      "C:\\Users\\HTCM\\AppData\\Local\\Temp\\ipykernel_4204\\650965263.py:3: SettingWithCopyWarning: \n",
      "A value is trying to be set on a copy of a slice from a DataFrame.\n",
      "Try using .loc[row_indexer,col_indexer] = value instead\n",
      "\n",
      "See the caveats in the documentation: https://pandas.pydata.org/pandas-docs/stable/user_guide/indexing.html#returning-a-view-versus-a-copy\n",
      "  X_test['gender'] = X_test['gender'].fillna(X_test['gender'].mode()[0])\n",
      "C:\\Users\\HTCM\\AppData\\Local\\Temp\\ipykernel_4204\\650965263.py:4: SettingWithCopyWarning: \n",
      "A value is trying to be set on a copy of a slice from a DataFrame.\n",
      "Try using .loc[row_indexer,col_indexer] = value instead\n",
      "\n",
      "See the caveats in the documentation: https://pandas.pydata.org/pandas-docs/stable/user_guide/indexing.html#returning-a-view-versus-a-copy\n",
      "  X_test['dependents'] = X_test['dependents'].fillna(X_test['dependents'].mode()[0])\n",
      "C:\\Users\\HTCM\\AppData\\Local\\Temp\\ipykernel_4204\\650965263.py:5: SettingWithCopyWarning: \n",
      "A value is trying to be set on a copy of a slice from a DataFrame.\n",
      "Try using .loc[row_indexer,col_indexer] = value instead\n",
      "\n",
      "See the caveats in the documentation: https://pandas.pydata.org/pandas-docs/stable/user_guide/indexing.html#returning-a-view-versus-a-copy\n",
      "  X_test['self_employed'] = X_test['self_employed'].fillna(X_test['self_employed'].mode()[0])\n"
     ]
    }
   ],
   "source": [
    "# handle categorical missing data\n",
    "# train_data['Gender'].mode()[0]\n",
    "X_test['gender'] = X_test['gender'].fillna(X_test['gender'].mode()[0])\n",
    "X_test['dependents'] = X_test['dependents'].fillna(X_test['dependents'].mode()[0])\n",
    "X_test['self_employed'] = X_test['self_employed'].fillna(X_test['self_employed'].mode()[0])"
   ]
  },
  {
   "cell_type": "code",
   "execution_count": 24,
   "metadata": {},
   "outputs": [
    {
     "data": {
      "text/plain": [
       "gender                0\n",
       "married               0\n",
       "dependents            0\n",
       "education             0\n",
       "self_employed         0\n",
       "applicantIncome       0\n",
       "coapplicant_income    0\n",
       "loan_amount           0\n",
       "loan_amount_term      0\n",
       "credit_history        0\n",
       "property_area         0\n",
       "dtype: int64"
      ]
     },
     "execution_count": 24,
     "metadata": {},
     "output_type": "execute_result"
    }
   ],
   "source": [
    "X_test.isnull().sum()"
   ]
  },
  {
   "cell_type": "code",
   "execution_count": 25,
   "metadata": {},
   "outputs": [],
   "source": [
    "X_test = pd.get_dummies(X_test)"
   ]
  },
  {
   "cell_type": "code",
   "execution_count": 26,
   "metadata": {},
   "outputs": [
    {
     "data": {
      "text/html": [
       "<div>\n",
       "<style scoped>\n",
       "    .dataframe tbody tr th:only-of-type {\n",
       "        vertical-align: middle;\n",
       "    }\n",
       "\n",
       "    .dataframe tbody tr th {\n",
       "        vertical-align: top;\n",
       "    }\n",
       "\n",
       "    .dataframe thead th {\n",
       "        text-align: right;\n",
       "    }\n",
       "</style>\n",
       "<table border=\"1\" class=\"dataframe\">\n",
       "  <thead>\n",
       "    <tr style=\"text-align: right;\">\n",
       "      <th></th>\n",
       "      <th>applicantIncome</th>\n",
       "      <th>coapplicant_income</th>\n",
       "      <th>loan_amount</th>\n",
       "      <th>loan_amount_term</th>\n",
       "      <th>credit_history</th>\n",
       "      <th>gender_Female</th>\n",
       "      <th>gender_Male</th>\n",
       "      <th>married_No</th>\n",
       "      <th>married_Yes</th>\n",
       "      <th>dependents_0</th>\n",
       "      <th>dependents_1</th>\n",
       "      <th>dependents_2</th>\n",
       "      <th>dependents_3+</th>\n",
       "      <th>education_Graduate</th>\n",
       "      <th>education_Not Graduate</th>\n",
       "      <th>self_employed_No</th>\n",
       "      <th>self_employed_Yes</th>\n",
       "      <th>property_area_Rural</th>\n",
       "      <th>property_area_Semiurban</th>\n",
       "      <th>property_area_Urban</th>\n",
       "    </tr>\n",
       "  </thead>\n",
       "  <tbody>\n",
       "    <tr>\n",
       "      <th>0</th>\n",
       "      <td>5720</td>\n",
       "      <td>0</td>\n",
       "      <td>110.0</td>\n",
       "      <td>360.0</td>\n",
       "      <td>1.000000</td>\n",
       "      <td>False</td>\n",
       "      <td>True</td>\n",
       "      <td>False</td>\n",
       "      <td>True</td>\n",
       "      <td>True</td>\n",
       "      <td>False</td>\n",
       "      <td>False</td>\n",
       "      <td>False</td>\n",
       "      <td>True</td>\n",
       "      <td>False</td>\n",
       "      <td>True</td>\n",
       "      <td>False</td>\n",
       "      <td>False</td>\n",
       "      <td>False</td>\n",
       "      <td>True</td>\n",
       "    </tr>\n",
       "    <tr>\n",
       "      <th>1</th>\n",
       "      <td>3076</td>\n",
       "      <td>1500</td>\n",
       "      <td>126.0</td>\n",
       "      <td>360.0</td>\n",
       "      <td>1.000000</td>\n",
       "      <td>False</td>\n",
       "      <td>True</td>\n",
       "      <td>False</td>\n",
       "      <td>True</td>\n",
       "      <td>False</td>\n",
       "      <td>True</td>\n",
       "      <td>False</td>\n",
       "      <td>False</td>\n",
       "      <td>True</td>\n",
       "      <td>False</td>\n",
       "      <td>True</td>\n",
       "      <td>False</td>\n",
       "      <td>False</td>\n",
       "      <td>False</td>\n",
       "      <td>True</td>\n",
       "    </tr>\n",
       "    <tr>\n",
       "      <th>2</th>\n",
       "      <td>5000</td>\n",
       "      <td>1800</td>\n",
       "      <td>208.0</td>\n",
       "      <td>360.0</td>\n",
       "      <td>1.000000</td>\n",
       "      <td>False</td>\n",
       "      <td>True</td>\n",
       "      <td>False</td>\n",
       "      <td>True</td>\n",
       "      <td>False</td>\n",
       "      <td>False</td>\n",
       "      <td>True</td>\n",
       "      <td>False</td>\n",
       "      <td>True</td>\n",
       "      <td>False</td>\n",
       "      <td>True</td>\n",
       "      <td>False</td>\n",
       "      <td>False</td>\n",
       "      <td>False</td>\n",
       "      <td>True</td>\n",
       "    </tr>\n",
       "    <tr>\n",
       "      <th>3</th>\n",
       "      <td>2340</td>\n",
       "      <td>2546</td>\n",
       "      <td>100.0</td>\n",
       "      <td>360.0</td>\n",
       "      <td>0.825444</td>\n",
       "      <td>False</td>\n",
       "      <td>True</td>\n",
       "      <td>False</td>\n",
       "      <td>True</td>\n",
       "      <td>False</td>\n",
       "      <td>False</td>\n",
       "      <td>True</td>\n",
       "      <td>False</td>\n",
       "      <td>True</td>\n",
       "      <td>False</td>\n",
       "      <td>True</td>\n",
       "      <td>False</td>\n",
       "      <td>False</td>\n",
       "      <td>False</td>\n",
       "      <td>True</td>\n",
       "    </tr>\n",
       "    <tr>\n",
       "      <th>4</th>\n",
       "      <td>3276</td>\n",
       "      <td>0</td>\n",
       "      <td>78.0</td>\n",
       "      <td>360.0</td>\n",
       "      <td>1.000000</td>\n",
       "      <td>False</td>\n",
       "      <td>True</td>\n",
       "      <td>True</td>\n",
       "      <td>False</td>\n",
       "      <td>True</td>\n",
       "      <td>False</td>\n",
       "      <td>False</td>\n",
       "      <td>False</td>\n",
       "      <td>False</td>\n",
       "      <td>True</td>\n",
       "      <td>True</td>\n",
       "      <td>False</td>\n",
       "      <td>False</td>\n",
       "      <td>False</td>\n",
       "      <td>True</td>\n",
       "    </tr>\n",
       "  </tbody>\n",
       "</table>\n",
       "</div>"
      ],
      "text/plain": [
       "   applicantIncome  coapplicant_income  loan_amount  loan_amount_term  \\\n",
       "0             5720                   0        110.0             360.0   \n",
       "1             3076                1500        126.0             360.0   \n",
       "2             5000                1800        208.0             360.0   \n",
       "3             2340                2546        100.0             360.0   \n",
       "4             3276                   0         78.0             360.0   \n",
       "\n",
       "   credit_history  gender_Female  gender_Male  married_No  married_Yes  \\\n",
       "0        1.000000          False         True       False         True   \n",
       "1        1.000000          False         True       False         True   \n",
       "2        1.000000          False         True       False         True   \n",
       "3        0.825444          False         True       False         True   \n",
       "4        1.000000          False         True        True        False   \n",
       "\n",
       "   dependents_0  dependents_1  dependents_2  dependents_3+  \\\n",
       "0          True         False         False          False   \n",
       "1         False          True         False          False   \n",
       "2         False         False          True          False   \n",
       "3         False         False          True          False   \n",
       "4          True         False         False          False   \n",
       "\n",
       "   education_Graduate  education_Not Graduate  self_employed_No  \\\n",
       "0                True                   False              True   \n",
       "1                True                   False              True   \n",
       "2                True                   False              True   \n",
       "3                True                   False              True   \n",
       "4               False                    True              True   \n",
       "\n",
       "   self_employed_Yes  property_area_Rural  property_area_Semiurban  \\\n",
       "0              False                False                    False   \n",
       "1              False                False                    False   \n",
       "2              False                False                    False   \n",
       "3              False                False                    False   \n",
       "4              False                False                    False   \n",
       "\n",
       "   property_area_Urban  \n",
       "0                 True  \n",
       "1                 True  \n",
       "2                 True  \n",
       "3                 True  \n",
       "4                 True  "
      ]
     },
     "execution_count": 26,
     "metadata": {},
     "output_type": "execute_result"
    }
   ],
   "source": [
    "X_test.head()"
   ]
  },
  {
   "cell_type": "code",
   "execution_count": 27,
   "metadata": {},
   "outputs": [
    {
     "name": "stdout",
     "output_type": "stream",
     "text": [
      "<class 'pandas.core.frame.DataFrame'>\n",
      "RangeIndex: 367 entries, 0 to 366\n",
      "Data columns (total 20 columns):\n",
      " #   Column                   Non-Null Count  Dtype  \n",
      "---  ------                   --------------  -----  \n",
      " 0   applicantIncome          367 non-null    int64  \n",
      " 1   coapplicant_income       367 non-null    int64  \n",
      " 2   loan_amount              367 non-null    float64\n",
      " 3   loan_amount_term         367 non-null    float64\n",
      " 4   credit_history           367 non-null    float64\n",
      " 5   gender_Female            367 non-null    bool   \n",
      " 6   gender_Male              367 non-null    bool   \n",
      " 7   married_No               367 non-null    bool   \n",
      " 8   married_Yes              367 non-null    bool   \n",
      " 9   dependents_0             367 non-null    bool   \n",
      " 10  dependents_1             367 non-null    bool   \n",
      " 11  dependents_2             367 non-null    bool   \n",
      " 12  dependents_3+            367 non-null    bool   \n",
      " 13  education_Graduate       367 non-null    bool   \n",
      " 14  education_Not Graduate   367 non-null    bool   \n",
      " 15  self_employed_No         367 non-null    bool   \n",
      " 16  self_employed_Yes        367 non-null    bool   \n",
      " 17  property_area_Rural      367 non-null    bool   \n",
      " 18  property_area_Semiurban  367 non-null    bool   \n",
      " 19  property_area_Urban      367 non-null    bool   \n",
      "dtypes: bool(15), float64(3), int64(2)\n",
      "memory usage: 19.8 KB\n"
     ]
    }
   ],
   "source": [
    "X_test.info()"
   ]
  },
  {
   "cell_type": "code",
   "execution_count": 28,
   "metadata": {},
   "outputs": [
    {
     "name": "stdout",
     "output_type": "stream",
     "text": [
      "float64\n"
     ]
    }
   ],
   "source": [
    "# convert string to float\n",
    "X_test['coapplicant_income'] = X_test['coapplicant_income'].astype(float)\n",
    "print(X_test['coapplicant_income'].dtype)"
   ]
  },
  {
   "cell_type": "code",
   "execution_count": 29,
   "metadata": {},
   "outputs": [
    {
     "name": "stdout",
     "output_type": "stream",
     "text": [
      "float64\n"
     ]
    }
   ],
   "source": [
    "# convert string to float\n",
    "X_test['applicantIncome'] = X_test['applicantIncome'].astype(float)\n",
    "print(X_test['coapplicant_income'].dtype)"
   ]
  },
  {
   "cell_type": "code",
   "execution_count": 30,
   "metadata": {},
   "outputs": [
    {
     "name": "stdout",
     "output_type": "stream",
     "text": [
      "<class 'pandas.core.frame.DataFrame'>\n",
      "RangeIndex: 367 entries, 0 to 366\n",
      "Data columns (total 20 columns):\n",
      " #   Column                   Non-Null Count  Dtype  \n",
      "---  ------                   --------------  -----  \n",
      " 0   applicantIncome          367 non-null    float64\n",
      " 1   coapplicant_income       367 non-null    float64\n",
      " 2   loan_amount              367 non-null    float64\n",
      " 3   loan_amount_term         367 non-null    float64\n",
      " 4   credit_history           367 non-null    float64\n",
      " 5   gender_Female            367 non-null    bool   \n",
      " 6   gender_Male              367 non-null    bool   \n",
      " 7   married_No               367 non-null    bool   \n",
      " 8   married_Yes              367 non-null    bool   \n",
      " 9   dependents_0             367 non-null    bool   \n",
      " 10  dependents_1             367 non-null    bool   \n",
      " 11  dependents_2             367 non-null    bool   \n",
      " 12  dependents_3+            367 non-null    bool   \n",
      " 13  education_Graduate       367 non-null    bool   \n",
      " 14  education_Not Graduate   367 non-null    bool   \n",
      " 15  self_employed_No         367 non-null    bool   \n",
      " 16  self_employed_Yes        367 non-null    bool   \n",
      " 17  property_area_Rural      367 non-null    bool   \n",
      " 18  property_area_Semiurban  367 non-null    bool   \n",
      " 19  property_area_Urban      367 non-null    bool   \n",
      "dtypes: bool(15), float64(5)\n",
      "memory usage: 19.8 KB\n"
     ]
    }
   ],
   "source": [
    "X_test.info()"
   ]
  },
  {
   "cell_type": "code",
   "execution_count": 31,
   "metadata": {},
   "outputs": [],
   "source": [
    "test_predictions = Model_RF.predict(X_test)\n",
    "\n",
    "# Add the predictions to the test dataset\n",
    "test_data['Loan_Status_Prediction'] = test_predictions\n",
    "\n",
    "# Save the results to a new CSV file\n",
    "test_data.to_csv('test_results.csv', index=False)\n"
   ]
  },
  {
   "cell_type": "code",
   "execution_count": 32,
   "metadata": {},
   "outputs": [
    {
     "name": "stdout",
     "output_type": "stream",
     "text": [
      "Validation Accuracy: 0.77\n"
     ]
    }
   ],
   "source": [
    "# Predict on the validation set\n",
    "y_val_pred = Model_RF.predict(X_val)\n",
    "\n",
    "# Evaluate the model\n",
    "accuracy = accuracy_score(y_val, y_val_pred)\n",
    "print(f'Validation Accuracy: {accuracy:.2f}')"
   ]
  },
  {
   "cell_type": "code",
   "execution_count": 82,
   "metadata": {},
   "outputs": [
    {
     "name": "stdout",
     "output_type": "stream",
     "text": [
      "Loan Status Prediction for Single Data: N\n"
     ]
    }
   ],
   "source": [
    "# List of features used during training\n",
    "categorical_features = ['gender', 'married', 'dependents', 'education', 'self_employed', 'property_area']\n",
    "\n",
    "# Create a dictionary with the data for the single test point \n",
    "# 124\n",
    "single_data = {\n",
    "    'applicantIncome': 105,\n",
    "    'coapplicant_income': 38,\n",
    "    'loan_amount': 160,\n",
    "    'loan_amount_term': 180,\n",
    "    'credit_history': 1,\n",
    "    'gender': 'Male',\n",
    "    'married': 'Yes',\n",
    "    'dependents': '1',\n",
    "    'education': 'Graduate',\n",
    "    'self_employed': 'Yes',\n",
    "    'property_area': 'Urban'\n",
    "}\n",
    "# Convert the dictionary to a DataFrame\n",
    "test_input = pd.DataFrame([single_data])\n",
    "\n",
    "# Load the entire test dataset\n",
    "test_data = pd.read_csv('test.csv')  # Replace 'test.csv' with your actual test dataset filename\n",
    "test_data['loan_amount'] = test_data['loan_amount'].fillna(test_data['loan_amount'].mean())\n",
    "test_data['loan_amount_term'] = test_data['loan_amount_term'].fillna(test_data['loan_amount_term'].mean())\n",
    "test_data['credit_history'] = test_data['credit_history'].fillna(test_data['credit_history'].mean())\n",
    "\n",
    "# Combine the single test point with the test dataset\n",
    "combined_data = pd.concat([test_input, test_data], ignore_index=True)\n",
    "\n",
    "# Convert categorical variables to dummy/indicator variables using the same order as during training\n",
    "combined_data = pd.get_dummies(combined_data, columns=categorical_features)\n",
    "\n",
    "# Ensure the order of columns matches the order during training\n",
    "# Align the columns with the training data to handle potential mismatches\n",
    "combined_data = combined_data.reindex(columns=X.columns, fill_value=0)\n",
    "\n",
    "# Separate the single test point from the combined data\n",
    "test_input = combined_data.iloc[0:1]\n",
    "# test_data = combined_data.iloc[1:]\n",
    "\n",
    "# Make the prediction using the trained model on the single test point\n",
    "prediction_single_data = Model_RF.predict(test_input)\n",
    "\n",
    "# Make the prediction using the trained model on the entire test dataset\n",
    "# prediction_test_data = Model_RF.predict(test_data)\n",
    "\n",
    "# Print the predictions\n",
    "print(f'Loan Status Prediction for Single Data: {prediction_single_data[0]}')\n",
    "# print('Loan Status Predictions for Test Data:')\n",
    "# print(prediction_test_data)"
   ]
  },
  {
   "cell_type": "code",
   "execution_count": 34,
   "metadata": {},
   "outputs": [
    {
     "data": {
      "text/plain": [
       "array(['N'], dtype=object)"
      ]
     },
     "execution_count": 34,
     "metadata": {},
     "output_type": "execute_result"
    }
   ],
   "source": [
    "prediction_single_data "
   ]
  },
  {
   "cell_type": "code",
   "execution_count": 35,
   "metadata": {},
   "outputs": [],
   "source": [
    "import pickle\n",
    "# Save the model to a file using pickle\n",
    "with open('random_forest_model.pkl', 'wb') as file:\n",
    "    pickle.dump(Model_RF, file)"
   ]
  },
  {
   "cell_type": "code",
   "execution_count": 158,
   "metadata": {},
   "outputs": [],
   "source": [
    "# Load the model from the saved file\n",
    "with open('KNeighborsClassifier.pkl', 'rb') as file:\n",
    "    loaded_model = pickle.load(file)"
   ]
  },
  {
   "cell_type": "code",
   "execution_count": null,
   "metadata": {},
   "outputs": [],
   "source": [
    "LP001225\tMale\tYes \t0\tGraduate\t    No\t5726\t4595\t258.0\t360.0\t1.0\tSemiurban\tN\n",
    "LP001228\tMale\tNo\t    0\tNot Graduate\tNo\t3200\t2254\t126.0\t180.0\t0.0\tUrban\t    N\n",
    "LP001233\tMale\tYes\t    1\tGraduate\t    No\t10750\t0\t    312.0\t360.0\t1.0\tUrban\t    Y\n",
    "LP001238\tMale\tYes\t    3+\tNot Graduate\tYes\t7100\t0\t    125.0\t60.0\t1.0\tUrban\t    Y\n",
    "LP001241\tFemale\tNo\t    0\tGraduate\t    No\t4300\t0\t    136.0\t360.0\t0.0\tSemiurban\tN\n",
    "LP001243\tMale\tYes \t0\tGraduate\t    No\t3208\t3066\t172.0\t360.0\t1.0\tUrban\t    Y"
   ]
  },
  {
   "cell_type": "code",
   "execution_count": 161,
   "metadata": {},
   "outputs": [],
   "source": [
    "# Now you can use the loaded model to make predictions on a single input\n",
    "single_data = {\n",
    "        'applicantIncome': 10750,\n",
    "        'coapplicant_income': 0,\n",
    "        'loan_amount': 312.0,\n",
    "        'loan_amount_term': 360.0,\n",
    "        'credit_history': 1.0,\n",
    "        'gender': 'Male',\n",
    "        'married': 'Yes',\n",
    "        'dependents': '1',\n",
    "        'education': 'Graduate',\n",
    "        'self_employed': 'No',\n",
    "        'property_area': 'Urban'\n",
    "}"
   ]
  },
  {
   "cell_type": "code",
   "execution_count": 162,
   "metadata": {},
   "outputs": [
    {
     "name": "stdout",
     "output_type": "stream",
     "text": [
      "Loan Status Prediction: Y\n"
     ]
    }
   ],
   "source": [
    "# Convert the input data to a DataFrame\n",
    "single_data_df = pd.DataFrame([single_data])\n",
    "\n",
    "# Convert categorical variables to dummy/indicator variables using the same order as during training\n",
    "single_data_df = pd.get_dummies(single_data_df, columns=categorical_features)\n",
    "\n",
    "# Ensure the order of columns matches the order during training\n",
    "single_data_df = single_data_df.reindex(columns=X.columns, fill_value=0)\n",
    "\n",
    "# Make predictions using the loaded model\n",
    "prediction = loaded_model.predict(single_data_df)\n",
    "\n",
    "# Print the prediction\n",
    "print(f'Loan Status Prediction: {prediction[0]}')\n"
   ]
  },
  {
   "cell_type": "code",
   "execution_count": 104,
   "metadata": {},
   "outputs": [
    {
     "data": {
      "text/plain": [
       "array(['Y'], dtype=object)"
      ]
     },
     "execution_count": 104,
     "metadata": {},
     "output_type": "execute_result"
    }
   ],
   "source": [
    "prediction"
   ]
  },
  {
   "cell_type": "code",
   "execution_count": 108,
   "metadata": {},
   "outputs": [
    {
     "name": "stdout",
     "output_type": "stream",
     "text": [
      "Validation Accuracy: 0.65\n"
     ]
    }
   ],
   "source": [
    "\n",
    "from sklearn.neighbors import KNeighborsClassifier\n",
    "# Create a random forest classifier\n",
    "model_kn = KNeighborsClassifier(n_neighbors=40, metric='minkowski', p=2)\n",
    "\n",
    "# Train the classifier on the training data\n",
    "model_kn.fit(X_train, y_train)\n",
    "\n",
    "# Make predictions on the validation set\n",
    "y_pred = model_kn.predict(X_val)\n",
    "\n",
    "\n",
    "test_predictions = model_kn.predict(X_test)\n",
    "\n",
    "# Add the predictions to the test dataset\n",
    "test_data['Loan_Status_Prediction'] = test_predictions\n",
    "\n",
    "# Save the results to a new CSV file\n",
    "test_data.to_csv('test_results.csv', index=False)\n",
    "\n",
    "\n",
    "# Predict on the validation set\n",
    "y_val_pred = model_kn.predict(X_val)\n",
    "\n",
    "# Evaluate the model\n",
    "accuracy = accuracy_score(y_val, y_val_pred)\n",
    "print(f'Validation Accuracy: {accuracy:.2f}')"
   ]
  },
  {
   "cell_type": "code",
   "execution_count": 134,
   "metadata": {},
   "outputs": [
    {
     "name": "stdout",
     "output_type": "stream",
     "text": [
      "Loan Status Prediction: Y\n"
     ]
    }
   ],
   "source": [
    "# Now you can use the loaded model to make predictions on a single input\n",
    "single_data = {\n",
    "        'applicantIncome': 12500,\n",
    "        'coapplicant_income': 3000,\n",
    "        'loan_amount': 320.0,\n",
    "        'loan_amount_term': 360.0,\n",
    "        'credit_history': 1.0,\n",
    "        'gender': 'Male',\n",
    "        'married': 'No',\n",
    "        'dependents': '3+',\n",
    "        'education': 'Graduate',\n",
    "        'self_employed': 'No',\n",
    "        'property_area': 'Rural'\n",
    "}\n",
    "\n",
    "# Convert the input data to a DataFrame\n",
    "single_data_df = pd.DataFrame([single_data])\n",
    "\n",
    "# Convert categorical variables to dummy/indicator variables using the same order as during training\n",
    "single_data_df = pd.get_dummies(single_data_df, columns=categorical_features)\n",
    "\n",
    "# Ensure the order of columns matches the order during training\n",
    "single_data_df = single_data_df.reindex(columns=X.columns, fill_value=0)\n",
    "\n",
    "# Make predictions using the loaded model\n",
    "prediction = model_kn.predict(single_data_df)\n",
    "\n",
    "# Print the prediction\n",
    "print(f'Loan Status Prediction: {prediction[0]}')"
   ]
  },
  {
   "cell_type": "code",
   "execution_count": 42,
   "metadata": {},
   "outputs": [
    {
     "name": "stdout",
     "output_type": "stream",
     "text": [
      "Validation Accuracy: 0.79\n"
     ]
    }
   ],
   "source": [
    "from sklearn.tree import DecisionTreeClassifier\n",
    "model_d = DecisionTreeClassifier(random_state=0, max_depth=3)\n",
    "# Train the classifier on the training data\n",
    "model_d.fit(X_train, y_train)\n",
    "\n",
    "# Make predictions on the validation set\n",
    "y_pred = model_d.predict(X_val)\n",
    "\n",
    "\n",
    "test_predictions = model_d.predict(X_test)\n",
    "\n",
    "# Add the predictions to the test dataset\n",
    "test_data['Loan_Status_Prediction'] = test_predictions\n",
    "\n",
    "# Save the results to a new CSV file\n",
    "test_data.to_csv('test_results.csv', index=False)\n",
    "\n",
    "\n",
    "# Predict on the validation set\n",
    "y_val_pred = model_d.predict(X_val)\n",
    "\n",
    "# Evaluate the model\n",
    "accuracy = accuracy_score(y_val, y_val_pred)\n",
    "print(f'Validation Accuracy: {accuracy:.2f}')"
   ]
  },
  {
   "cell_type": "code",
   "execution_count": 43,
   "metadata": {},
   "outputs": [
    {
     "name": "stdout",
     "output_type": "stream",
     "text": [
      "Loan Status Prediction: N\n"
     ]
    }
   ],
   "source": [
    "# Now you can use the loaded model to make predictions on a single input\n",
    "single_data = {\n",
    "    'applicantIncome': 10513,\n",
    "    'coapplicant_income': 3850,\n",
    "    'loan_amount': 160,\n",
    "    'loan_amount_term': 180,\n",
    "    'credit_history': 0,\n",
    "    'gender': 'Male',\n",
    "    'married': 'Yes',\n",
    "    'dependents': '1',\n",
    "    'education': 'Graduate',\n",
    "    'self_employed': 'Yes',\n",
    "    'property_area': 'Urban'\n",
    "}\n",
    "\n",
    "# Convert the input data to a DataFrame\n",
    "single_data_df = pd.DataFrame([single_data])\n",
    "\n",
    "# Convert categorical variables to dummy/indicator variables using the same order as during training\n",
    "single_data_df = pd.get_dummies(single_data_df, columns=categorical_features)\n",
    "\n",
    "# Ensure the order of columns matches the order during training\n",
    "single_data_df = single_data_df.reindex(columns=X.columns, fill_value=0)\n",
    "\n",
    "# Make predictions using the loaded model\n",
    "prediction = model_d.predict(single_data_df)\n",
    "\n",
    "# Print the prediction\n",
    "print(f'Loan Status Prediction: {prediction[0]}')"
   ]
  },
  {
   "cell_type": "code",
   "execution_count": 44,
   "metadata": {},
   "outputs": [
    {
     "name": "stdout",
     "output_type": "stream",
     "text": [
      "Validation Accuracy: 0.78\n"
     ]
    }
   ],
   "source": [
    "from sklearn.naive_bayes import GaussianNB\n",
    "model_nv = GaussianNB()\n",
    "# Train the classifier on the training data\n",
    "model_nv.fit(X_train, y_train)\n",
    "\n",
    "# Make predictions on the validation set\n",
    "y_pred = model_nv.predict(X_val)\n",
    "\n",
    "\n",
    "test_predictions = model_nv.predict(X_test)\n",
    "\n",
    "# Add the predictions to the test dataset\n",
    "test_data['Loan_Status_Prediction'] = test_predictions\n",
    "\n",
    "# Save the results to a new CSV file\n",
    "test_data.to_csv('test_results.csv', index=False)\n",
    "\n",
    "\n",
    "# Predict on the validation set\n",
    "y_val_pred = model_nv.predict(X_val)\n",
    "\n",
    "# Evaluate the model\n",
    "accuracy = accuracy_score(y_val, y_val_pred)\n",
    "print(f'Validation Accuracy: {accuracy:.2f}')"
   ]
  },
  {
   "cell_type": "code",
   "execution_count": 45,
   "metadata": {},
   "outputs": [
    {
     "name": "stdout",
     "output_type": "stream",
     "text": [
      "Loan Status Prediction: N\n"
     ]
    }
   ],
   "source": [
    "# Now you can use the loaded model to make predictions on a single input\n",
    "single_data = {\n",
    "    'applicantIncome': 10513,\n",
    "    'coapplicant_income': 3850,\n",
    "    'loan_amount': 160,\n",
    "    'loan_amount_term': 180,\n",
    "    'credit_history': 0,\n",
    "    'gender': 'Male',\n",
    "    'married': 'Yes',\n",
    "    'dependents': '1',\n",
    "    'education': 'Graduate',\n",
    "    'self_employed': 'Yes',\n",
    "    'property_area': 'Urban'\n",
    "}\n",
    "\n",
    "# Convert the input data to a DataFrame\n",
    "single_data_df = pd.DataFrame([single_data])\n",
    "\n",
    "# Convert categorical variables to dummy/indicator variables using the same order as during training\n",
    "single_data_df = pd.get_dummies(single_data_df, columns=categorical_features)\n",
    "\n",
    "# Ensure the order of columns matches the order during training\n",
    "single_data_df = single_data_df.reindex(columns=X.columns, fill_value=0)\n",
    "\n",
    "# Make predictions using the loaded model\n",
    "prediction = model_nv.predict(single_data_df)\n",
    "\n",
    "# Print the prediction\n",
    "print(f'Loan Status Prediction: {prediction[0]}')"
   ]
  },
  {
   "cell_type": "code",
   "execution_count": 46,
   "metadata": {},
   "outputs": [
    {
     "name": "stdout",
     "output_type": "stream",
     "text": [
      "Validation Accuracy: 0.78\n"
     ]
    }
   ],
   "source": [
    "from sklearn.linear_model import LogisticRegression\n",
    "model_lr = LogisticRegression(solver='lbfgs', max_iter=300)\n",
    "\n",
    "# Train the classifier on the training data\n",
    "model_lr.fit(X_train, y_train)\n",
    "\n",
    "# Make predictions on the validation set\n",
    "y_pred = model_lr.predict(X_val)\n",
    "\n",
    "\n",
    "test_predictions = model_lr.predict(X_test)\n",
    "\n",
    "# Add the predictions to the test dataset\n",
    "test_data['Loan_Status_Prediction'] = test_predictions\n",
    "\n",
    "# Save the results to a new CSV file\n",
    "test_data.to_csv('test_results.csv', index=False)\n",
    "\n",
    "\n",
    "# Predict on the validation set\n",
    "y_val_pred = model_lr.predict(X_val)\n",
    "\n",
    "# Evaluate the model\n",
    "accuracy = accuracy_score(y_val, y_val_pred)\n",
    "print(f'Validation Accuracy: {accuracy:.2f}')\n"
   ]
  },
  {
   "cell_type": "code",
   "execution_count": 47,
   "metadata": {},
   "outputs": [
    {
     "name": "stdout",
     "output_type": "stream",
     "text": [
      "Loan Status Prediction: N\n"
     ]
    }
   ],
   "source": [
    "# Now you can use the loaded model to make predictions on a single input\n",
    "single_data = {\n",
    "    'applicantIncome': 10513,\n",
    "    'coapplicant_income': 3850,\n",
    "    'loan_amount': 160,\n",
    "    'loan_amount_term': 180,\n",
    "    'credit_history': 0,\n",
    "    'gender': 'Male',\n",
    "    'married': 'Yes',\n",
    "    'dependents': '1',\n",
    "    'education': 'Graduate',\n",
    "    'self_employed': 'Yes',\n",
    "    'property_area': 'Urban'\n",
    "}\n",
    "\n",
    "# Convert the input data to a DataFrame\n",
    "single_data_df = pd.DataFrame([single_data])\n",
    "\n",
    "# Convert categorical variables to dummy/indicator variables using the same order as during training\n",
    "single_data_df = pd.get_dummies(single_data_df, columns=categorical_features)\n",
    "\n",
    "# Ensure the order of columns matches the order during training\n",
    "single_data_df = single_data_df.reindex(columns=X.columns, fill_value=0)\n",
    "\n",
    "# Make predictions using the loaded model\n",
    "prediction = model_lr.predict(single_data_df)\n",
    "\n",
    "# Print the prediction\n",
    "print(f'Loan Status Prediction: {prediction[0]}')"
   ]
  }
 ],
 "metadata": {
  "kernelspec": {
   "display_name": "base",
   "language": "python",
   "name": "python3"
  },
  "language_info": {
   "codemirror_mode": {
    "name": "ipython",
    "version": 3
   },
   "file_extension": ".py",
   "mimetype": "text/x-python",
   "name": "python",
   "nbconvert_exporter": "python",
   "pygments_lexer": "ipython3",
   "version": "3.11.4"
  }
 },
 "nbformat": 4,
 "nbformat_minor": 2
}
