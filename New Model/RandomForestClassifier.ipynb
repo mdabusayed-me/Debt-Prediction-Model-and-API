{
 "cells": [
  {
   "cell_type": "code",
   "execution_count": 102,
   "id": "92dbfb38-0eb0-48bc-8209-3419c1eb1cf2",
   "metadata": {},
   "outputs": [],
   "source": [
    "import pandas as pd\n",
    "from sklearn.model_selection import train_test_split\n",
    "from sklearn.ensemble import RandomForestClassifier\n",
    "from sklearn.metrics import accuracy_score, classification_report\n",
    "import requests"
   ]
  },
  {
   "cell_type": "code",
   "execution_count": 103,
   "id": "557dfed4-ccc2-4cc6-8907-d1d55e7c8945",
   "metadata": {},
   "outputs": [],
   "source": [
    "api_url= \"https://debt-api-4301881a2ff8.herokuapp.com/loan/get_all\"\n",
    "res = requests.get(api_url)\n",
    "train_data = pd.DataFrame(res.json()[\"data\"])\n",
    "test_data = pd.read_csv('test.csv')"
   ]
  },
  {
   "cell_type": "code",
   "execution_count": 104,
   "id": "56222aa1-9f5c-4218-a9f7-602acb60dc0f",
   "metadata": {},
   "outputs": [
    {
     "data": {
      "text/html": [
       "<div>\n",
       "<style scoped>\n",
       "    .dataframe tbody tr th:only-of-type {\n",
       "        vertical-align: middle;\n",
       "    }\n",
       "\n",
       "    .dataframe tbody tr th {\n",
       "        vertical-align: top;\n",
       "    }\n",
       "\n",
       "    .dataframe thead th {\n",
       "        text-align: right;\n",
       "    }\n",
       "</style>\n",
       "<table border=\"1\" class=\"dataframe\">\n",
       "  <thead>\n",
       "    <tr style=\"text-align: right;\">\n",
       "      <th></th>\n",
       "      <th>loan_id</th>\n",
       "      <th>gender</th>\n",
       "      <th>married</th>\n",
       "      <th>dependents</th>\n",
       "      <th>education</th>\n",
       "      <th>self_employed</th>\n",
       "      <th>applicantIncome</th>\n",
       "      <th>coapplicant_income</th>\n",
       "      <th>loan_amount</th>\n",
       "      <th>loan_amount_term</th>\n",
       "      <th>credit_history</th>\n",
       "      <th>property_area</th>\n",
       "      <th>loan_status</th>\n",
       "    </tr>\n",
       "  </thead>\n",
       "  <tbody>\n",
       "    <tr>\n",
       "      <th>0</th>\n",
       "      <td>LP001002</td>\n",
       "      <td>Male</td>\n",
       "      <td>No</td>\n",
       "      <td>0</td>\n",
       "      <td>Graduate</td>\n",
       "      <td>No</td>\n",
       "      <td>5849</td>\n",
       "      <td>0</td>\n",
       "      <td>NaN</td>\n",
       "      <td>360.0</td>\n",
       "      <td>1.0</td>\n",
       "      <td>Urban</td>\n",
       "      <td>Y</td>\n",
       "    </tr>\n",
       "    <tr>\n",
       "      <th>1</th>\n",
       "      <td>LP001003</td>\n",
       "      <td>Male</td>\n",
       "      <td>Yes</td>\n",
       "      <td>1</td>\n",
       "      <td>Graduate</td>\n",
       "      <td>No</td>\n",
       "      <td>4583</td>\n",
       "      <td>1508</td>\n",
       "      <td>128.0</td>\n",
       "      <td>360.0</td>\n",
       "      <td>1.0</td>\n",
       "      <td>Rural</td>\n",
       "      <td>N</td>\n",
       "    </tr>\n",
       "    <tr>\n",
       "      <th>2</th>\n",
       "      <td>LP001005</td>\n",
       "      <td>Male</td>\n",
       "      <td>Yes</td>\n",
       "      <td>0</td>\n",
       "      <td>Graduate</td>\n",
       "      <td>Yes</td>\n",
       "      <td>3000</td>\n",
       "      <td>0</td>\n",
       "      <td>66.0</td>\n",
       "      <td>360.0</td>\n",
       "      <td>1.0</td>\n",
       "      <td>Urban</td>\n",
       "      <td>Y</td>\n",
       "    </tr>\n",
       "    <tr>\n",
       "      <th>3</th>\n",
       "      <td>LP001006</td>\n",
       "      <td>Male</td>\n",
       "      <td>Yes</td>\n",
       "      <td>0</td>\n",
       "      <td>Not Graduate</td>\n",
       "      <td>No</td>\n",
       "      <td>2583</td>\n",
       "      <td>2358</td>\n",
       "      <td>120.0</td>\n",
       "      <td>360.0</td>\n",
       "      <td>1.0</td>\n",
       "      <td>Urban</td>\n",
       "      <td>Y</td>\n",
       "    </tr>\n",
       "    <tr>\n",
       "      <th>4</th>\n",
       "      <td>LP001008</td>\n",
       "      <td>Male</td>\n",
       "      <td>No</td>\n",
       "      <td>0</td>\n",
       "      <td>Graduate</td>\n",
       "      <td>No</td>\n",
       "      <td>6000</td>\n",
       "      <td>0</td>\n",
       "      <td>141.0</td>\n",
       "      <td>360.0</td>\n",
       "      <td>1.0</td>\n",
       "      <td>Urban</td>\n",
       "      <td>Y</td>\n",
       "    </tr>\n",
       "  </tbody>\n",
       "</table>\n",
       "</div>"
      ],
      "text/plain": [
       "    loan_id gender married dependents     education self_employed  \\\n",
       "0  LP001002   Male      No          0      Graduate            No   \n",
       "1  LP001003   Male     Yes          1      Graduate            No   \n",
       "2  LP001005   Male     Yes          0      Graduate           Yes   \n",
       "3  LP001006   Male     Yes          0  Not Graduate            No   \n",
       "4  LP001008   Male      No          0      Graduate            No   \n",
       "\n",
       "   applicantIncome coapplicant_income  loan_amount  loan_amount_term  \\\n",
       "0             5849                  0          NaN             360.0   \n",
       "1             4583               1508        128.0             360.0   \n",
       "2             3000                  0         66.0             360.0   \n",
       "3             2583               2358        120.0             360.0   \n",
       "4             6000                  0        141.0             360.0   \n",
       "\n",
       "   credit_history property_area loan_status  \n",
       "0             1.0         Urban           Y  \n",
       "1             1.0         Rural           N  \n",
       "2             1.0         Urban           Y  \n",
       "3             1.0         Urban           Y  \n",
       "4             1.0         Urban           Y  "
      ]
     },
     "execution_count": 104,
     "metadata": {},
     "output_type": "execute_result"
    }
   ],
   "source": [
    "train_data.head()"
   ]
  },
  {
   "cell_type": "code",
   "execution_count": 105,
   "id": "a6377855-1fef-449e-9c29-4598abb62b10",
   "metadata": {},
   "outputs": [
    {
     "name": "stdout",
     "output_type": "stream",
     "text": [
      "<class 'pandas.core.frame.DataFrame'>\n",
      "RangeIndex: 614 entries, 0 to 613\n",
      "Data columns (total 13 columns):\n",
      " #   Column              Non-Null Count  Dtype  \n",
      "---  ------              --------------  -----  \n",
      " 0   loan_id             614 non-null    object \n",
      " 1   gender              601 non-null    object \n",
      " 2   married             611 non-null    object \n",
      " 3   dependents          599 non-null    object \n",
      " 4   education           614 non-null    object \n",
      " 5   self_employed       582 non-null    object \n",
      " 6   applicantIncome     614 non-null    int64  \n",
      " 7   coapplicant_income  614 non-null    object \n",
      " 8   loan_amount         592 non-null    float64\n",
      " 9   loan_amount_term    600 non-null    float64\n",
      " 10  credit_history      564 non-null    float64\n",
      " 11  property_area       614 non-null    object \n",
      " 12  loan_status         614 non-null    object \n",
      "dtypes: float64(3), int64(1), object(9)\n",
      "memory usage: 62.5+ KB\n"
     ]
    }
   ],
   "source": [
    "train_data.info()"
   ]
  },
  {
   "cell_type": "code",
   "execution_count": 106,
   "id": "1add5b5c-25ec-4fb2-9a85-bb984b87b1f3",
   "metadata": {},
   "outputs": [
    {
     "name": "stdout",
     "output_type": "stream",
     "text": [
      "float64\n"
     ]
    }
   ],
   "source": [
    "# convert string to float\n",
    "train_data['coapplicant_income'] = train_data['coapplicant_income'].astype(float)\n",
    "print(train_data['coapplicant_income'].dtype)"
   ]
  },
  {
   "cell_type": "code",
   "execution_count": 107,
   "id": "623b25ad-011a-48c0-84b1-16e158cd5a6a",
   "metadata": {},
   "outputs": [
    {
     "name": "stdout",
     "output_type": "stream",
     "text": [
      "float64\n"
     ]
    }
   ],
   "source": [
    "# convert string to float\n",
    "train_data['applicantIncome'] = train_data['applicantIncome'].astype(float)\n",
    "print(train_data['coapplicant_income'].dtype)"
   ]
  },
  {
   "cell_type": "code",
   "execution_count": 108,
   "id": "3d2af7c3-aa57-4e17-a37f-ce3a22604126",
   "metadata": {},
   "outputs": [
    {
     "data": {
      "text/plain": [
       "loan_id                object\n",
       "gender                 object\n",
       "married                object\n",
       "dependents             object\n",
       "education              object\n",
       "self_employed          object\n",
       "applicantIncome       float64\n",
       "coapplicant_income    float64\n",
       "loan_amount           float64\n",
       "loan_amount_term      float64\n",
       "credit_history        float64\n",
       "property_area          object\n",
       "loan_status            object\n",
       "dtype: object"
      ]
     },
     "execution_count": 108,
     "metadata": {},
     "output_type": "execute_result"
    }
   ],
   "source": [
    "train_data.dtypes"
   ]
  },
  {
   "cell_type": "code",
   "execution_count": 109,
   "id": "77a19107-7159-47f0-b4d9-1456c27ca429",
   "metadata": {},
   "outputs": [
    {
     "data": {
      "text/plain": [
       "loan_id                0\n",
       "gender                13\n",
       "married                3\n",
       "dependents            15\n",
       "education              0\n",
       "self_employed         32\n",
       "applicantIncome        0\n",
       "coapplicant_income     0\n",
       "loan_amount           22\n",
       "loan_amount_term      14\n",
       "credit_history        50\n",
       "property_area          0\n",
       "loan_status            0\n",
       "dtype: int64"
      ]
     },
     "execution_count": 109,
     "metadata": {},
     "output_type": "execute_result"
    }
   ],
   "source": [
    "train_data.isnull().sum()"
   ]
  },
  {
   "cell_type": "code",
   "execution_count": 110,
   "id": "7a56abc1-6a93-4902-ba58-c9b65cf00eba",
   "metadata": {},
   "outputs": [],
   "source": [
    "# handle categorical missing data\n",
    "# train_data['Gender'].mode()[0]\n",
    "train_data['gender'] = train_data['gender'].fillna(train_data['gender'].mode()[0])\n",
    "train_data['married'] = train_data['married'].fillna(train_data['married'].mode()[0])\n",
    "train_data['dependents'] = train_data['dependents'].fillna(train_data['dependents'].mode()[0])\n",
    "train_data['self_employed'] = train_data['self_employed'].fillna(train_data['self_employed'].mode()[0])"
   ]
  },
  {
   "cell_type": "code",
   "execution_count": 111,
   "id": "ce356872-4c79-41c3-a6c3-5cf0bb9aa486",
   "metadata": {},
   "outputs": [],
   "source": [
    "# handle numerical missing data\n",
    "train_data['loan_amount'] = train_data['loan_amount'].fillna(train_data['loan_amount'].mean())\n",
    "train_data['loan_amount_term'] = train_data['loan_amount_term'].fillna(train_data['loan_amount_term'].mean())\n",
    "train_data['credit_history'] = train_data['credit_history'].fillna(train_data['credit_history'].mean())"
   ]
  },
  {
   "cell_type": "code",
   "execution_count": 112,
   "id": "f69ce875-d510-4cd9-b78d-f057460c3114",
   "metadata": {},
   "outputs": [],
   "source": [
    "features = ['gender', 'married', 'dependents', 'education', 'self_employed',\n",
    "            'applicantIncome', 'coapplicant_income', 'loan_amount', 'loan_amount_term',\n",
    "            'credit_history', 'property_area']\n",
    "\n",
    "X = train_data[features]\n",
    "y = train_data['loan_status']"
   ]
  },
  {
   "cell_type": "code",
   "execution_count": 113,
   "id": "d8c0fe7b-8572-4f3b-95f9-c652dc210008",
   "metadata": {},
   "outputs": [],
   "source": [
    "# Convert categorical variables to dummy/indicator variables\n",
    "X = pd.get_dummies(X)"
   ]
  },
  {
   "cell_type": "code",
   "execution_count": 114,
   "id": "2ce55c2f-47ea-49fa-93b9-d2bb71a3963a",
   "metadata": {},
   "outputs": [
    {
     "data": {
      "text/html": [
       "<div>\n",
       "<style scoped>\n",
       "    .dataframe tbody tr th:only-of-type {\n",
       "        vertical-align: middle;\n",
       "    }\n",
       "\n",
       "    .dataframe tbody tr th {\n",
       "        vertical-align: top;\n",
       "    }\n",
       "\n",
       "    .dataframe thead th {\n",
       "        text-align: right;\n",
       "    }\n",
       "</style>\n",
       "<table border=\"1\" class=\"dataframe\">\n",
       "  <thead>\n",
       "    <tr style=\"text-align: right;\">\n",
       "      <th></th>\n",
       "      <th>applicantIncome</th>\n",
       "      <th>coapplicant_income</th>\n",
       "      <th>loan_amount</th>\n",
       "      <th>loan_amount_term</th>\n",
       "      <th>credit_history</th>\n",
       "      <th>gender_Female</th>\n",
       "      <th>gender_Male</th>\n",
       "      <th>married_No</th>\n",
       "      <th>married_Yes</th>\n",
       "      <th>dependents_0</th>\n",
       "      <th>dependents_1</th>\n",
       "      <th>dependents_2</th>\n",
       "      <th>dependents_3+</th>\n",
       "      <th>education_Graduate</th>\n",
       "      <th>education_Not Graduate</th>\n",
       "      <th>self_employed_No</th>\n",
       "      <th>self_employed_Yes</th>\n",
       "      <th>property_area_Rural</th>\n",
       "      <th>property_area_Semiurban</th>\n",
       "      <th>property_area_Urban</th>\n",
       "    </tr>\n",
       "  </thead>\n",
       "  <tbody>\n",
       "    <tr>\n",
       "      <th>0</th>\n",
       "      <td>5849.0</td>\n",
       "      <td>0.0</td>\n",
       "      <td>146.412162</td>\n",
       "      <td>360.0</td>\n",
       "      <td>1.0</td>\n",
       "      <td>False</td>\n",
       "      <td>True</td>\n",
       "      <td>True</td>\n",
       "      <td>False</td>\n",
       "      <td>True</td>\n",
       "      <td>False</td>\n",
       "      <td>False</td>\n",
       "      <td>False</td>\n",
       "      <td>True</td>\n",
       "      <td>False</td>\n",
       "      <td>True</td>\n",
       "      <td>False</td>\n",
       "      <td>False</td>\n",
       "      <td>False</td>\n",
       "      <td>True</td>\n",
       "    </tr>\n",
       "    <tr>\n",
       "      <th>1</th>\n",
       "      <td>4583.0</td>\n",
       "      <td>1508.0</td>\n",
       "      <td>128.000000</td>\n",
       "      <td>360.0</td>\n",
       "      <td>1.0</td>\n",
       "      <td>False</td>\n",
       "      <td>True</td>\n",
       "      <td>False</td>\n",
       "      <td>True</td>\n",
       "      <td>False</td>\n",
       "      <td>True</td>\n",
       "      <td>False</td>\n",
       "      <td>False</td>\n",
       "      <td>True</td>\n",
       "      <td>False</td>\n",
       "      <td>True</td>\n",
       "      <td>False</td>\n",
       "      <td>True</td>\n",
       "      <td>False</td>\n",
       "      <td>False</td>\n",
       "    </tr>\n",
       "    <tr>\n",
       "      <th>2</th>\n",
       "      <td>3000.0</td>\n",
       "      <td>0.0</td>\n",
       "      <td>66.000000</td>\n",
       "      <td>360.0</td>\n",
       "      <td>1.0</td>\n",
       "      <td>False</td>\n",
       "      <td>True</td>\n",
       "      <td>False</td>\n",
       "      <td>True</td>\n",
       "      <td>True</td>\n",
       "      <td>False</td>\n",
       "      <td>False</td>\n",
       "      <td>False</td>\n",
       "      <td>True</td>\n",
       "      <td>False</td>\n",
       "      <td>False</td>\n",
       "      <td>True</td>\n",
       "      <td>False</td>\n",
       "      <td>False</td>\n",
       "      <td>True</td>\n",
       "    </tr>\n",
       "    <tr>\n",
       "      <th>3</th>\n",
       "      <td>2583.0</td>\n",
       "      <td>2358.0</td>\n",
       "      <td>120.000000</td>\n",
       "      <td>360.0</td>\n",
       "      <td>1.0</td>\n",
       "      <td>False</td>\n",
       "      <td>True</td>\n",
       "      <td>False</td>\n",
       "      <td>True</td>\n",
       "      <td>True</td>\n",
       "      <td>False</td>\n",
       "      <td>False</td>\n",
       "      <td>False</td>\n",
       "      <td>False</td>\n",
       "      <td>True</td>\n",
       "      <td>True</td>\n",
       "      <td>False</td>\n",
       "      <td>False</td>\n",
       "      <td>False</td>\n",
       "      <td>True</td>\n",
       "    </tr>\n",
       "    <tr>\n",
       "      <th>4</th>\n",
       "      <td>6000.0</td>\n",
       "      <td>0.0</td>\n",
       "      <td>141.000000</td>\n",
       "      <td>360.0</td>\n",
       "      <td>1.0</td>\n",
       "      <td>False</td>\n",
       "      <td>True</td>\n",
       "      <td>True</td>\n",
       "      <td>False</td>\n",
       "      <td>True</td>\n",
       "      <td>False</td>\n",
       "      <td>False</td>\n",
       "      <td>False</td>\n",
       "      <td>True</td>\n",
       "      <td>False</td>\n",
       "      <td>True</td>\n",
       "      <td>False</td>\n",
       "      <td>False</td>\n",
       "      <td>False</td>\n",
       "      <td>True</td>\n",
       "    </tr>\n",
       "  </tbody>\n",
       "</table>\n",
       "</div>"
      ],
      "text/plain": [
       "   applicantIncome  coapplicant_income  loan_amount  loan_amount_term  \\\n",
       "0           5849.0                 0.0   146.412162             360.0   \n",
       "1           4583.0              1508.0   128.000000             360.0   \n",
       "2           3000.0                 0.0    66.000000             360.0   \n",
       "3           2583.0              2358.0   120.000000             360.0   \n",
       "4           6000.0                 0.0   141.000000             360.0   \n",
       "\n",
       "   credit_history  gender_Female  gender_Male  married_No  married_Yes  \\\n",
       "0             1.0          False         True        True        False   \n",
       "1             1.0          False         True       False         True   \n",
       "2             1.0          False         True       False         True   \n",
       "3             1.0          False         True       False         True   \n",
       "4             1.0          False         True        True        False   \n",
       "\n",
       "   dependents_0  dependents_1  dependents_2  dependents_3+  \\\n",
       "0          True         False         False          False   \n",
       "1         False          True         False          False   \n",
       "2          True         False         False          False   \n",
       "3          True         False         False          False   \n",
       "4          True         False         False          False   \n",
       "\n",
       "   education_Graduate  education_Not Graduate  self_employed_No  \\\n",
       "0                True                   False              True   \n",
       "1                True                   False              True   \n",
       "2                True                   False             False   \n",
       "3               False                    True              True   \n",
       "4                True                   False              True   \n",
       "\n",
       "   self_employed_Yes  property_area_Rural  property_area_Semiurban  \\\n",
       "0              False                False                    False   \n",
       "1              False                 True                    False   \n",
       "2               True                False                    False   \n",
       "3              False                False                    False   \n",
       "4              False                False                    False   \n",
       "\n",
       "   property_area_Urban  \n",
       "0                 True  \n",
       "1                False  \n",
       "2                 True  \n",
       "3                 True  \n",
       "4                 True  "
      ]
     },
     "execution_count": 114,
     "metadata": {},
     "output_type": "execute_result"
    }
   ],
   "source": [
    "X.head()"
   ]
  },
  {
   "cell_type": "code",
   "execution_count": 115,
   "id": "3495a4f2-7ec4-4fc6-8f0d-3bffc233d454",
   "metadata": {},
   "outputs": [],
   "source": [
    "# Split the data into training and validation sets\n",
    "X_train, X_val, y_train, y_val = train_test_split(X, y, test_size=0.2, random_state=42)"
   ]
  },
  {
   "cell_type": "code",
   "execution_count": 116,
   "id": "fc33687f-9afe-43fd-aa3c-ed3250a4233c",
   "metadata": {},
   "outputs": [
    {
     "data": {
      "text/html": [
       "<div>\n",
       "<style scoped>\n",
       "    .dataframe tbody tr th:only-of-type {\n",
       "        vertical-align: middle;\n",
       "    }\n",
       "\n",
       "    .dataframe tbody tr th {\n",
       "        vertical-align: top;\n",
       "    }\n",
       "\n",
       "    .dataframe thead th {\n",
       "        text-align: right;\n",
       "    }\n",
       "</style>\n",
       "<table border=\"1\" class=\"dataframe\">\n",
       "  <thead>\n",
       "    <tr style=\"text-align: right;\">\n",
       "      <th></th>\n",
       "      <th>applicantIncome</th>\n",
       "      <th>coapplicant_income</th>\n",
       "      <th>loan_amount</th>\n",
       "      <th>loan_amount_term</th>\n",
       "      <th>credit_history</th>\n",
       "      <th>gender_Female</th>\n",
       "      <th>gender_Male</th>\n",
       "      <th>married_No</th>\n",
       "      <th>married_Yes</th>\n",
       "      <th>dependents_0</th>\n",
       "      <th>dependents_1</th>\n",
       "      <th>dependents_2</th>\n",
       "      <th>dependents_3+</th>\n",
       "      <th>education_Graduate</th>\n",
       "      <th>education_Not Graduate</th>\n",
       "      <th>self_employed_No</th>\n",
       "      <th>self_employed_Yes</th>\n",
       "      <th>property_area_Rural</th>\n",
       "      <th>property_area_Semiurban</th>\n",
       "      <th>property_area_Urban</th>\n",
       "    </tr>\n",
       "  </thead>\n",
       "  <tbody>\n",
       "    <tr>\n",
       "      <th>83</th>\n",
       "      <td>6000.0</td>\n",
       "      <td>2250.0</td>\n",
       "      <td>265.0</td>\n",
       "      <td>360.0</td>\n",
       "      <td>0.842199</td>\n",
       "      <td>False</td>\n",
       "      <td>True</td>\n",
       "      <td>False</td>\n",
       "      <td>True</td>\n",
       "      <td>True</td>\n",
       "      <td>False</td>\n",
       "      <td>False</td>\n",
       "      <td>False</td>\n",
       "      <td>True</td>\n",
       "      <td>False</td>\n",
       "      <td>True</td>\n",
       "      <td>False</td>\n",
       "      <td>False</td>\n",
       "      <td>True</td>\n",
       "      <td>False</td>\n",
       "    </tr>\n",
       "    <tr>\n",
       "      <th>90</th>\n",
       "      <td>2958.0</td>\n",
       "      <td>2900.0</td>\n",
       "      <td>131.0</td>\n",
       "      <td>360.0</td>\n",
       "      <td>1.000000</td>\n",
       "      <td>False</td>\n",
       "      <td>True</td>\n",
       "      <td>False</td>\n",
       "      <td>True</td>\n",
       "      <td>True</td>\n",
       "      <td>False</td>\n",
       "      <td>False</td>\n",
       "      <td>False</td>\n",
       "      <td>True</td>\n",
       "      <td>False</td>\n",
       "      <td>True</td>\n",
       "      <td>False</td>\n",
       "      <td>False</td>\n",
       "      <td>True</td>\n",
       "      <td>False</td>\n",
       "    </tr>\n",
       "    <tr>\n",
       "      <th>227</th>\n",
       "      <td>6250.0</td>\n",
       "      <td>1695.0</td>\n",
       "      <td>210.0</td>\n",
       "      <td>360.0</td>\n",
       "      <td>1.000000</td>\n",
       "      <td>False</td>\n",
       "      <td>True</td>\n",
       "      <td>False</td>\n",
       "      <td>True</td>\n",
       "      <td>False</td>\n",
       "      <td>False</td>\n",
       "      <td>True</td>\n",
       "      <td>False</td>\n",
       "      <td>True</td>\n",
       "      <td>False</td>\n",
       "      <td>True</td>\n",
       "      <td>False</td>\n",
       "      <td>False</td>\n",
       "      <td>True</td>\n",
       "      <td>False</td>\n",
       "    </tr>\n",
       "    <tr>\n",
       "      <th>482</th>\n",
       "      <td>2083.0</td>\n",
       "      <td>3150.0</td>\n",
       "      <td>128.0</td>\n",
       "      <td>360.0</td>\n",
       "      <td>1.000000</td>\n",
       "      <td>False</td>\n",
       "      <td>True</td>\n",
       "      <td>False</td>\n",
       "      <td>True</td>\n",
       "      <td>True</td>\n",
       "      <td>False</td>\n",
       "      <td>False</td>\n",
       "      <td>False</td>\n",
       "      <td>True</td>\n",
       "      <td>False</td>\n",
       "      <td>True</td>\n",
       "      <td>False</td>\n",
       "      <td>False</td>\n",
       "      <td>True</td>\n",
       "      <td>False</td>\n",
       "    </tr>\n",
       "    <tr>\n",
       "      <th>464</th>\n",
       "      <td>4166.0</td>\n",
       "      <td>0.0</td>\n",
       "      <td>98.0</td>\n",
       "      <td>360.0</td>\n",
       "      <td>0.000000</td>\n",
       "      <td>False</td>\n",
       "      <td>True</td>\n",
       "      <td>True</td>\n",
       "      <td>False</td>\n",
       "      <td>True</td>\n",
       "      <td>False</td>\n",
       "      <td>False</td>\n",
       "      <td>False</td>\n",
       "      <td>True</td>\n",
       "      <td>False</td>\n",
       "      <td>True</td>\n",
       "      <td>False</td>\n",
       "      <td>False</td>\n",
       "      <td>True</td>\n",
       "      <td>False</td>\n",
       "    </tr>\n",
       "  </tbody>\n",
       "</table>\n",
       "</div>"
      ],
      "text/plain": [
       "     applicantIncome  coapplicant_income  loan_amount  loan_amount_term  \\\n",
       "83            6000.0              2250.0        265.0             360.0   \n",
       "90            2958.0              2900.0        131.0             360.0   \n",
       "227           6250.0              1695.0        210.0             360.0   \n",
       "482           2083.0              3150.0        128.0             360.0   \n",
       "464           4166.0                 0.0         98.0             360.0   \n",
       "\n",
       "     credit_history  gender_Female  gender_Male  married_No  married_Yes  \\\n",
       "83         0.842199          False         True       False         True   \n",
       "90         1.000000          False         True       False         True   \n",
       "227        1.000000          False         True       False         True   \n",
       "482        1.000000          False         True       False         True   \n",
       "464        0.000000          False         True        True        False   \n",
       "\n",
       "     dependents_0  dependents_1  dependents_2  dependents_3+  \\\n",
       "83           True         False         False          False   \n",
       "90           True         False         False          False   \n",
       "227         False         False          True          False   \n",
       "482          True         False         False          False   \n",
       "464          True         False         False          False   \n",
       "\n",
       "     education_Graduate  education_Not Graduate  self_employed_No  \\\n",
       "83                 True                   False              True   \n",
       "90                 True                   False              True   \n",
       "227                True                   False              True   \n",
       "482                True                   False              True   \n",
       "464                True                   False              True   \n",
       "\n",
       "     self_employed_Yes  property_area_Rural  property_area_Semiurban  \\\n",
       "83               False                False                     True   \n",
       "90               False                False                     True   \n",
       "227              False                False                     True   \n",
       "482              False                False                     True   \n",
       "464              False                False                     True   \n",
       "\n",
       "     property_area_Urban  \n",
       "83                 False  \n",
       "90                 False  \n",
       "227                False  \n",
       "482                False  \n",
       "464                False  "
      ]
     },
     "execution_count": 116,
     "metadata": {},
     "output_type": "execute_result"
    }
   ],
   "source": [
    "X_train.head()"
   ]
  },
  {
   "cell_type": "code",
   "execution_count": 117,
   "id": "8adad487-6734-49ee-aee4-209d1d96953d",
   "metadata": {},
   "outputs": [
    {
     "data": {
      "text/plain": [
       "83     N\n",
       "90     Y\n",
       "227    Y\n",
       "482    Y\n",
       "464    N\n",
       "Name: loan_status, dtype: object"
      ]
     },
     "execution_count": 117,
     "metadata": {},
     "output_type": "execute_result"
    }
   ],
   "source": [
    "y_train.head()"
   ]
  },
  {
   "cell_type": "code",
   "execution_count": 118,
   "id": "f47e4cdf-3c31-43bb-b35e-47aadaa63591",
   "metadata": {},
   "outputs": [],
   "source": [
    "# Create a random forest classifier\n",
    "Model_RF = RandomForestClassifier(n_estimators=100, random_state=42)\n",
    "\n",
    "# Train the classifier on the training data\n",
    "Model_RF.fit(X_train, y_train)\n",
    "\n",
    "# Make predictions on the validation set\n",
    "y_pred = Model_RF.predict(X_val)"
   ]
  },
  {
   "cell_type": "code",
   "execution_count": 119,
   "id": "d05fd933-44df-4902-81bd-aebb26d3eab1",
   "metadata": {},
   "outputs": [
    {
     "name": "stdout",
     "output_type": "stream",
     "text": [
      "Accuracy: 0.7723577235772358\n",
      "              precision    recall  f1-score   support\n",
      "\n",
      "           N       0.86      0.42      0.56        43\n",
      "           Y       0.75      0.96      0.85        80\n",
      "\n",
      "    accuracy                           0.77       123\n",
      "   macro avg       0.81      0.69      0.70       123\n",
      "weighted avg       0.79      0.77      0.75       123\n",
      "\n"
     ]
    }
   ],
   "source": [
    "# Evaluate the model\n",
    "accuracy = accuracy_score(y_val, y_pred)\n",
    "print(f'Accuracy: {accuracy}')\n",
    "\n",
    "# Print classification report for more detailed evaluation\n",
    "print(classification_report(y_val, y_pred))"
   ]
  },
  {
   "cell_type": "code",
   "execution_count": 120,
   "id": "dd9d1ba7-ff47-4fbb-8041-cb41c612223f",
   "metadata": {},
   "outputs": [],
   "source": [
    "# Now, I can use the trained model to make predictions on the test dataset\n",
    "X_test = test_data[features]"
   ]
  },
  {
   "cell_type": "code",
   "execution_count": 121,
   "id": "8018a24b-8c6f-4d40-aa9f-8d74f6572206",
   "metadata": {},
   "outputs": [
    {
     "data": {
      "text/plain": [
       "gender                11\n",
       "married                0\n",
       "dependents            10\n",
       "education              0\n",
       "self_employed         23\n",
       "applicantIncome        0\n",
       "coapplicant_income     0\n",
       "loan_amount            5\n",
       "loan_amount_term       6\n",
       "credit_history        29\n",
       "property_area          0\n",
       "dtype: int64"
      ]
     },
     "execution_count": 121,
     "metadata": {},
     "output_type": "execute_result"
    }
   ],
   "source": [
    "X_test.isnull().sum()"
   ]
  },
  {
   "cell_type": "code",
   "execution_count": 122,
   "id": "d83294d1-afa3-455b-8344-eaa5f757bc05",
   "metadata": {},
   "outputs": [
    {
     "name": "stderr",
     "output_type": "stream",
     "text": [
      "C:\\Users\\ASUS\\AppData\\Local\\Temp\\ipykernel_11564\\1922303881.py:1: SettingWithCopyWarning: \n",
      "A value is trying to be set on a copy of a slice from a DataFrame.\n",
      "Try using .loc[row_indexer,col_indexer] = value instead\n",
      "\n",
      "See the caveats in the documentation: https://pandas.pydata.org/pandas-docs/stable/user_guide/indexing.html#returning-a-view-versus-a-copy\n",
      "  X_test['loan_amount'] = X_test['loan_amount'].fillna(X_test['loan_amount'].mean())\n",
      "C:\\Users\\ASUS\\AppData\\Local\\Temp\\ipykernel_11564\\1922303881.py:2: SettingWithCopyWarning: \n",
      "A value is trying to be set on a copy of a slice from a DataFrame.\n",
      "Try using .loc[row_indexer,col_indexer] = value instead\n",
      "\n",
      "See the caveats in the documentation: https://pandas.pydata.org/pandas-docs/stable/user_guide/indexing.html#returning-a-view-versus-a-copy\n",
      "  X_test['loan_amount_term'] = X_test['loan_amount_term'].fillna(X_test['loan_amount_term'].mean())\n",
      "C:\\Users\\ASUS\\AppData\\Local\\Temp\\ipykernel_11564\\1922303881.py:3: SettingWithCopyWarning: \n",
      "A value is trying to be set on a copy of a slice from a DataFrame.\n",
      "Try using .loc[row_indexer,col_indexer] = value instead\n",
      "\n",
      "See the caveats in the documentation: https://pandas.pydata.org/pandas-docs/stable/user_guide/indexing.html#returning-a-view-versus-a-copy\n",
      "  X_test['credit_history'] = X_test['credit_history'].fillna(X_test['credit_history'].mean())\n"
     ]
    }
   ],
   "source": [
    "X_test['loan_amount'] = X_test['loan_amount'].fillna(X_test['loan_amount'].mean())\n",
    "X_test['loan_amount_term'] = X_test['loan_amount_term'].fillna(X_test['loan_amount_term'].mean())\n",
    "X_test['credit_history'] = X_test['credit_history'].fillna(X_test['credit_history'].mean())"
   ]
  },
  {
   "cell_type": "code",
   "execution_count": 123,
   "id": "400a54fb-6401-461a-8ac4-acc8cd992b2a",
   "metadata": {},
   "outputs": [
    {
     "data": {
      "text/plain": [
       "gender                11\n",
       "married                0\n",
       "dependents            10\n",
       "education              0\n",
       "self_employed         23\n",
       "applicantIncome        0\n",
       "coapplicant_income     0\n",
       "loan_amount            0\n",
       "loan_amount_term       0\n",
       "credit_history         0\n",
       "property_area          0\n",
       "dtype: int64"
      ]
     },
     "execution_count": 123,
     "metadata": {},
     "output_type": "execute_result"
    }
   ],
   "source": [
    "X_test.isnull().sum()"
   ]
  },
  {
   "cell_type": "code",
   "execution_count": 124,
   "id": "8434a2cf-a2fa-4933-b2c6-d0b30cc15465",
   "metadata": {},
   "outputs": [
    {
     "name": "stderr",
     "output_type": "stream",
     "text": [
      "C:\\Users\\ASUS\\AppData\\Local\\Temp\\ipykernel_11564\\650965263.py:3: SettingWithCopyWarning: \n",
      "A value is trying to be set on a copy of a slice from a DataFrame.\n",
      "Try using .loc[row_indexer,col_indexer] = value instead\n",
      "\n",
      "See the caveats in the documentation: https://pandas.pydata.org/pandas-docs/stable/user_guide/indexing.html#returning-a-view-versus-a-copy\n",
      "  X_test['gender'] = X_test['gender'].fillna(X_test['gender'].mode()[0])\n",
      "C:\\Users\\ASUS\\AppData\\Local\\Temp\\ipykernel_11564\\650965263.py:4: SettingWithCopyWarning: \n",
      "A value is trying to be set on a copy of a slice from a DataFrame.\n",
      "Try using .loc[row_indexer,col_indexer] = value instead\n",
      "\n",
      "See the caveats in the documentation: https://pandas.pydata.org/pandas-docs/stable/user_guide/indexing.html#returning-a-view-versus-a-copy\n",
      "  X_test['dependents'] = X_test['dependents'].fillna(X_test['dependents'].mode()[0])\n",
      "C:\\Users\\ASUS\\AppData\\Local\\Temp\\ipykernel_11564\\650965263.py:5: SettingWithCopyWarning: \n",
      "A value is trying to be set on a copy of a slice from a DataFrame.\n",
      "Try using .loc[row_indexer,col_indexer] = value instead\n",
      "\n",
      "See the caveats in the documentation: https://pandas.pydata.org/pandas-docs/stable/user_guide/indexing.html#returning-a-view-versus-a-copy\n",
      "  X_test['self_employed'] = X_test['self_employed'].fillna(X_test['self_employed'].mode()[0])\n"
     ]
    }
   ],
   "source": [
    "# handle categorical missing data\n",
    "# train_data['Gender'].mode()[0]\n",
    "X_test['gender'] = X_test['gender'].fillna(X_test['gender'].mode()[0])\n",
    "X_test['dependents'] = X_test['dependents'].fillna(X_test['dependents'].mode()[0])\n",
    "X_test['self_employed'] = X_test['self_employed'].fillna(X_test['self_employed'].mode()[0])"
   ]
  },
  {
   "cell_type": "code",
   "execution_count": 125,
   "id": "a22b5d7a-2ce9-428c-a8cb-9e6cbdd74576",
   "metadata": {},
   "outputs": [
    {
     "data": {
      "text/plain": [
       "gender                0\n",
       "married               0\n",
       "dependents            0\n",
       "education             0\n",
       "self_employed         0\n",
       "applicantIncome       0\n",
       "coapplicant_income    0\n",
       "loan_amount           0\n",
       "loan_amount_term      0\n",
       "credit_history        0\n",
       "property_area         0\n",
       "dtype: int64"
      ]
     },
     "execution_count": 125,
     "metadata": {},
     "output_type": "execute_result"
    }
   ],
   "source": [
    "X_test.isnull().sum()"
   ]
  },
  {
   "cell_type": "code",
   "execution_count": 126,
   "id": "e1f687b0-711c-4b40-b661-8f7510164bb3",
   "metadata": {},
   "outputs": [],
   "source": [
    "X_test = pd.get_dummies(X_test)"
   ]
  },
  {
   "cell_type": "code",
   "execution_count": 127,
   "id": "eed3c35a-7178-4d5e-94d7-734157304ec6",
   "metadata": {},
   "outputs": [
    {
     "data": {
      "text/html": [
       "<div>\n",
       "<style scoped>\n",
       "    .dataframe tbody tr th:only-of-type {\n",
       "        vertical-align: middle;\n",
       "    }\n",
       "\n",
       "    .dataframe tbody tr th {\n",
       "        vertical-align: top;\n",
       "    }\n",
       "\n",
       "    .dataframe thead th {\n",
       "        text-align: right;\n",
       "    }\n",
       "</style>\n",
       "<table border=\"1\" class=\"dataframe\">\n",
       "  <thead>\n",
       "    <tr style=\"text-align: right;\">\n",
       "      <th></th>\n",
       "      <th>applicantIncome</th>\n",
       "      <th>coapplicant_income</th>\n",
       "      <th>loan_amount</th>\n",
       "      <th>loan_amount_term</th>\n",
       "      <th>credit_history</th>\n",
       "      <th>gender_Female</th>\n",
       "      <th>gender_Male</th>\n",
       "      <th>married_No</th>\n",
       "      <th>married_Yes</th>\n",
       "      <th>dependents_0</th>\n",
       "      <th>dependents_1</th>\n",
       "      <th>dependents_2</th>\n",
       "      <th>dependents_3+</th>\n",
       "      <th>education_Graduate</th>\n",
       "      <th>education_Not Graduate</th>\n",
       "      <th>self_employed_No</th>\n",
       "      <th>self_employed_Yes</th>\n",
       "      <th>property_area_Rural</th>\n",
       "      <th>property_area_Semiurban</th>\n",
       "      <th>property_area_Urban</th>\n",
       "    </tr>\n",
       "  </thead>\n",
       "  <tbody>\n",
       "    <tr>\n",
       "      <th>0</th>\n",
       "      <td>5720</td>\n",
       "      <td>0</td>\n",
       "      <td>110.0</td>\n",
       "      <td>360.0</td>\n",
       "      <td>1.000000</td>\n",
       "      <td>False</td>\n",
       "      <td>True</td>\n",
       "      <td>False</td>\n",
       "      <td>True</td>\n",
       "      <td>True</td>\n",
       "      <td>False</td>\n",
       "      <td>False</td>\n",
       "      <td>False</td>\n",
       "      <td>True</td>\n",
       "      <td>False</td>\n",
       "      <td>True</td>\n",
       "      <td>False</td>\n",
       "      <td>False</td>\n",
       "      <td>False</td>\n",
       "      <td>True</td>\n",
       "    </tr>\n",
       "    <tr>\n",
       "      <th>1</th>\n",
       "      <td>3076</td>\n",
       "      <td>1500</td>\n",
       "      <td>126.0</td>\n",
       "      <td>360.0</td>\n",
       "      <td>1.000000</td>\n",
       "      <td>False</td>\n",
       "      <td>True</td>\n",
       "      <td>False</td>\n",
       "      <td>True</td>\n",
       "      <td>False</td>\n",
       "      <td>True</td>\n",
       "      <td>False</td>\n",
       "      <td>False</td>\n",
       "      <td>True</td>\n",
       "      <td>False</td>\n",
       "      <td>True</td>\n",
       "      <td>False</td>\n",
       "      <td>False</td>\n",
       "      <td>False</td>\n",
       "      <td>True</td>\n",
       "    </tr>\n",
       "    <tr>\n",
       "      <th>2</th>\n",
       "      <td>5000</td>\n",
       "      <td>1800</td>\n",
       "      <td>208.0</td>\n",
       "      <td>360.0</td>\n",
       "      <td>1.000000</td>\n",
       "      <td>False</td>\n",
       "      <td>True</td>\n",
       "      <td>False</td>\n",
       "      <td>True</td>\n",
       "      <td>False</td>\n",
       "      <td>False</td>\n",
       "      <td>True</td>\n",
       "      <td>False</td>\n",
       "      <td>True</td>\n",
       "      <td>False</td>\n",
       "      <td>True</td>\n",
       "      <td>False</td>\n",
       "      <td>False</td>\n",
       "      <td>False</td>\n",
       "      <td>True</td>\n",
       "    </tr>\n",
       "    <tr>\n",
       "      <th>3</th>\n",
       "      <td>2340</td>\n",
       "      <td>2546</td>\n",
       "      <td>100.0</td>\n",
       "      <td>360.0</td>\n",
       "      <td>0.825444</td>\n",
       "      <td>False</td>\n",
       "      <td>True</td>\n",
       "      <td>False</td>\n",
       "      <td>True</td>\n",
       "      <td>False</td>\n",
       "      <td>False</td>\n",
       "      <td>True</td>\n",
       "      <td>False</td>\n",
       "      <td>True</td>\n",
       "      <td>False</td>\n",
       "      <td>True</td>\n",
       "      <td>False</td>\n",
       "      <td>False</td>\n",
       "      <td>False</td>\n",
       "      <td>True</td>\n",
       "    </tr>\n",
       "    <tr>\n",
       "      <th>4</th>\n",
       "      <td>3276</td>\n",
       "      <td>0</td>\n",
       "      <td>78.0</td>\n",
       "      <td>360.0</td>\n",
       "      <td>1.000000</td>\n",
       "      <td>False</td>\n",
       "      <td>True</td>\n",
       "      <td>True</td>\n",
       "      <td>False</td>\n",
       "      <td>True</td>\n",
       "      <td>False</td>\n",
       "      <td>False</td>\n",
       "      <td>False</td>\n",
       "      <td>False</td>\n",
       "      <td>True</td>\n",
       "      <td>True</td>\n",
       "      <td>False</td>\n",
       "      <td>False</td>\n",
       "      <td>False</td>\n",
       "      <td>True</td>\n",
       "    </tr>\n",
       "  </tbody>\n",
       "</table>\n",
       "</div>"
      ],
      "text/plain": [
       "   applicantIncome  coapplicant_income  loan_amount  loan_amount_term  \\\n",
       "0             5720                   0        110.0             360.0   \n",
       "1             3076                1500        126.0             360.0   \n",
       "2             5000                1800        208.0             360.0   \n",
       "3             2340                2546        100.0             360.0   \n",
       "4             3276                   0         78.0             360.0   \n",
       "\n",
       "   credit_history  gender_Female  gender_Male  married_No  married_Yes  \\\n",
       "0        1.000000          False         True       False         True   \n",
       "1        1.000000          False         True       False         True   \n",
       "2        1.000000          False         True       False         True   \n",
       "3        0.825444          False         True       False         True   \n",
       "4        1.000000          False         True        True        False   \n",
       "\n",
       "   dependents_0  dependents_1  dependents_2  dependents_3+  \\\n",
       "0          True         False         False          False   \n",
       "1         False          True         False          False   \n",
       "2         False         False          True          False   \n",
       "3         False         False          True          False   \n",
       "4          True         False         False          False   \n",
       "\n",
       "   education_Graduate  education_Not Graduate  self_employed_No  \\\n",
       "0                True                   False              True   \n",
       "1                True                   False              True   \n",
       "2                True                   False              True   \n",
       "3                True                   False              True   \n",
       "4               False                    True              True   \n",
       "\n",
       "   self_employed_Yes  property_area_Rural  property_area_Semiurban  \\\n",
       "0              False                False                    False   \n",
       "1              False                False                    False   \n",
       "2              False                False                    False   \n",
       "3              False                False                    False   \n",
       "4              False                False                    False   \n",
       "\n",
       "   property_area_Urban  \n",
       "0                 True  \n",
       "1                 True  \n",
       "2                 True  \n",
       "3                 True  \n",
       "4                 True  "
      ]
     },
     "execution_count": 127,
     "metadata": {},
     "output_type": "execute_result"
    }
   ],
   "source": [
    "X_test.head()"
   ]
  },
  {
   "cell_type": "code",
   "execution_count": 128,
   "id": "7051c65d-10b7-4922-885b-131a56801081",
   "metadata": {},
   "outputs": [
    {
     "name": "stdout",
     "output_type": "stream",
     "text": [
      "<class 'pandas.core.frame.DataFrame'>\n",
      "RangeIndex: 367 entries, 0 to 366\n",
      "Data columns (total 20 columns):\n",
      " #   Column                   Non-Null Count  Dtype  \n",
      "---  ------                   --------------  -----  \n",
      " 0   applicantIncome          367 non-null    int64  \n",
      " 1   coapplicant_income       367 non-null    int64  \n",
      " 2   loan_amount              367 non-null    float64\n",
      " 3   loan_amount_term         367 non-null    float64\n",
      " 4   credit_history           367 non-null    float64\n",
      " 5   gender_Female            367 non-null    bool   \n",
      " 6   gender_Male              367 non-null    bool   \n",
      " 7   married_No               367 non-null    bool   \n",
      " 8   married_Yes              367 non-null    bool   \n",
      " 9   dependents_0             367 non-null    bool   \n",
      " 10  dependents_1             367 non-null    bool   \n",
      " 11  dependents_2             367 non-null    bool   \n",
      " 12  dependents_3+            367 non-null    bool   \n",
      " 13  education_Graduate       367 non-null    bool   \n",
      " 14  education_Not Graduate   367 non-null    bool   \n",
      " 15  self_employed_No         367 non-null    bool   \n",
      " 16  self_employed_Yes        367 non-null    bool   \n",
      " 17  property_area_Rural      367 non-null    bool   \n",
      " 18  property_area_Semiurban  367 non-null    bool   \n",
      " 19  property_area_Urban      367 non-null    bool   \n",
      "dtypes: bool(15), float64(3), int64(2)\n",
      "memory usage: 19.8 KB\n"
     ]
    }
   ],
   "source": [
    "X_test.info()"
   ]
  },
  {
   "cell_type": "code",
   "execution_count": 129,
   "id": "8771f6a0-427b-4209-9d8c-7c5dc4d14928",
   "metadata": {},
   "outputs": [
    {
     "name": "stdout",
     "output_type": "stream",
     "text": [
      "float64\n"
     ]
    }
   ],
   "source": [
    "# convert string to float\n",
    "X_test['coapplicant_income'] = X_test['coapplicant_income'].astype(float)\n",
    "print(X_test['coapplicant_income'].dtype)"
   ]
  },
  {
   "cell_type": "code",
   "execution_count": 130,
   "id": "286b382e-9fe5-4470-93c6-faa478ef2d90",
   "metadata": {},
   "outputs": [
    {
     "name": "stdout",
     "output_type": "stream",
     "text": [
      "float64\n"
     ]
    }
   ],
   "source": [
    "# convert string to float\n",
    "X_test['applicantIncome'] = X_test['applicantIncome'].astype(float)\n",
    "print(X_test['coapplicant_income'].dtype)"
   ]
  },
  {
   "cell_type": "code",
   "execution_count": 131,
   "id": "b50829b3-1923-413f-b6b5-8bf216b40549",
   "metadata": {},
   "outputs": [
    {
     "name": "stdout",
     "output_type": "stream",
     "text": [
      "<class 'pandas.core.frame.DataFrame'>\n",
      "RangeIndex: 367 entries, 0 to 366\n",
      "Data columns (total 20 columns):\n",
      " #   Column                   Non-Null Count  Dtype  \n",
      "---  ------                   --------------  -----  \n",
      " 0   applicantIncome          367 non-null    float64\n",
      " 1   coapplicant_income       367 non-null    float64\n",
      " 2   loan_amount              367 non-null    float64\n",
      " 3   loan_amount_term         367 non-null    float64\n",
      " 4   credit_history           367 non-null    float64\n",
      " 5   gender_Female            367 non-null    bool   \n",
      " 6   gender_Male              367 non-null    bool   \n",
      " 7   married_No               367 non-null    bool   \n",
      " 8   married_Yes              367 non-null    bool   \n",
      " 9   dependents_0             367 non-null    bool   \n",
      " 10  dependents_1             367 non-null    bool   \n",
      " 11  dependents_2             367 non-null    bool   \n",
      " 12  dependents_3+            367 non-null    bool   \n",
      " 13  education_Graduate       367 non-null    bool   \n",
      " 14  education_Not Graduate   367 non-null    bool   \n",
      " 15  self_employed_No         367 non-null    bool   \n",
      " 16  self_employed_Yes        367 non-null    bool   \n",
      " 17  property_area_Rural      367 non-null    bool   \n",
      " 18  property_area_Semiurban  367 non-null    bool   \n",
      " 19  property_area_Urban      367 non-null    bool   \n",
      "dtypes: bool(15), float64(5)\n",
      "memory usage: 19.8 KB\n"
     ]
    }
   ],
   "source": [
    "X_test.info()"
   ]
  },
  {
   "cell_type": "code",
   "execution_count": 132,
   "id": "8e040f20-417c-4ceb-b4d5-0a467b41591c",
   "metadata": {},
   "outputs": [],
   "source": [
    "test_predictions = Model_RF.predict(X_test)\n",
    "\n",
    "# Add the predictions to the test dataset\n",
    "test_data['Loan_Status_Prediction'] = test_predictions\n",
    "\n",
    "# Save the results to a new CSV file\n",
    "test_data.to_csv('test_results.csv', index=False)"
   ]
  },
  {
   "cell_type": "code",
   "execution_count": 133,
   "id": "3970562d-9034-4895-80bc-071c0c29c222",
   "metadata": {},
   "outputs": [
    {
     "name": "stdout",
     "output_type": "stream",
     "text": [
      "Validation Accuracy: 0.77\n"
     ]
    }
   ],
   "source": [
    "# Predict on the validation set\n",
    "y_val_pred = Model_RF.predict(X_val)\n",
    "\n",
    "# Evaluate the model\n",
    "accuracy = accuracy_score(y_val, y_val_pred)\n",
    "print(f'Validation Accuracy: {accuracy:.2f}')"
   ]
  },
  {
   "cell_type": "code",
   "execution_count": 134,
   "id": "a7747c5b-7795-4328-a84e-6ac5e4bc74c1",
   "metadata": {},
   "outputs": [],
   "source": [
    "#\"loan_id\":\"LP001002\":\"gender\":\"Male\",\"married\":\"No\",\"dependents\":\"0\",\"education\":\"Graduate\",\"self_employed\":\"No\",\"applicantIncome\":5849,\"coapplicant_income\":\"0\",\"loan_amount\":null,\"loan_amount_term\":360.0,\"credit_history\":1,\"property_area\":\"Urban\",\"loan_status\":\"Y\"}\n",
    "#\"loan_id\":\"LP001003\",\"gender\":\"Male\",\"married\":\"Yes\",\"dependents\":\"1\",\"education\":\"Graduate\",\"self_employed\":\"No\",\"applicantIncome\":4583,\"coapplicant_income\":\"1508\",\"loan_amount\":128,\"loan_amount_term\":360.0,\"credit_history\":1,\"property_area\":\"Rural\",\"loan_status\":\"N\"}\n",
    "#{\"loan_id\":\"LP001005\",\"gender\":\"Male\",\"married\":\"Yes\",\"dependents\":\"0\",\"education\":\"Graduate\",\"self_employed\":\"Yes\",\"applicantIncome\":3000,\"coapplicant_income\":\"0\",\"loan_amount\":66,\"loan_amount_term\":360.0,\"credit_history\":1,\"property_area\":\"Urban\",\"loan_status\":\"Y\"},\n",
    "#{\"loan_id\":\"LP001006\",\"gender\":\"Male\",\"married\":\"Yes\",\"dependents\":\"0\",\"education\":\"Not Graduate\",\"self_employed\":\"No\",\"applicantIncome\":2583,\"coapplicant_income\":\"2358\",\"loan_amount\":120,\"loan_amount_term\":360.0,\"credit_history\":1,\"property_area\":\"Urban\",\"loan_status\":\"Y\"},\n",
    "#{\"loan_id\":\"LP001014\",\"gender\":\"Male\",\"married\":\"Yes\",\"dependents\":\"3+\",\"education\":\"Graduate\",\"self_employed\":\"No\",\"applicantIncome\":3036,\"coapplicant_income\":\"2504\",\"loan_amount\":158,\"loan_amount_term\":360.0,\"credit_history\":0,\"property_area\":\"Semiurban\",\"loan_status\":\"N\"},\n",
    "#{\"loan_id\":\"LP001018\",\"gender\":\"Male\",\"married\":\"Yes\",\"dependents\":\"2\",\"education\":\"Graduate\",\"self_employed\":\"No\",\"applicantIncome\":4006,\"coapplicant_income\":\"1526\",\"loan_amount\":168,\"loan_amount_term\":360.0,\"credit_history\":1,\"property_area\":\"Urban\",\"loan_status\":\"Y\"},\n",
    "#{\"loan_id\":\"LP001020\",\"gender\":\"Male\",\"married\":\"Yes\",\"dependents\":\"1\",\"education\":\"Graduate\",\"self_employed\":\"No\",\"applicantIncome\":12841,\"coapplicant_income\":\"10968\",\"loan_amount\":349,\"loan_amount_term\":360.0,\"credit_history\":1,\"property_area\":\"Semiurban\",\"loan_status\":\"N\"},"
   ]
  },
  {
   "cell_type": "code",
   "execution_count": 135,
   "id": "3b937322-07a2-40f3-88e5-ef72c4799823",
   "metadata": {},
   "outputs": [
    {
     "name": "stdout",
     "output_type": "stream",
     "text": [
      "Loan Status Prediction for Single Data: N\n"
     ]
    }
   ],
   "source": [
    "# List of features used during training\n",
    "categorical_features = ['gender', 'married', 'dependents', 'education', 'self_employed', 'property_area']\n",
    "\n",
    "# Create a dictionary with the data for the single test point \n",
    "# 124\n",
    "\n",
    "single_data = {\n",
    "    'applicantIncome': 12841,\n",
    "    'coapplicant_income': 10968,\n",
    "    'loan_amount': 349,\n",
    "    'loan_amount_term': 360,\n",
    "    'credit_history': 1,\n",
    "    'gender': 'Male',\n",
    "    'married': 'Yes',\n",
    "    'dependents': '1',\n",
    "    'education': 'Graduate',\n",
    "    'self_employed': 'No',\n",
    "    'property_area': 'Semiurban'\n",
    "}\n",
    "# Convert the dictionary to a DataFrame\n",
    "test_input = pd.DataFrame([single_data])\n",
    "\n",
    "# Load the entire test dataset\n",
    "test_data = pd.read_csv('test.csv')  # Replace 'test.csv' with your actual test dataset filename\n",
    "test_data['loan_amount'] = test_data['loan_amount'].fillna(test_data['loan_amount'].mean())\n",
    "test_data['loan_amount_term'] = test_data['loan_amount_term'].fillna(test_data['loan_amount_term'].mean())\n",
    "test_data['credit_history'] = test_data['credit_history'].fillna(test_data['credit_history'].mean())\n",
    "\n",
    "# Combine the single test point with the test dataset\n",
    "combined_data = pd.concat([test_input, test_data], ignore_index=True)\n",
    "\n",
    "# Convert categorical variables to dummy/indicator variables using the same order as during training\n",
    "combined_data = pd.get_dummies(combined_data, columns=categorical_features)\n",
    "\n",
    "# Ensure the order of columns matches the order during training\n",
    "# Align the columns with the training data to handle potential mismatches\n",
    "combined_data = combined_data.reindex(columns=X.columns, fill_value=0)\n",
    "\n",
    "# Separate the single test point from the combined data\n",
    "test_input = combined_data.iloc[0:1]\n",
    "# test_data = combined_data.iloc[1:]\n",
    "\n",
    "# Make the prediction using the trained model on the single test point\n",
    "prediction_single_data = Model_RF.predict(test_input)\n",
    "\n",
    "# Make the prediction using the trained model on the entire test dataset\n",
    "# prediction_test_data = Model_RF.predict(test_data)\n",
    "\n",
    "# Print the predictions\n",
    "print(f'Loan Status Prediction for Single Data: {prediction_single_data[0]}')\n",
    "# print('Loan Status Predictions for Test Data:')\n",
    "# print(prediction_test_data)"
   ]
  },
  {
   "cell_type": "code",
   "execution_count": 136,
   "id": "057aa2e5-e448-411f-83ec-736a20c33aa3",
   "metadata": {},
   "outputs": [
    {
     "data": {
      "text/plain": [
       "array(['N'], dtype=object)"
      ]
     },
     "execution_count": 136,
     "metadata": {},
     "output_type": "execute_result"
    }
   ],
   "source": [
    "prediction_single_data "
   ]
  },
  {
   "cell_type": "code",
   "execution_count": 137,
   "id": "47fa650c-4f4d-43bd-a2dd-9a53b158ff71",
   "metadata": {},
   "outputs": [],
   "source": [
    "import pickle\n",
    "# Save the model to a file using pickle\n",
    "with open('random_forest_model1.pkl', 'wb') as file:\n",
    "    pickle.dump(Model_RF, file)"
   ]
  },
  {
   "cell_type": "code",
   "execution_count": 138,
   "id": "5338279c-2d4c-4620-b10e-2559209bf558",
   "metadata": {},
   "outputs": [],
   "source": [
    "# Load the model from the saved file\n",
    "with open('random_forest_model1.pkl', 'rb') as file:\n",
    "    loaded_model = pickle.load(file)"
   ]
  },
  {
   "cell_type": "code",
   "execution_count": 139,
   "id": "22b0646d-1d39-4199-8501-99bf478b2a69",
   "metadata": {},
   "outputs": [],
   "source": [
    "# Now you can use the loaded model to make predictions on a single input\n",
    "single_data = {\n",
    "    'applicantIncome': 12841,\n",
    "    'coapplicant_income': 10968,\n",
    "    'loan_amount': 349,\n",
    "    'loan_amount_term':360,\n",
    "    'credit_history': 1,\n",
    "    'gender': 'Male',\n",
    "    'married': 'Yes',\n",
    "    'dependents': '1',\n",
    "    'education': 'Graduate',\n",
    "    'self_employed': 'No',\n",
    "    'property_area': 'Semiurban'\n",
    "}"
   ]
  },
  {
   "cell_type": "code",
   "execution_count": 140,
   "id": "f6920718-ffdd-4151-a422-ecc4794c78ee",
   "metadata": {},
   "outputs": [
    {
     "name": "stdout",
     "output_type": "stream",
     "text": [
      "Loan Status Prediction: N\n"
     ]
    }
   ],
   "source": [
    "# Convert the input data to a DataFrame\n",
    "single_data_df = pd.DataFrame([single_data])\n",
    "\n",
    "# Convert categorical variables to dummy/indicator variables using the same order as during training\n",
    "single_data_df = pd.get_dummies(single_data_df, columns=categorical_features)\n",
    "\n",
    "# Ensure the order of columns matches the order during training\n",
    "single_data_df = single_data_df.reindex(columns=X.columns, fill_value=0)\n",
    "\n",
    "# Make predictions using the loaded model\n",
    "prediction = loaded_model.predict(single_data_df)\n",
    "\n",
    "# Print the prediction\n",
    "print(f'Loan Status Prediction: {prediction[0]}')"
   ]
  },
  {
   "cell_type": "code",
   "execution_count": 141,
   "id": "f04f3bbc-57c7-4908-a9f9-b9ec886866f4",
   "metadata": {},
   "outputs": [
    {
     "data": {
      "text/plain": [
       "array(['N'], dtype=object)"
      ]
     },
     "execution_count": 141,
     "metadata": {},
     "output_type": "execute_result"
    }
   ],
   "source": [
    "prediction"
   ]
  },
  {
   "cell_type": "code",
   "execution_count": null,
   "id": "ddc1bac2-e7ec-452c-9ae3-07cd0ee51528",
   "metadata": {},
   "outputs": [],
   "source": []
  },
  {
   "cell_type": "code",
   "execution_count": null,
   "id": "bb29f799-a5ca-4d88-ae5e-4219df14e05c",
   "metadata": {},
   "outputs": [],
   "source": []
  }
 ],
 "metadata": {
  "kernelspec": {
   "display_name": "Python 3 (ipykernel)",
   "language": "python",
   "name": "python3"
  },
  "language_info": {
   "codemirror_mode": {
    "name": "ipython",
    "version": 3
   },
   "file_extension": ".py",
   "mimetype": "text/x-python",
   "name": "python",
   "nbconvert_exporter": "python",
   "pygments_lexer": "ipython3",
   "version": "3.11.4"
  }
 },
 "nbformat": 4,
 "nbformat_minor": 5
}
