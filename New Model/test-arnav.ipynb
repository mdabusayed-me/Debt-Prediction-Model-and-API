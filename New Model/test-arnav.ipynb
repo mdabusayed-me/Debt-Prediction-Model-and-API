{
 "cells": [
  {
   "cell_type": "code",
   "execution_count": 2,
   "metadata": {},
   "outputs": [],
   "source": [
    "import pandas as pd\n",
    "from sklearn.model_selection import train_test_split\n",
    "from sklearn.ensemble import RandomForestClassifier\n",
    "from sklearn.metrics import accuracy_score, classification_report\n",
    "import requests\n",
    "import pickle"
   ]
  },
  {
   "cell_type": "code",
   "execution_count": 3,
   "metadata": {},
   "outputs": [],
   "source": [
    "# Load the model from the saved file\n",
    "with open('KNeighborsClassifier.pkl', 'rb') as file:\n",
    "    loaded_model = pickle.load(file)"
   ]
  },
  {
   "cell_type": "code",
   "execution_count": 4,
   "metadata": {},
   "outputs": [],
   "source": [
    "# Now you can use the loaded model to make predictions on a single input\n",
    "single_data = {\n",
    "        'applicantIncome': 10750,\n",
    "        'coapplicant_income': 0,\n",
    "        'loan_amount': 312.0,\n",
    "        'loan_amount_term': 360.0,\n",
    "        'credit_history': 1.0,\n",
    "        'gender': 'Male',\n",
    "        'married': 'Yes',\n",
    "        'dependents': '1',\n",
    "        'education': 'Graduate',\n",
    "        'self_employed': 'No',\n",
    "        'property_area': 'Urban'\n",
    "}"
   ]
  },
  {
   "cell_type": "code",
   "execution_count": 5,
   "metadata": {},
   "outputs": [],
   "source": [
    "categorical_features = ['gender', 'married', 'dependents', 'education', 'self_employed', 'property_area']"
   ]
  },
  {
   "cell_type": "code",
   "execution_count": null,
   "metadata": {},
   "outputs": [],
   "source": [
    "features = ['gender', 'married', 'dependents', 'education', 'self_employed',\n",
    "            'applicantIncome', 'coapplicant_income', 'loan_amount', 'loan_amount_term',\n",
    "            'credit_history', 'property_area']\n",
    "\n",
    "X = train_data[features]"
   ]
  },
  {
   "cell_type": "code",
   "execution_count": null,
   "metadata": {},
   "outputs": [],
   "source": [
    "# Convert the input data to a DataFrame\n",
    "single_data_df = pd.DataFrame([single_data])\n",
    "\n",
    "# Convert categorical variables to dummy/indicator variables using the same order as during training\n",
    "single_data_df = pd.get_dummies(single_data_df, columns=categorical_features)\n",
    "\n",
    "# Ensure the order of columns matches the order during training\n",
    "single_data_df = single_data_df.reindex(columns=X.columns, fill_value=0)\n",
    "\n",
    "# Make predictions using the loaded model\n",
    "prediction = loaded_model.predict(single_data_df)\n",
    "\n",
    "# Print the prediction\n",
    "print(f'Loan Status Prediction: {prediction[0]}')\n"
   ]
  }
 ],
 "metadata": {
  "kernelspec": {
   "display_name": "venv",
   "language": "python",
   "name": "python3"
  },
  "language_info": {
   "codemirror_mode": {
    "name": "ipython",
    "version": 3
   },
   "file_extension": ".py",
   "mimetype": "text/x-python",
   "name": "python",
   "nbconvert_exporter": "python",
   "pygments_lexer": "ipython3",
   "version": "3.11.6"
  }
 },
 "nbformat": 4,
 "nbformat_minor": 2
}
