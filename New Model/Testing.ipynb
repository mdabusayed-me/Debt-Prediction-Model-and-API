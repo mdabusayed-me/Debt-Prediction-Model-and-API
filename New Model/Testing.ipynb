{
 "cells": [
  {
   "cell_type": "code",
   "execution_count": 1,
   "metadata": {},
   "outputs": [
    {
     "data": {
      "text/plain": [
       "'2.1.2+cpu'"
      ]
     },
     "execution_count": 1,
     "metadata": {},
     "output_type": "execute_result"
    }
   ],
   "source": [
    "import torch\n",
    "from torch import nn\n",
    "import torch.nn.functional as F\n",
    "import pandas as pd\n",
    "import numpy as np\n",
    "from sklearn.model_selection import train_test_split\n",
    "from sklearn.ensemble import RandomForestClassifier\n",
    "from sklearn.metrics import accuracy_score, classification_report, confusion_matrix\n",
    "from sklearn.model_selection import cross_val_score\n",
    "import requests\n",
    "# Import visualization library\n",
    "import matplotlib.pyplot as plt, seaborn as sns\n",
    "%matplotlib inline\n",
    "\n",
    "\n",
    "torch.__version__"
   ]
  },
  {
   "cell_type": "code",
   "execution_count": 2,
   "metadata": {},
   "outputs": [
    {
     "name": "stdout",
     "output_type": "stream",
     "text": [
      "A cpu device was detected.\n"
     ]
    }
   ],
   "source": [
    "# Check to see if we have a GPU to use for training\n",
    "device = 'cuda' if torch.cuda.is_available() else 'cpu'\n",
    "print('A {} device was detected.'.format(device))\n",
    "\n",
    "\n",
    "if device=='cuda':\n",
    "    print (torch.cuda.get_device_name(device=device))"
   ]
  },
  {
   "cell_type": "code",
   "execution_count": null,
   "metadata": {},
   "outputs": [],
   "source": []
  },
  {
   "cell_type": "code",
   "execution_count": 3,
   "metadata": {},
   "outputs": [],
   "source": [
    "# Use Pandas to do our dataprocessing on the dataset\n",
    "api_url= \"https://debt-api-4301881a2ff8.herokuapp.com/loan/get_all\"\n",
    "res = requests.get(api_url)\n",
    "df = pd.DataFrame(res.json()[\"data\"])\n",
    "test_data = pd.read_csv('test.csv')"
   ]
  },
  {
   "cell_type": "code",
   "execution_count": 4,
   "metadata": {},
   "outputs": [
    {
     "data": {
      "text/html": [
       "<div>\n",
       "<style scoped>\n",
       "    .dataframe tbody tr th:only-of-type {\n",
       "        vertical-align: middle;\n",
       "    }\n",
       "\n",
       "    .dataframe tbody tr th {\n",
       "        vertical-align: top;\n",
       "    }\n",
       "\n",
       "    .dataframe thead th {\n",
       "        text-align: right;\n",
       "    }\n",
       "</style>\n",
       "<table border=\"1\" class=\"dataframe\">\n",
       "  <thead>\n",
       "    <tr style=\"text-align: right;\">\n",
       "      <th></th>\n",
       "      <th>loan_id</th>\n",
       "      <th>gender</th>\n",
       "      <th>married</th>\n",
       "      <th>dependents</th>\n",
       "      <th>education</th>\n",
       "      <th>self_employed</th>\n",
       "      <th>applicantIncome</th>\n",
       "      <th>coapplicant_income</th>\n",
       "      <th>loan_amount</th>\n",
       "      <th>loan_amount_term</th>\n",
       "      <th>credit_history</th>\n",
       "      <th>property_area</th>\n",
       "      <th>loan_status</th>\n",
       "    </tr>\n",
       "  </thead>\n",
       "  <tbody>\n",
       "    <tr>\n",
       "      <th>0</th>\n",
       "      <td>LP001002</td>\n",
       "      <td>Male</td>\n",
       "      <td>No</td>\n",
       "      <td>0</td>\n",
       "      <td>Graduate</td>\n",
       "      <td>No</td>\n",
       "      <td>5849</td>\n",
       "      <td>0</td>\n",
       "      <td>NaN</td>\n",
       "      <td>360.0</td>\n",
       "      <td>1.0</td>\n",
       "      <td>Urban</td>\n",
       "      <td>Y</td>\n",
       "    </tr>\n",
       "    <tr>\n",
       "      <th>1</th>\n",
       "      <td>LP001003</td>\n",
       "      <td>Male</td>\n",
       "      <td>Yes</td>\n",
       "      <td>1</td>\n",
       "      <td>Graduate</td>\n",
       "      <td>No</td>\n",
       "      <td>4583</td>\n",
       "      <td>1508</td>\n",
       "      <td>128.0</td>\n",
       "      <td>360.0</td>\n",
       "      <td>1.0</td>\n",
       "      <td>Rural</td>\n",
       "      <td>N</td>\n",
       "    </tr>\n",
       "    <tr>\n",
       "      <th>2</th>\n",
       "      <td>LP001005</td>\n",
       "      <td>Male</td>\n",
       "      <td>Yes</td>\n",
       "      <td>0</td>\n",
       "      <td>Graduate</td>\n",
       "      <td>Yes</td>\n",
       "      <td>3000</td>\n",
       "      <td>0</td>\n",
       "      <td>66.0</td>\n",
       "      <td>360.0</td>\n",
       "      <td>1.0</td>\n",
       "      <td>Urban</td>\n",
       "      <td>Y</td>\n",
       "    </tr>\n",
       "    <tr>\n",
       "      <th>3</th>\n",
       "      <td>LP001006</td>\n",
       "      <td>Male</td>\n",
       "      <td>Yes</td>\n",
       "      <td>0</td>\n",
       "      <td>Not Graduate</td>\n",
       "      <td>No</td>\n",
       "      <td>2583</td>\n",
       "      <td>2358</td>\n",
       "      <td>120.0</td>\n",
       "      <td>360.0</td>\n",
       "      <td>1.0</td>\n",
       "      <td>Urban</td>\n",
       "      <td>Y</td>\n",
       "    </tr>\n",
       "    <tr>\n",
       "      <th>4</th>\n",
       "      <td>LP001008</td>\n",
       "      <td>Male</td>\n",
       "      <td>No</td>\n",
       "      <td>0</td>\n",
       "      <td>Graduate</td>\n",
       "      <td>No</td>\n",
       "      <td>6000</td>\n",
       "      <td>0</td>\n",
       "      <td>141.0</td>\n",
       "      <td>360.0</td>\n",
       "      <td>1.0</td>\n",
       "      <td>Urban</td>\n",
       "      <td>Y</td>\n",
       "    </tr>\n",
       "  </tbody>\n",
       "</table>\n",
       "</div>"
      ],
      "text/plain": [
       "    loan_id gender married dependents     education self_employed  \\\n",
       "0  LP001002   Male      No          0      Graduate            No   \n",
       "1  LP001003   Male     Yes          1      Graduate            No   \n",
       "2  LP001005   Male     Yes          0      Graduate           Yes   \n",
       "3  LP001006   Male     Yes          0  Not Graduate            No   \n",
       "4  LP001008   Male      No          0      Graduate            No   \n",
       "\n",
       "   applicantIncome coapplicant_income  loan_amount  loan_amount_term  \\\n",
       "0             5849                  0          NaN             360.0   \n",
       "1             4583               1508        128.0             360.0   \n",
       "2             3000                  0         66.0             360.0   \n",
       "3             2583               2358        120.0             360.0   \n",
       "4             6000                  0        141.0             360.0   \n",
       "\n",
       "   credit_history property_area loan_status  \n",
       "0             1.0         Urban           Y  \n",
       "1             1.0         Rural           N  \n",
       "2             1.0         Urban           Y  \n",
       "3             1.0         Urban           Y  \n",
       "4             1.0         Urban           Y  "
      ]
     },
     "execution_count": 4,
     "metadata": {},
     "output_type": "execute_result"
    }
   ],
   "source": [
    "df.head()"
   ]
  },
  {
   "cell_type": "code",
   "execution_count": 5,
   "metadata": {},
   "outputs": [
    {
     "name": "stdout",
     "output_type": "stream",
     "text": [
      "<class 'pandas.core.frame.DataFrame'>\n",
      "RangeIndex: 614 entries, 0 to 613\n",
      "Data columns (total 13 columns):\n",
      " #   Column              Non-Null Count  Dtype  \n",
      "---  ------              --------------  -----  \n",
      " 0   loan_id             614 non-null    object \n",
      " 1   gender              601 non-null    object \n",
      " 2   married             611 non-null    object \n",
      " 3   dependents          599 non-null    object \n",
      " 4   education           614 non-null    object \n",
      " 5   self_employed       582 non-null    object \n",
      " 6   applicantIncome     614 non-null    int64  \n",
      " 7   coapplicant_income  614 non-null    object \n",
      " 8   loan_amount         592 non-null    float64\n",
      " 9   loan_amount_term    600 non-null    float64\n",
      " 10  credit_history      564 non-null    float64\n",
      " 11  property_area       614 non-null    object \n",
      " 12  loan_status         614 non-null    object \n",
      "dtypes: float64(3), int64(1), object(9)\n",
      "memory usage: 62.5+ KB\n"
     ]
    }
   ],
   "source": [
    "df.info()"
   ]
  },
  {
   "cell_type": "code",
   "execution_count": 6,
   "metadata": {},
   "outputs": [
    {
     "name": "stdout",
     "output_type": "stream",
     "text": [
      "float64\n",
      "float64\n"
     ]
    }
   ],
   "source": [
    "df['coapplicant_income'] = df['coapplicant_income'].astype(float)\n",
    "print(df['coapplicant_income'].dtype)\n",
    "df['applicantIncome'] = df['applicantIncome'].astype(float)\n",
    "print(df['coapplicant_income'].dtype)"
   ]
  },
  {
   "cell_type": "code",
   "execution_count": 7,
   "metadata": {},
   "outputs": [
    {
     "data": {
      "text/plain": [
       "loan_id                object\n",
       "gender                 object\n",
       "married                object\n",
       "dependents             object\n",
       "education              object\n",
       "self_employed          object\n",
       "applicantIncome       float64\n",
       "coapplicant_income    float64\n",
       "loan_amount           float64\n",
       "loan_amount_term      float64\n",
       "credit_history        float64\n",
       "property_area          object\n",
       "loan_status            object\n",
       "dtype: object"
      ]
     },
     "execution_count": 7,
     "metadata": {},
     "output_type": "execute_result"
    }
   ],
   "source": [
    "df.dtypes"
   ]
  },
  {
   "cell_type": "code",
   "execution_count": 8,
   "metadata": {},
   "outputs": [
    {
     "data": {
      "image/png": "[encoded data removed]",
      "text/plain": [
       "<Figure size 800x800 with 1 Axes>"
      ]
     },
     "metadata": {},
     "output_type": "display_data"
    }
   ],
   "source": [
    "plt.figure(figsize=(8, 8))\n",
    "explode_values = [0.1] * len(df.dtypes.unique())\n",
    "df.dtypes.value_counts().plot.pie(explode=explode_values, autopct='%1.1f%%')\n",
    "\n",
    "plt.title('Data Type %')\n",
    "plt.show()\n"
   ]
  },
  {
   "cell_type": "code",
   "execution_count": 9,
   "metadata": {},
   "outputs": [
    {
     "data": {
      "text/plain": [
       "loan_id                0\n",
       "gender                13\n",
       "married                3\n",
       "dependents            15\n",
       "education              0\n",
       "self_employed         32\n",
       "applicantIncome        0\n",
       "coapplicant_income     0\n",
       "loan_amount           22\n",
       "loan_amount_term      14\n",
       "credit_history        50\n",
       "property_area          0\n",
       "loan_status            0\n",
       "dtype: int64"
      ]
     },
     "execution_count": 9,
     "metadata": {},
     "output_type": "execute_result"
    }
   ],
   "source": [
    "df.isnull().sum()"
   ]
  },
  {
   "cell_type": "code",
   "execution_count": 10,
   "metadata": {},
   "outputs": [],
   "source": [
    "df['gender'] = df['gender'].fillna(df['gender'].mode()[0])\n",
    "df['married'] = df['married'].fillna(df['married'].mode()[0])\n",
    "df['dependents'] = df['dependents'].fillna(df['dependents'].mode()[0])\n",
    "df['self_employed'] = df['self_employed'].fillna(df['self_employed'].mode()[0])"
   ]
  },
  {
   "cell_type": "code",
   "execution_count": 11,
   "metadata": {},
   "outputs": [],
   "source": [
    "df['loan_amount'] = df['loan_amount'].fillna(df['loan_amount'].mean())\n",
    "df['loan_amount_term'] = df['loan_amount_term'].fillna(df['loan_amount_term'].mean())\n",
    "df['credit_history'] = df['credit_history'].fillna(df['credit_history'].mean())"
   ]
  },
  {
   "cell_type": "code",
   "execution_count": 12,
   "metadata": {},
   "outputs": [],
   "source": [
    "features = ['gender', 'married', 'dependents', 'education', 'self_employed',\n",
    "            'applicantIncome', 'coapplicant_income', 'loan_amount', 'loan_amount_term',\n",
    "            'credit_history', 'property_area']\n",
    "\n",
    "X = df[features]\n",
    "y = df['loan_status']"
   ]
  },
  {
   "cell_type": "code",
   "execution_count": 13,
   "metadata": {},
   "outputs": [
    {
     "data": {
      "text/html": [
       "<div>\n",
       "<style scoped>\n",
       "    .dataframe tbody tr th:only-of-type {\n",
       "        vertical-align: middle;\n",
       "    }\n",
       "\n",
       "    .dataframe tbody tr th {\n",
       "        vertical-align: top;\n",
       "    }\n",
       "\n",
       "    .dataframe thead th {\n",
       "        text-align: right;\n",
       "    }\n",
       "</style>\n",
       "<table border=\"1\" class=\"dataframe\">\n",
       "  <thead>\n",
       "    <tr style=\"text-align: right;\">\n",
       "      <th></th>\n",
       "      <th>applicantIncome</th>\n",
       "      <th>coapplicant_income</th>\n",
       "      <th>loan_amount</th>\n",
       "      <th>loan_amount_term</th>\n",
       "      <th>credit_history</th>\n",
       "      <th>gender_Female</th>\n",
       "      <th>gender_Male</th>\n",
       "      <th>married_No</th>\n",
       "      <th>married_Yes</th>\n",
       "      <th>dependents_0</th>\n",
       "      <th>dependents_1</th>\n",
       "      <th>dependents_2</th>\n",
       "      <th>dependents_3+</th>\n",
       "      <th>education_Graduate</th>\n",
       "      <th>education_Not Graduate</th>\n",
       "      <th>self_employed_No</th>\n",
       "      <th>self_employed_Yes</th>\n",
       "      <th>property_area_Rural</th>\n",
       "      <th>property_area_Semiurban</th>\n",
       "      <th>property_area_Urban</th>\n",
       "    </tr>\n",
       "  </thead>\n",
       "  <tbody>\n",
       "    <tr>\n",
       "      <th>0</th>\n",
       "      <td>5849.0</td>\n",
       "      <td>0.0</td>\n",
       "      <td>146.412162</td>\n",
       "      <td>360.0</td>\n",
       "      <td>1.0</td>\n",
       "      <td>False</td>\n",
       "      <td>True</td>\n",
       "      <td>True</td>\n",
       "      <td>False</td>\n",
       "      <td>True</td>\n",
       "      <td>False</td>\n",
       "      <td>False</td>\n",
       "      <td>False</td>\n",
       "      <td>True</td>\n",
       "      <td>False</td>\n",
       "      <td>True</td>\n",
       "      <td>False</td>\n",
       "      <td>False</td>\n",
       "      <td>False</td>\n",
       "      <td>True</td>\n",
       "    </tr>\n",
       "    <tr>\n",
       "      <th>1</th>\n",
       "      <td>4583.0</td>\n",
       "      <td>1508.0</td>\n",
       "      <td>128.000000</td>\n",
       "      <td>360.0</td>\n",
       "      <td>1.0</td>\n",
       "      <td>False</td>\n",
       "      <td>True</td>\n",
       "      <td>False</td>\n",
       "      <td>True</td>\n",
       "      <td>False</td>\n",
       "      <td>True</td>\n",
       "      <td>False</td>\n",
       "      <td>False</td>\n",
       "      <td>True</td>\n",
       "      <td>False</td>\n",
       "      <td>True</td>\n",
       "      <td>False</td>\n",
       "      <td>True</td>\n",
       "      <td>False</td>\n",
       "      <td>False</td>\n",
       "    </tr>\n",
       "    <tr>\n",
       "      <th>2</th>\n",
       "      <td>3000.0</td>\n",
       "      <td>0.0</td>\n",
       "      <td>66.000000</td>\n",
       "      <td>360.0</td>\n",
       "      <td>1.0</td>\n",
       "      <td>False</td>\n",
       "      <td>True</td>\n",
       "      <td>False</td>\n",
       "      <td>True</td>\n",
       "      <td>True</td>\n",
       "      <td>False</td>\n",
       "      <td>False</td>\n",
       "      <td>False</td>\n",
       "      <td>True</td>\n",
       "      <td>False</td>\n",
       "      <td>False</td>\n",
       "      <td>True</td>\n",
       "      <td>False</td>\n",
       "      <td>False</td>\n",
       "      <td>True</td>\n",
       "    </tr>\n",
       "    <tr>\n",
       "      <th>3</th>\n",
       "      <td>2583.0</td>\n",
       "      <td>2358.0</td>\n",
       "      <td>120.000000</td>\n",
       "      <td>360.0</td>\n",
       "      <td>1.0</td>\n",
       "      <td>False</td>\n",
       "      <td>True</td>\n",
       "      <td>False</td>\n",
       "      <td>True</td>\n",
       "      <td>True</td>\n",
       "      <td>False</td>\n",
       "      <td>False</td>\n",
       "      <td>False</td>\n",
       "      <td>False</td>\n",
       "      <td>True</td>\n",
       "      <td>True</td>\n",
       "      <td>False</td>\n",
       "      <td>False</td>\n",
       "      <td>False</td>\n",
       "      <td>True</td>\n",
       "    </tr>\n",
       "    <tr>\n",
       "      <th>4</th>\n",
       "      <td>6000.0</td>\n",
       "      <td>0.0</td>\n",
       "      <td>141.000000</td>\n",
       "      <td>360.0</td>\n",
       "      <td>1.0</td>\n",
       "      <td>False</td>\n",
       "      <td>True</td>\n",
       "      <td>True</td>\n",
       "      <td>False</td>\n",
       "      <td>True</td>\n",
       "      <td>False</td>\n",
       "      <td>False</td>\n",
       "      <td>False</td>\n",
       "      <td>True</td>\n",
       "      <td>False</td>\n",
       "      <td>True</td>\n",
       "      <td>False</td>\n",
       "      <td>False</td>\n",
       "      <td>False</td>\n",
       "      <td>True</td>\n",
       "    </tr>\n",
       "  </tbody>\n",
       "</table>\n",
       "</div>"
      ],
      "text/plain": [
       "   applicantIncome  coapplicant_income  loan_amount  loan_amount_term  \\\n",
       "0           5849.0                 0.0   146.412162             360.0   \n",
       "1           4583.0              1508.0   128.000000             360.0   \n",
       "2           3000.0                 0.0    66.000000             360.0   \n",
       "3           2583.0              2358.0   120.000000             360.0   \n",
       "4           6000.0                 0.0   141.000000             360.0   \n",
       "\n",
       "   credit_history  gender_Female  gender_Male  married_No  married_Yes  \\\n",
       "0             1.0          False         True        True        False   \n",
       "1             1.0          False         True       False         True   \n",
       "2             1.0          False         True       False         True   \n",
       "3             1.0          False         True       False         True   \n",
       "4             1.0          False         True        True        False   \n",
       "\n",
       "   dependents_0  dependents_1  dependents_2  dependents_3+  \\\n",
       "0          True         False         False          False   \n",
       "1         False          True         False          False   \n",
       "2          True         False         False          False   \n",
       "3          True         False         False          False   \n",
       "4          True         False         False          False   \n",
       "\n",
       "   education_Graduate  education_Not Graduate  self_employed_No  \\\n",
       "0                True                   False              True   \n",
       "1                True                   False              True   \n",
       "2                True                   False             False   \n",
       "3               False                    True              True   \n",
       "4                True                   False              True   \n",
       "\n",
       "   self_employed_Yes  property_area_Rural  property_area_Semiurban  \\\n",
       "0              False                False                    False   \n",
       "1              False                 True                    False   \n",
       "2               True                False                    False   \n",
       "3              False                False                    False   \n",
       "4              False                False                    False   \n",
       "\n",
       "   property_area_Urban  \n",
       "0                 True  \n",
       "1                False  \n",
       "2                 True  \n",
       "3                 True  \n",
       "4                 True  "
      ]
     },
     "execution_count": 13,
     "metadata": {},
     "output_type": "execute_result"
    }
   ],
   "source": [
    "X = pd.get_dummies(X)\n",
    "X.head()"
   ]
  },
  {
   "cell_type": "code",
   "execution_count": 14,
   "metadata": {},
   "outputs": [],
   "source": [
    "X_train, X_val, y_train, y_val = train_test_split(X, y, test_size=0.2, random_state=42)"
   ]
  },
  {
   "cell_type": "code",
   "execution_count": 15,
   "metadata": {},
   "outputs": [
    {
     "data": {
      "text/html": [
       "<div>\n",
       "<style scoped>\n",
       "    .dataframe tbody tr th:only-of-type {\n",
       "        vertical-align: middle;\n",
       "    }\n",
       "\n",
       "    .dataframe tbody tr th {\n",
       "        vertical-align: top;\n",
       "    }\n",
       "\n",
       "    .dataframe thead th {\n",
       "        text-align: right;\n",
       "    }\n",
       "</style>\n",
       "<table border=\"1\" class=\"dataframe\">\n",
       "  <thead>\n",
       "    <tr style=\"text-align: right;\">\n",
       "      <th></th>\n",
       "      <th>applicantIncome</th>\n",
       "      <th>coapplicant_income</th>\n",
       "      <th>loan_amount</th>\n",
       "      <th>loan_amount_term</th>\n",
       "      <th>credit_history</th>\n",
       "      <th>gender_Female</th>\n",
       "      <th>gender_Male</th>\n",
       "      <th>married_No</th>\n",
       "      <th>married_Yes</th>\n",
       "      <th>dependents_0</th>\n",
       "      <th>dependents_1</th>\n",
       "      <th>dependents_2</th>\n",
       "      <th>dependents_3+</th>\n",
       "      <th>education_Graduate</th>\n",
       "      <th>education_Not Graduate</th>\n",
       "      <th>self_employed_No</th>\n",
       "      <th>self_employed_Yes</th>\n",
       "      <th>property_area_Rural</th>\n",
       "      <th>property_area_Semiurban</th>\n",
       "      <th>property_area_Urban</th>\n",
       "    </tr>\n",
       "  </thead>\n",
       "  <tbody>\n",
       "    <tr>\n",
       "      <th>83</th>\n",
       "      <td>6000.0</td>\n",
       "      <td>2250.0</td>\n",
       "      <td>265.0</td>\n",
       "      <td>360.0</td>\n",
       "      <td>0.842199</td>\n",
       "      <td>False</td>\n",
       "      <td>True</td>\n",
       "      <td>False</td>\n",
       "      <td>True</td>\n",
       "      <td>True</td>\n",
       "      <td>False</td>\n",
       "      <td>False</td>\n",
       "      <td>False</td>\n",
       "      <td>True</td>\n",
       "      <td>False</td>\n",
       "      <td>True</td>\n",
       "      <td>False</td>\n",
       "      <td>False</td>\n",
       "      <td>True</td>\n",
       "      <td>False</td>\n",
       "    </tr>\n",
       "    <tr>\n",
       "      <th>90</th>\n",
       "      <td>2958.0</td>\n",
       "      <td>2900.0</td>\n",
       "      <td>131.0</td>\n",
       "      <td>360.0</td>\n",
       "      <td>1.000000</td>\n",
       "      <td>False</td>\n",
       "      <td>True</td>\n",
       "      <td>False</td>\n",
       "      <td>True</td>\n",
       "      <td>True</td>\n",
       "      <td>False</td>\n",
       "      <td>False</td>\n",
       "      <td>False</td>\n",
       "      <td>True</td>\n",
       "      <td>False</td>\n",
       "      <td>True</td>\n",
       "      <td>False</td>\n",
       "      <td>False</td>\n",
       "      <td>True</td>\n",
       "      <td>False</td>\n",
       "    </tr>\n",
       "    <tr>\n",
       "      <th>227</th>\n",
       "      <td>6250.0</td>\n",
       "      <td>1695.0</td>\n",
       "      <td>210.0</td>\n",
       "      <td>360.0</td>\n",
       "      <td>1.000000</td>\n",
       "      <td>False</td>\n",
       "      <td>True</td>\n",
       "      <td>False</td>\n",
       "      <td>True</td>\n",
       "      <td>False</td>\n",
       "      <td>False</td>\n",
       "      <td>True</td>\n",
       "      <td>False</td>\n",
       "      <td>True</td>\n",
       "      <td>False</td>\n",
       "      <td>True</td>\n",
       "      <td>False</td>\n",
       "      <td>False</td>\n",
       "      <td>True</td>\n",
       "      <td>False</td>\n",
       "    </tr>\n",
       "    <tr>\n",
       "      <th>482</th>\n",
       "      <td>2083.0</td>\n",
       "      <td>3150.0</td>\n",
       "      <td>128.0</td>\n",
       "      <td>360.0</td>\n",
       "      <td>1.000000</td>\n",
       "      <td>False</td>\n",
       "      <td>True</td>\n",
       "      <td>False</td>\n",
       "      <td>True</td>\n",
       "      <td>True</td>\n",
       "      <td>False</td>\n",
       "      <td>False</td>\n",
       "      <td>False</td>\n",
       "      <td>True</td>\n",
       "      <td>False</td>\n",
       "      <td>True</td>\n",
       "      <td>False</td>\n",
       "      <td>False</td>\n",
       "      <td>True</td>\n",
       "      <td>False</td>\n",
       "    </tr>\n",
       "    <tr>\n",
       "      <th>464</th>\n",
       "      <td>4166.0</td>\n",
       "      <td>0.0</td>\n",
       "      <td>98.0</td>\n",
       "      <td>360.0</td>\n",
       "      <td>0.000000</td>\n",
       "      <td>False</td>\n",
       "      <td>True</td>\n",
       "      <td>True</td>\n",
       "      <td>False</td>\n",
       "      <td>True</td>\n",
       "      <td>False</td>\n",
       "      <td>False</td>\n",
       "      <td>False</td>\n",
       "      <td>True</td>\n",
       "      <td>False</td>\n",
       "      <td>True</td>\n",
       "      <td>False</td>\n",
       "      <td>False</td>\n",
       "      <td>True</td>\n",
       "      <td>False</td>\n",
       "    </tr>\n",
       "  </tbody>\n",
       "</table>\n",
       "</div>"
      ],
      "text/plain": [
       "     applicantIncome  coapplicant_income  loan_amount  loan_amount_term  \\\n",
       "83            6000.0              2250.0        265.0             360.0   \n",
       "90            2958.0              2900.0        131.0             360.0   \n",
       "227           6250.0              1695.0        210.0             360.0   \n",
       "482           2083.0              3150.0        128.0             360.0   \n",
       "464           4166.0                 0.0         98.0             360.0   \n",
       "\n",
       "     credit_history  gender_Female  gender_Male  married_No  married_Yes  \\\n",
       "83         0.842199          False         True       False         True   \n",
       "90         1.000000          False         True       False         True   \n",
       "227        1.000000          False         True       False         True   \n",
       "482        1.000000          False         True       False         True   \n",
       "464        0.000000          False         True        True        False   \n",
       "\n",
       "     dependents_0  dependents_1  dependents_2  dependents_3+  \\\n",
       "83           True         False         False          False   \n",
       "90           True         False         False          False   \n",
       "227         False         False          True          False   \n",
       "482          True         False         False          False   \n",
       "464          True         False         False          False   \n",
       "\n",
       "     education_Graduate  education_Not Graduate  self_employed_No  \\\n",
       "83                 True                   False              True   \n",
       "90                 True                   False              True   \n",
       "227                True                   False              True   \n",
       "482                True                   False              True   \n",
       "464                True                   False              True   \n",
       "\n",
       "     self_employed_Yes  property_area_Rural  property_area_Semiurban  \\\n",
       "83               False                False                     True   \n",
       "90               False                False                     True   \n",
       "227              False                False                     True   \n",
       "482              False                False                     True   \n",
       "464              False                False                     True   \n",
       "\n",
       "     property_area_Urban  \n",
       "83                 False  \n",
       "90                 False  \n",
       "227                False  \n",
       "482                False  \n",
       "464                False  "
      ]
     },
     "execution_count": 15,
     "metadata": {},
     "output_type": "execute_result"
    }
   ],
   "source": [
    "X_train.head()"
   ]
  },
  {
   "cell_type": "code",
   "execution_count": 16,
   "metadata": {},
   "outputs": [
    {
     "data": {
      "text/plain": [
       "83     N\n",
       "90     Y\n",
       "227    Y\n",
       "482    Y\n",
       "464    N\n",
       "Name: loan_status, dtype: object"
      ]
     },
     "execution_count": 16,
     "metadata": {},
     "output_type": "execute_result"
    }
   ],
   "source": [
    "y_train.head()"
   ]
  },
  {
   "cell_type": "code",
   "execution_count": 17,
   "metadata": {},
   "outputs": [
    {
     "data": {
      "text/plain": [
       "((491, 20), (123, 20), (491,), (123,))"
      ]
     },
     "execution_count": 17,
     "metadata": {},
     "output_type": "execute_result"
    }
   ],
   "source": [
    "X_train.shape, X_val.shape,y_train.shape, y_val.shape"
   ]
  },
  {
   "cell_type": "code",
   "execution_count": 18,
   "metadata": {},
   "outputs": [],
   "source": [
    "y_val_binary = y_val.map({'N': 0, 'Y': 1})"
   ]
  },
  {
   "cell_type": "code",
   "execution_count": 19,
   "metadata": {},
   "outputs": [
    {
     "data": {
      "text/plain": [
       "dtype('O')"
      ]
     },
     "execution_count": 19,
     "metadata": {},
     "output_type": "execute_result"
    }
   ],
   "source": [
    "y_val.dtype"
   ]
  },
  {
   "cell_type": "code",
   "execution_count": 20,
   "metadata": {},
   "outputs": [],
   "source": [
    "import pickle\n",
    "\n",
    "\n",
    "knn_model = pickle.load(open('./KNeighborsClassifier.pkl', 'rb'))\n",
    "lr_model = pickle.load(open('LogisticRegression.pkl', 'rb'))\n",
    "nb_model = pickle.load(open('./GaussianNaiveBayes.pkl', 'rb'))\n",
    "rf_model = pickle.load(open('./random_forest_model.pkl', 'rb'))\n",
    "dt_model = pickle.load(open('./DecisionTreeClassifier.pkl', 'rb'))\n",
    "rf_regressor_model = pickle.load(open('./random_forest_regressor.pkl', 'rb'))\n"
   ]
  },
  {
   "cell_type": "code",
   "execution_count": 21,
   "metadata": {},
   "outputs": [],
   "source": [
    "knn_predictions = knn_model.predict(X_val)[0]\n",
    "lr_predictions = lr_model.predict(X_val)[0]\n",
    "nb_prediction_str = nb_model.predict(X_val)[0]\n",
    "nb_prediction_numeric = 1 if nb_prediction_str == 'Y' else 0\n",
    "nb_predictions = nb_prediction_numeric > 0.5\n",
    "rf_predictions = rf_model.predict(X_val)[0]\n",
    "dt_predictions = dt_model.predict(X_val)[0]\n",
    "rf_regressor_predictions = (rf_regressor_model.predict(X_val)[0])>0.5\n"
   ]
  },
  {
   "cell_type": "code",
   "execution_count": 22,
   "metadata": {},
   "outputs": [],
   "source": [
    "# Assuming y_val_numeric is the converted numerical format of true labels\n",
    "y_val_numeric = y_val.map({'Y': 1, 'N': 0})\n"
   ]
  },
  {
   "cell_type": "code",
   "execution_count": null,
   "metadata": {},
   "outputs": [],
   "source": [
    "\n"
   ]
  },
  {
   "cell_type": "code",
   "execution_count": 23,
   "metadata": {},
   "outputs": [
    {
     "name": "stdout",
     "output_type": "stream",
     "text": [
      "KNN Classifier Accuracy: 0.6097560975609756\n",
      "Logistic Regression Accuracy: 0.7886178861788617\n",
      "Naive Bayes Accuracy: 0.7804878048780488\n",
      "Random Forest Accuracy: 0.7723577235772358\n",
      "Decision Tree Accuracy: 0.7967479674796748\n",
      "Random Forest Regressor Accuracy: 0.7886178861788617\n"
     ]
    }
   ],
   "source": [
    "knn_predictions = knn_model.predict(X_val)\n",
    "knn_predictions_numeric = [1 if pred == 'Y' else 0 for pred in knn_predictions]\n",
    "knn_accuracy = accuracy_score(y_val_numeric, knn_predictions_numeric)\n",
    "\n",
    "# Logistic Regression model\n",
    "lr_predictions = lr_model.predict(X_val)\n",
    "lr_predictions_numeric = [1 if pred == 'Y' else 0 for pred in lr_predictions]\n",
    "lr_accuracy = accuracy_score(y_val_numeric, lr_predictions_numeric)\n",
    "\n",
    "# Naive Bayes model\n",
    "nb_predictions_str = nb_model.predict(X_val)\n",
    "nb_predictions_numeric = [1 if pred == 'Y' else 0 for pred in nb_predictions_str]\n",
    "nb_accuracy = accuracy_score(y_val_numeric, nb_predictions_numeric)\n",
    "\n",
    "# Random Forest model\n",
    "rf_predictions = rf_model.predict(X_val)\n",
    "rf_predictions_numeric = [1 if pred == 'Y' else 0 for pred in rf_predictions]\n",
    "rf_accuracy = accuracy_score(y_val_numeric, rf_predictions_numeric)\n",
    "\n",
    "# Decision Tree model\n",
    "dt_predictions = dt_model.predict(X_val)\n",
    "dt_predictions_numeric = [1 if pred == 'Y' else 0 for pred in dt_predictions]\n",
    "dt_accuracy = accuracy_score(y_val_numeric, dt_predictions_numeric)\n",
    "\n",
    "# Random Forest Regressor model\n",
    "rf_regressor_predictions = (rf_regressor_model.predict(X_val) > 0.5).astype(int)\n",
    "rf_regressor_accuracy = accuracy_score(y_val_numeric, rf_regressor_predictions)\n",
    "\n",
    "# Print or use the accuracies as needed\n",
    "print(\"KNN Classifier Accuracy:\", knn_accuracy)\n",
    "print(\"Logistic Regression Accuracy:\", lr_accuracy)\n",
    "print(\"Naive Bayes Accuracy:\", nb_accuracy)\n",
    "print(\"Random Forest Accuracy:\", rf_accuracy)\n",
    "print(\"Decision Tree Accuracy:\", dt_accuracy)\n",
    "print(\"Random Forest Regressor Accuracy:\", rf_regressor_accuracy)"
   ]
  },
  {
   "cell_type": "code",
   "execution_count": 25,
   "metadata": {},
   "outputs": [
    {
     "name": "stdout",
     "output_type": "stream",
     "text": [
      "KNN Classifier Metrics:\n",
      "Accuracy: 0.6097560975609756\n",
      "Precision: 0.5380909364649201\n",
      "Recall: 0.6097560975609756\n",
      "F1 Score: 0.544620009663046\n",
      "Classification Report:\n",
      "               precision    recall  f1-score   support\n",
      "\n",
      "           0       0.33      0.12      0.17        43\n",
      "           1       0.65      0.88      0.74        80\n",
      "\n",
      "    accuracy                           0.61       123\n",
      "   macro avg       0.49      0.50      0.46       123\n",
      "weighted avg       0.54      0.61      0.54       123\n",
      "\n"
     ]
    }
   ],
   "source": [
    "from sklearn.metrics import accuracy_score, precision_score, recall_score, f1_score, classification_report\n",
    "\n",
    "# Assuming X_val is your validation data and y_val is your true labels\n",
    "\n",
    "# KNN model\n",
    "knn_predictions = knn_model.predict(X_val)\n",
    "knn_predictions_numeric = [1 if pred == 'Y' else 0 for pred in knn_predictions]\n",
    "knn_accuracy = accuracy_score(y_val_numeric, knn_predictions_numeric)\n",
    "knn_precision = precision_score(y_val_numeric, knn_predictions_numeric, average='weighted')\n",
    "knn_recall = recall_score(y_val_numeric, knn_predictions_numeric, average='weighted')\n",
    "knn_f1 = f1_score(y_val_numeric, knn_predictions_numeric, average='weighted')\n",
    "knn_classification_report = classification_report(y_val_numeric, knn_predictions_numeric)\n",
    "\n",
    "# Print or use the metrics as needed\n",
    "print(\"KNN Classifier Metrics:\")\n",
    "print(\"Accuracy:\", knn_accuracy)\n",
    "print(\"Precision:\", knn_precision)\n",
    "print(\"Recall:\", knn_recall)\n",
    "print(\"F1 Score:\", knn_f1)\n",
    "print(\"Classification Report:\\n\", knn_classification_report)\n"
   ]
  },
  {
   "cell_type": "code",
   "execution_count": 26,
   "metadata": {},
   "outputs": [
    {
     "name": "stdout",
     "output_type": "stream",
     "text": [
      "\n",
      "Logistic Regression Metrics:\n",
      "Accuracy: 0.7886178861788617\n",
      "Precision: 0.8252526249958856\n",
      "Recall: 0.7886178861788617\n",
      "F1 Score: 0.7614910090194872\n",
      "Classification Report:\n",
      "               precision    recall  f1-score   support\n",
      "\n",
      "           0       0.95      0.42      0.58        43\n",
      "           1       0.76      0.99      0.86        80\n",
      "\n",
      "    accuracy                           0.79       123\n",
      "   macro avg       0.85      0.70      0.72       123\n",
      "weighted avg       0.83      0.79      0.76       123\n",
      "\n"
     ]
    }
   ],
   "source": [
    "# Logistic Regression model\n",
    "lr_predictions = lr_model.predict(X_val)\n",
    "lr_predictions_numeric = [1 if pred == 'Y' else 0 for pred in lr_predictions]\n",
    "lr_accuracy = accuracy_score(y_val_numeric, lr_predictions_numeric)\n",
    "lr_precision = precision_score(y_val_numeric, lr_predictions_numeric, average='weighted')\n",
    "lr_recall = recall_score(y_val_numeric, lr_predictions_numeric, average='weighted')\n",
    "lr_f1 = f1_score(y_val_numeric, lr_predictions_numeric, average='weighted')\n",
    "lr_classification_report = classification_report(y_val_numeric, lr_predictions_numeric)\n",
    "\n",
    "# Print or use the metrics as needed\n",
    "print(\"\\nLogistic Regression Metrics:\")\n",
    "print(\"Accuracy:\", lr_accuracy)\n",
    "print(\"Precision:\", lr_precision)\n",
    "print(\"Recall:\", lr_recall)\n",
    "print(\"F1 Score:\", lr_f1)\n",
    "print(\"Classification Report:\\n\", lr_classification_report)"
   ]
  },
  {
   "cell_type": "code",
   "execution_count": 27,
   "metadata": {},
   "outputs": [
    {
     "name": "stdout",
     "output_type": "stream",
     "text": [
      "\n",
      "Naive Bayes Metrics:\n",
      "Accuracy: 0.7804878048780488\n",
      "Precision: 0.8071749940800379\n",
      "Recall: 0.7804878048780488\n",
      "F1 Score: 0.7542126006740163\n",
      "Classification Report:\n",
      "               precision    recall  f1-score   support\n",
      "\n",
      "           0       0.90      0.42      0.57        43\n",
      "           1       0.76      0.97      0.85        80\n",
      "\n",
      "    accuracy                           0.78       123\n",
      "   macro avg       0.83      0.70      0.71       123\n",
      "weighted avg       0.81      0.78      0.75       123\n",
      "\n"
     ]
    }
   ],
   "source": [
    "# Naive Bayes model\n",
    "nb_predictions_str = nb_model.predict(X_val)\n",
    "nb_predictions_numeric = [1 if pred == 'Y' else 0 for pred in nb_predictions_str]\n",
    "nb_accuracy = accuracy_score(y_val_numeric, nb_predictions_numeric)\n",
    "nb_precision = precision_score(y_val_numeric, nb_predictions_numeric, average='weighted')\n",
    "nb_recall = recall_score(y_val_numeric, nb_predictions_numeric, average='weighted')\n",
    "nb_f1 = f1_score(y_val_numeric, nb_predictions_numeric, average='weighted')\n",
    "nb_classification_report = classification_report(y_val_numeric, nb_predictions_numeric)\n",
    "\n",
    "# Print or use the metrics as needed\n",
    "print(\"\\nNaive Bayes Metrics:\")\n",
    "print(\"Accuracy:\", nb_accuracy)\n",
    "print(\"Precision:\", nb_precision)\n",
    "print(\"Recall:\", nb_recall)\n",
    "print(\"F1 Score:\", nb_f1)\n",
    "print(\"Classification Report:\\n\", nb_classification_report)"
   ]
  },
  {
   "cell_type": "code",
   "execution_count": 28,
   "metadata": {},
   "outputs": [
    {
     "name": "stdout",
     "output_type": "stream",
     "text": [
      "\n",
      "Random Forest Metrics:\n",
      "Accuracy: 0.7723577235772358\n",
      "Precision: 0.7906447131698207\n",
      "Recall: 0.7723577235772358\n",
      "F1 Score: 0.746990306441526\n",
      "Classification Report:\n",
      "               precision    recall  f1-score   support\n",
      "\n",
      "           0       0.86      0.42      0.56        43\n",
      "           1       0.75      0.96      0.85        80\n",
      "\n",
      "    accuracy                           0.77       123\n",
      "   macro avg       0.81      0.69      0.70       123\n",
      "weighted avg       0.79      0.77      0.75       123\n",
      "\n"
     ]
    }
   ],
   "source": [
    "# Random Forest model\n",
    "rf_predictions = rf_model.predict(X_val)\n",
    "rf_predictions_numeric = [1 if pred == 'Y' else 0 for pred in rf_predictions]\n",
    "rf_accuracy = accuracy_score(y_val_numeric, rf_predictions_numeric)\n",
    "rf_precision = precision_score(y_val_numeric, rf_predictions_numeric, average='weighted')\n",
    "rf_recall = recall_score(y_val_numeric, rf_predictions_numeric, average='weighted')\n",
    "rf_f1 = f1_score(y_val_numeric, rf_predictions_numeric, average='weighted')\n",
    "rf_classification_report = classification_report(y_val_numeric, rf_predictions_numeric)\n",
    "\n",
    "# Print or use the metrics as needed\n",
    "print(\"\\nRandom Forest Metrics:\")\n",
    "print(\"Accuracy:\", rf_accuracy)\n",
    "print(\"Precision:\", rf_precision)\n",
    "print(\"Recall:\", rf_recall)\n",
    "print(\"F1 Score:\", rf_f1)\n",
    "print(\"Classification Report:\\n\", rf_classification_report)"
   ]
  },
  {
   "cell_type": "code",
   "execution_count": 29,
   "metadata": {},
   "outputs": [
    {
     "name": "stdout",
     "output_type": "stream",
     "text": [
      "\n",
      "Decision Tree Metrics:\n",
      "Accuracy: 0.7967479674796748\n",
      "Precision: 0.8309692951298445\n",
      "Recall: 0.7967479674796748\n",
      "F1 Score: 0.7724190746981632\n",
      "Classification Report:\n",
      "               precision    recall  f1-score   support\n",
      "\n",
      "           0       0.95      0.44      0.60        43\n",
      "           1       0.77      0.99      0.86        80\n",
      "\n",
      "    accuracy                           0.80       123\n",
      "   macro avg       0.86      0.71      0.73       123\n",
      "weighted avg       0.83      0.80      0.77       123\n",
      "\n"
     ]
    }
   ],
   "source": [
    "# Decision Tree model\n",
    "dt_predictions = dt_model.predict(X_val)\n",
    "dt_predictions_numeric = [1 if pred == 'Y' else 0 for pred in dt_predictions]\n",
    "dt_accuracy = accuracy_score(y_val_numeric, dt_predictions_numeric)\n",
    "dt_precision = precision_score(y_val_numeric, dt_predictions_numeric, average='weighted')\n",
    "dt_recall = recall_score(y_val_numeric, dt_predictions_numeric, average='weighted')\n",
    "dt_f1 = f1_score(y_val_numeric, dt_predictions_numeric, average='weighted')\n",
    "dt_classification_report = classification_report(y_val_numeric, dt_predictions_numeric)\n",
    "\n",
    "# Print or use the metrics as needed\n",
    "print(\"\\nDecision Tree Metrics:\")\n",
    "print(\"Accuracy:\", dt_accuracy)\n",
    "print(\"Precision:\", dt_precision)\n",
    "print(\"Recall:\", dt_recall)\n",
    "print(\"F1 Score:\", dt_f1)\n",
    "print(\"Classification Report:\\n\", dt_classification_report)"
   ]
  },
  {
   "cell_type": "code",
   "execution_count": 30,
   "metadata": {},
   "outputs": [
    {
     "name": "stdout",
     "output_type": "stream",
     "text": [
      "\n",
      "Random Forest Regressor Metrics:\n",
      "Accuracy: 0.7886178861788617\n",
      "Precision: 0.8252526249958856\n",
      "Recall: 0.7886178861788617\n",
      "F1 Score: 0.7614910090194872\n",
      "Classification Report:\n",
      "               precision    recall  f1-score   support\n",
      "\n",
      "           0       0.95      0.42      0.58        43\n",
      "           1       0.76      0.99      0.86        80\n",
      "\n",
      "    accuracy                           0.79       123\n",
      "   macro avg       0.85      0.70      0.72       123\n",
      "weighted avg       0.83      0.79      0.76       123\n",
      "\n"
     ]
    }
   ],
   "source": [
    "# Random Forest Regressor model\n",
    "rf_regressor_predictions = (rf_regressor_model.predict(X_val) > 0.5).astype(int)\n",
    "rf_regressor_accuracy = accuracy_score(y_val_numeric, rf_regressor_predictions)\n",
    "rf_regressor_precision = precision_score(y_val_numeric, rf_regressor_predictions, average='weighted')\n",
    "rf_regressor_recall = recall_score(y_val_numeric, rf_regressor_predictions, average='weighted')\n",
    "rf_regressor_f1 = f1_score(y_val_numeric, rf_regressor_predictions, average='weighted')\n",
    "rf_regressor_classification_report = classification_report(y_val_numeric, rf_regressor_predictions)\n",
    "\n",
    "# Print or use the metrics as needed\n",
    "print(\"\\nRandom Forest Regressor Metrics:\")\n",
    "print(\"Accuracy:\", rf_regressor_accuracy)\n",
    "print(\"Precision:\", rf_regressor_precision)\n",
    "print(\"Recall:\", rf_regressor_recall)\n",
    "print(\"F1 Score:\", rf_regressor_f1)\n",
    "print(\"Classification Report:\\n\", rf_regressor_classification_report)"
   ]
  }
 ],
 "metadata": {
  "kernelspec": {
   "display_name": "Python 3",
   "language": "python",
   "name": "python3"
  },
  "language_info": {
   "codemirror_mode": {
    "name": "ipython",
    "version": 3
   },
   "file_extension": ".py",
   "mimetype": "text/x-python",
   "name": "python",
   "nbconvert_exporter": "python",
   "pygments_lexer": "ipython3",
   "version": "3.11.4"
  }
 },
 "nbformat": 4,
 "nbformat_minor": 2
}
