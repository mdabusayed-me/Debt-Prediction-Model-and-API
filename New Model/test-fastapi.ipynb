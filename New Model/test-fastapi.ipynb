{
 "cells": [
  {
   "cell_type": "code",
   "execution_count": 3,
   "metadata": {},
   "outputs": [],
   "source": [
    "import pickle\n",
    "import pandas as pd"
   ]
  },
  {
   "cell_type": "code",
   "execution_count": null,
   "metadata": {},
   "outputs": [],
   "source": [
    "# LP001027,Male,Yes,2,Graduate,,2500,1840,109,360,1,Urban,Y"
   ]
  },
  {
   "cell_type": "code",
   "execution_count": 17,
   "metadata": {},
   "outputs": [],
   "source": [
    "data = {\n",
    "    'gender': 'Male',\n",
    "    'married': 'Yes',\n",
    "    'dependents': '2',\n",
    "    'education': 'Graduate',\n",
    "    'self_employed': 'No',\n",
    "    'applicantIncome': 0,\n",
    "    'coapplicant_income': 0,\n",
    "    'loan_amount': 109,\n",
    "    'loan_amount_term': 360,\n",
    "    'credit_history': 1,\n",
    "    'property_area': 'Urban'\n",
    "}"
   ]
  },
  {
   "cell_type": "code",
   "execution_count": 4,
   "metadata": {},
   "outputs": [],
   "source": [
    "with open('random_forest_model.pkl', 'rb') as file:\n",
    "    model = pickle.load(file)"
   ]
  },
  {
   "cell_type": "code",
   "execution_count": 18,
   "metadata": {},
   "outputs": [
    {
     "data": {
      "text/plain": [
       "array(['N'], dtype=object)"
      ]
     },
     "execution_count": 18,
     "metadata": {},
     "output_type": "execute_result"
    }
   ],
   "source": [
    "input_data_df = pd.DataFrame([data])\n",
    "\n",
    "# Convert categorical variables to dummy/indicator variables\n",
    "input_data_df = pd.get_dummies(input_data_df, columns=['gender', 'married', 'dependents', 'education', 'self_employed', 'property_area'])\n",
    "\n",
    "# Ensure the order of columns matches the order during training\n",
    "input_data_df = input_data_df.reindex(columns=model.feature_names_in_, fill_value=0)\n",
    "\n",
    "# Make predictions using the loaded model\n",
    "model.predict(input_data_df)"
   ]
  },
  {
   "cell_type": "code",
   "execution_count": null,
   "metadata": {},
   "outputs": [],
   "source": []
  },
  {
   "cell_type": "markdown",
   "metadata": {},
   "source": []
  }
 ],
 "metadata": {
  "kernelspec": {
   "display_name": "venv",
   "language": "python",
   "name": "python3"
  },
  "language_info": {
   "codemirror_mode": {
    "name": "ipython",
    "version": 3
   },
   "file_extension": ".py",
   "mimetype": "text/x-python",
   "name": "python",
   "nbconvert_exporter": "python",
   "pygments_lexer": "ipython3",
   "version": "3.11.6"
  }
 },
 "nbformat": 4,
 "nbformat_minor": 2
}
